{
 "cells": [
  {
   "cell_type": "markdown",
   "id": "af469157",
   "metadata": {},
   "source": [
    "### Patrick Horlaville (260931235) - Problem Set 4 - PHYS 512 : Computational Physics with Applications"
   ]
  },
  {
   "cell_type": "markdown",
   "id": "a6614520",
   "metadata": {},
   "source": [
    "Prof: Jon Sievers. TAs: Marcus Merryfield, Rigel Zifkin, Daniel Coelho"
   ]
  },
  {
   "cell_type": "code",
   "execution_count": 3,
   "id": "f10fde7f",
   "metadata": {},
   "outputs": [],
   "source": [
    "import numpy as np\n",
    "from scipy import integrate\n",
    "import matplotlib.pyplot as plt\n",
    "import astropy.units as un"
   ]
  },
  {
   "cell_type": "markdown",
   "id": "8d844fac",
   "metadata": {},
   "source": [
    "## Problem 1"
   ]
  },
  {
   "cell_type": "markdown",
   "id": "29e7b3dd",
   "metadata": {},
   "source": [
    "a)"
   ]
  },
  {
   "cell_type": "markdown",
   "id": "40a37066",
   "metadata": {},
   "source": [
    "We first load the data"
   ]
  },
  {
   "cell_type": "code",
   "execution_count": 4,
   "id": "088e38ce",
   "metadata": {},
   "outputs": [],
   "source": [
    "data = np.load('sidebands.npz')\n",
    "t = data['time']\n",
    "d = data['signal']"
   ]
  },
  {
   "cell_type": "code",
   "execution_count": 5,
   "id": "857c68b3",
   "metadata": {},
   "outputs": [
    {
     "data": {
      "text/plain": [
       "(array([-5.0e-05,  0.0e+00,  5.0e-05,  1.0e-04,  1.5e-04,  2.0e-04,\n",
       "         2.5e-04,  3.0e-04,  3.5e-04,  4.0e-04,  4.5e-04]),\n",
       " [Text(0, 0, ''),\n",
       "  Text(0, 0, ''),\n",
       "  Text(0, 0, ''),\n",
       "  Text(0, 0, ''),\n",
       "  Text(0, 0, ''),\n",
       "  Text(0, 0, ''),\n",
       "  Text(0, 0, ''),\n",
       "  Text(0, 0, ''),\n",
       "  Text(0, 0, ''),\n",
       "  Text(0, 0, ''),\n",
       "  Text(0, 0, '')])"
      ]
     },
     "execution_count": 5,
     "metadata": {},
     "output_type": "execute_result"
    },
    {
     "data": {
      "image/png": "[encoded data removed]",
      "text/plain": [
       "<Figure size 432x288 with 1 Axes>"
      ]
     },
     "metadata": {
      "needs_background": "light"
     },
     "output_type": "display_data"
    }
   ],
   "source": [
    "plt.plot(t, d)\n",
    "plt.xlabel('time')\n",
    "plt.ylabel('data value')\n",
    "plt.title('Data to fit')\n",
    "plt.xticks(rotation = 45)"
   ]
  },
  {
   "cell_type": "markdown",
   "id": "51e43258",
   "metadata": {},
   "source": [
    "Now we would like to model the data as a single Lorentzian and use analytic derivatives. To do so, we use Newton's method to carry out the fit. We parametrize the Lorentzian as $d = \\frac{a}{1 + (t - t_0)^2/\\omega^2}$"
   ]
  },
  {
   "cell_type": "markdown",
   "id": "9eb9149e",
   "metadata": {},
   "source": [
    "From the data, we can come up with initial guesses for the different parameters we will use: amplitude $a$ ~ 1.4, peak location $t_0$ ~ 0.00019 and peak spread $\\omega$ ~ 0.00001"
   ]
  },
  {
   "cell_type": "code",
   "execution_count": 6,
   "id": "07ef1b7b",
   "metadata": {},
   "outputs": [],
   "source": [
    "p0 = np.array([1.4, 0.00019, 0.00001])"
   ]
  },
  {
   "cell_type": "markdown",
   "id": "b05d4347",
   "metadata": {},
   "source": [
    "Use code snippet from \"newton.py\" from the modelling directory, adapting it to the form of the model we are using for $d$:"
   ]
  },
  {
   "cell_type": "code",
   "execution_count": 7,
   "id": "c841450f",
   "metadata": {},
   "outputs": [],
   "source": [
    "def lorentz_d(p, t):\n",
    "    \n",
    "    a, t0, w = p[0], p[1], p[2]\n",
    "    y = a/(1 + ((t - t0)/w)**2)\n",
    "    grad = np.zeros([t.size, p.size])\n",
    "\n",
    "    grad[:,0] = 1.0/(p[1] + (t - p[2])**2)\n",
    "    grad[:,1] = - p[0]/(p[1] + (t - p[2])**2)**2\n",
    "    grad[:,2] = p[0]*2*(t - p[2])/(p[1] + (t - p[2])**2)**2\n",
    "    \n",
    "    return y, grad"
   ]
  },
  {
   "cell_type": "code",
   "execution_count": 8,
   "id": "668e7837",
   "metadata": {},
   "outputs": [],
   "source": [
    "def newtons_method_lorentz(p, t):\n",
    "    \n",
    "    y_true = data['signal']\n",
    "    \n",
    "    new_ps = p\n",
    "\n",
    "    for i in range(100):\n",
    "        pred, grad = lorentz_d(new_ps, t)  \n",
    "        res = y_true - pred  \n",
    "        res = np.matrix(res).T\n",
    "        grad = np.matrix(grad)\n",
    "        dp = np.linalg.pinv(grad.T*grad)*(grad.T*res)\n",
    " \n",
    "        for i in range(len(new_ps)):\n",
    "            new_ps[i] += dp[i]\n",
    "        new_ps = np.asarray(new_ps)\n",
    "        \n",
    "    return new_ps"
   ]
  },
  {
   "cell_type": "code",
   "execution_count": 9,
   "id": "9daceeef",
   "metadata": {},
   "outputs": [],
   "source": [
    "p_new1a = newtons_method_lorentz(p0, t)"
   ]
  },
  {
   "cell_type": "code",
   "execution_count": 10,
   "id": "814aea12",
   "metadata": {},
   "outputs": [],
   "source": [
    "y1a, grad1a = lorentz_d(p_new1a, t)"
   ]
  },
  {
   "cell_type": "code",
   "execution_count": 11,
   "id": "421abfb8",
   "metadata": {},
   "outputs": [
    {
     "name": "stdout",
     "output_type": "stream",
     "text": [
      "Parameters found: a = 1.3999999965497165 , t_0 = 0.0001898262518406272 , omega = -1.4119742103716972e-05\n"
     ]
    },
    {
     "data": {
      "image/png": "[encoded data removed]",
      "text/plain": [
       "<Figure size 432x288 with 1 Axes>"
      ]
     },
     "metadata": {
      "needs_background": "light"
     },
     "output_type": "display_data"
    }
   ],
   "source": [
    "plt.plot(t, d, label = 'True data')\n",
    "plt.plot(t, y1a, label = 'Lorentzian fit')\n",
    "plt.xlabel('Time [s]')\n",
    "plt.ylabel('Signal')\n",
    "plt.title('Lorentzian fit over the data')\n",
    "plt.legend()\n",
    "plt.xticks(rotation = 45)\n",
    "print('Parameters found: a =', p_new1a[0], ', t_0 =', p_new1a[1], ', omega =', p_new1a[2])"
   ]
  },
  {
   "cell_type": "code",
   "execution_count": 12,
   "id": "1e53d435",
   "metadata": {},
   "outputs": [
    {
     "data": {
      "text/plain": [
       "Text(0.5, 0, 'Time [s]')"
      ]
     },
     "execution_count": 12,
     "metadata": {},
     "output_type": "execute_result"
    },
    {
     "data": {
      "image/png": "[encoded data removed]",
      "text/plain": [
       "<Figure size 432x288 with 1 Axes>"
      ]
     },
     "metadata": {
      "needs_background": "light"
     },
     "output_type": "display_data"
    }
   ],
   "source": [
    "plt.plot(t, d - y1a)\n",
    "plt.xticks(rotation = 45)\n",
    "plt.title('Residuals from the Lorentzian fit')\n",
    "plt.ylabel('Residuals')\n",
    "plt.xlabel('Time [s]')"
   ]
  },
  {
   "cell_type": "markdown",
   "id": "bc8604ae",
   "metadata": {},
   "source": [
    "b)"
   ]
  },
  {
   "cell_type": "markdown",
   "id": "61ebc02b",
   "metadata": {},
   "source": [
    "Now we estimate the noise in the data, and from it, estimate the error on our parameters"
   ]
  },
  {
   "cell_type": "code",
   "execution_count": 13,
   "id": "4bd62eda",
   "metadata": {},
   "outputs": [],
   "source": [
    "sigma = np.std(d)\n",
    "sc_sigma = sigma/np.sqrt(len(d))"
   ]
  },
  {
   "cell_type": "code",
   "execution_count": 14,
   "id": "bef1d4ad",
   "metadata": {},
   "outputs": [],
   "source": [
    "cov_inv = np.eye(len(t))\n",
    "np.fill_diagonal(cov_inv, 1/(sc_sigma**2))"
   ]
  },
  {
   "cell_type": "markdown",
   "id": "f340ea1f",
   "metadata": {},
   "source": [
    "The following code chunk doesn't work. The simple first matrix multiplication to be done in the 'cov' definition \n",
    "kills the kernel after a minute or two. After all, those are 100 000 by 100 000 matrices, but I don't know\n",
    "if this was to be expected."
   ]
  },
  {
   "cell_type": "code",
   "execution_count": null,
   "id": "959440f7",
   "metadata": {},
   "outputs": [],
   "source": [
    "'''\n",
    "cov = np.linalg.pinv(grad1a.T@cov_inv@grad1a)\n",
    "errs = np.sqrt(np.diag(cov))\n",
    "print('The error on a is:', errs[0])\n",
    "print('The error on t0 is:', errs[1])\n",
    "print('The error on w is:', errs[2])\n",
    "'''"
   ]
  },
  {
   "cell_type": "markdown",
   "id": "b9ec9178",
   "metadata": {},
   "source": [
    "I ended up managing to run the code to make the covariance matrix on another machine. So just pushed the array on github and I load it here!"
   ]
  },
  {
   "cell_type": "code",
   "execution_count": 15,
   "id": "6534cde1",
   "metadata": {},
   "outputs": [
    {
     "name": "stdout",
     "output_type": "stream",
     "text": [
      "The error on a is: 5.6170203222334366e-14\n",
      "The error on t0 is: 1.7872142196859857e-13\n",
      "The error on w is: 3.674885339197751e-10\n"
     ]
    }
   ],
   "source": [
    "cov = np.load(\"mycov1.npy\")\n",
    "errs = np.sqrt(np.diag(cov))\n",
    "print('The error on a is:', errs[0])\n",
    "print('The error on t0 is:', errs[1])\n",
    "print('The error on w is:', errs[2])"
   ]
  },
  {
   "cell_type": "markdown",
   "id": "3c16c8b9",
   "metadata": {},
   "source": [
    "The error seems to be particularly small compared to the accuracy of the fit to the data [c.f. previous plot]"
   ]
  },
  {
   "cell_type": "markdown",
   "id": "78898723",
   "metadata": {},
   "source": [
    "c)"
   ]
  },
  {
   "cell_type": "markdown",
   "id": "724ee937",
   "metadata": {},
   "source": [
    "We repeat part a) but using numerical derivatives. First we define a derivative function, then we will have different f functions whose variable will be the different parameters. The derivative is taken with respect to the different parameters to have the gradients for each parameter (to do so, we use lambda functions. It helps in having to avoid defining many different functions. We only define three f functions that take as variable each parameter. We compute the gradient numerically with a derivative function). We take an arbitrarily small time step dt."
   ]
  },
  {
   "cell_type": "code",
   "execution_count": 16,
   "id": "34bf151f",
   "metadata": {},
   "outputs": [],
   "source": [
    "dt = 10**(-8)\n",
    "deriv = lambda f, t: 1/(2*dt)*(f(t + dt) - f(t - dt))"
   ]
  },
  {
   "cell_type": "code",
   "execution_count": 17,
   "id": "beaf27a0",
   "metadata": {},
   "outputs": [],
   "source": [
    "def lorentz_num(p, t):\n",
    "    \n",
    "    a, t0, w = p[0], p[1], p[2]\n",
    "    y = a/(1 + ((t - t0)/w)**2)\n",
    "\n",
    "    f_a = lambda x: x/(1 + ((t - t0)/w)**2)\n",
    "    f_t0 = lambda y: a/(1+((t - y)/w)**2)\n",
    "    f_w = lambda z: a/(1+((t - t0)/z)**2)\n",
    "\n",
    "    grad = np.zeros([len(t), len(p)])\n",
    "    grad[:,0] = deriv(f_a, a)\n",
    "    grad[:,1] = deriv(f_t0, t0)\n",
    "    grad[:,2] = deriv(f_w, w)\n",
    "\n",
    "    return y, grad"
   ]
  },
  {
   "cell_type": "code",
   "execution_count": 18,
   "id": "7719f943",
   "metadata": {},
   "outputs": [],
   "source": [
    "def newtons_method_lorentz_num(data, p, t, n):\n",
    "    \n",
    "    y_true = data['signal']\n",
    "    new_ps = p\n",
    "    \n",
    "    for i in range(n):\n",
    "        calc, grad = lorentz_num(new_ps, t)  \n",
    "        res = y_true - calc  \n",
    "        res = np.matrix(res).T  \n",
    "        grad = np.matrix(grad)\n",
    "        dp = np.linalg.pinv(grad.T*grad)*(grad.T*res)\n",
    " \n",
    "        for i in range(len(new_ps)):\n",
    "            new_ps[i] += dp[i]\n",
    "        new_ps = np.asarray(new_ps)\n",
    "        \n",
    "    return new_ps"
   ]
  },
  {
   "cell_type": "code",
   "execution_count": 19,
   "id": "29640da7",
   "metadata": {},
   "outputs": [],
   "source": [
    "p_new1b = newtons_method_lorentz_num(data, p0, t, 500)\n",
    "y1b, grad1b = lorentz_d(p_new1b, t)"
   ]
  },
  {
   "cell_type": "code",
   "execution_count": 20,
   "id": "b48b2e16",
   "metadata": {},
   "outputs": [
    {
     "name": "stdout",
     "output_type": "stream",
     "text": [
      "Parameters found: a = 1.4228106821838835 , t_0 = 0.0001923586492623034 , omega = -1.792369075490326e-05\n"
     ]
    },
    {
     "data": {
      "image/png": "[encoded data removed]",
      "text/plain": [
       "<Figure size 432x288 with 1 Axes>"
      ]
     },
     "metadata": {
      "needs_background": "light"
     },
     "output_type": "display_data"
    }
   ],
   "source": [
    "plt.plot(t, d, label = \"True data\")\n",
    "plt.plot(t, y1b, label = \"Numerical Lorentzian fit\")\n",
    "plt.xlabel('Time [s]')\n",
    "plt.ylabel('Signal')\n",
    "plt.title('Numerical Lorentzian fit over the data')\n",
    "plt.legend()\n",
    "plt.xticks(rotation = 45)\n",
    "print('Parameters found: a =', p_new1b[0], ', t_0 =', p_new1b[1], ', omega =', p_new1b[2])"
   ]
  },
  {
   "cell_type": "code",
   "execution_count": 21,
   "id": "31f11014",
   "metadata": {},
   "outputs": [
    {
     "data": {
      "text/plain": [
       "Text(0.5, 0, 'Time [s]')"
      ]
     },
     "execution_count": 21,
     "metadata": {},
     "output_type": "execute_result"
    },
    {
     "data": {
      "image/png": "[encoded data removed]",
      "text/plain": [
       "<Figure size 432x288 with 1 Axes>"
      ]
     },
     "metadata": {
      "needs_background": "light"
     },
     "output_type": "display_data"
    }
   ],
   "source": [
    "plt.plot(t, d - y1b)\n",
    "plt.xticks(rotation = 45)\n",
    "plt.title('Residuals from the numerical Lorentzian fit')\n",
    "plt.ylabel('Residuals')\n",
    "plt.xlabel('Time [s]')"
   ]
  },
  {
   "cell_type": "markdown",
   "id": "4541bcaa",
   "metadata": {},
   "source": [
    "The numerical derivatives approach yields similar parameters as in a), although the order of magnitude of discrepancy between the data and the fit seems to be lower than in a), as the comparison of the residuals' plot shows."
   ]
  },
  {
   "cell_type": "markdown",
   "id": "f71e3670",
   "metadata": {},
   "source": [
    "d)"
   ]
  },
  {
   "cell_type": "markdown",
   "id": "ca05c73a",
   "metadata": {},
   "source": [
    "Now we repeat part c) but we model the data as the addition of three Lorentzian functions. Very similarly, we define our lambda functions for each parameter and we define the gradient numerically with our deriv function."
   ]
  },
  {
   "cell_type": "code",
   "execution_count": 22,
   "id": "2b8c0e10",
   "metadata": {},
   "outputs": [],
   "source": [
    "def lorentzian_3lor(p, t):\n",
    "    \n",
    "    a, b, c, t0, t1, w = p\n",
    "    y = a/(1 + ((t - t0)/w)**2) + b/(1 + ((t - t0 + t1)/w)**2) + c/(1 + ((t - t0 - t1)/w)**2)\n",
    "\n",
    "    fa = lambda x1: x1/(1 + ((t - t0)/w)**2) + b/(1 + ((t - t0 + t1)/w)**2) + c/(1 + ((t - t0 - t1)/w)**2)\n",
    "    fb = lambda x2: a/(1 + ((t - t0)/w)**2) + x2/(1 + ((t - t0 + t1)/w)**2) + c/(1 + ((t - t0 - t1)/w)**2)\n",
    "    fc = lambda x3: a/(1 + ((t - t0)/w)**2) + b/(1 +((t - t0 + t1)/w)**2) + x3/(1 + ((t - t0 - t1)/w)**2)\n",
    "    ft0 = lambda x4: a/(1 + ((t - x4)/w)**2) + b/(1 +((t - x4 + t1)/w)**2) + c/(1 + ((t - x4 - t1)/w)**2)\n",
    "    ft1 = lambda x5: a/(1 + ((t - t0)/w)**2) + b/(1 + ((t - t0 + x5)/w)**2) + c/(1 + ((t - t0 - x5)/w)**2)\n",
    "    fw = lambda x6: a/(1 + ((t - t0)/x6)**2) + b/(1 + ((t - t0 + t1)/x6)**2) + c/(1 + ((t - t0 - t1)/x6)**2)\n",
    "\n",
    "    grad = np.zeros([len(t), len(p)])\n",
    "    grad[:,0], grad[:,1], grad[:,2] = deriv(fa, a), deriv(fb, b), deriv(fc, c)\n",
    "    grad[:,3], grad[:,4], grad[:,5] = deriv(ft0, t0), deriv(ft1, t1), deriv(fw, w)\n",
    "\n",
    "    return y, grad"
   ]
  },
  {
   "cell_type": "code",
   "execution_count": 23,
   "id": "4194166a",
   "metadata": {},
   "outputs": [],
   "source": [
    "def newtons_method_3lor(data, p, t, n):\n",
    "    \n",
    "    y_true = data['signal']\n",
    "    p_new = p\n",
    "    \n",
    "    for i in range(n):\n",
    "        calc, grad = lorentzian_3lor(p_new, t)  \n",
    "        res = y_true - calc  \n",
    "        res = np.matrix(res).T\n",
    "        grad = np.matrix(grad)\n",
    "        dp = np.linalg.pinv(grad.T*grad)*(grad.T*res)\n",
    " \n",
    "        for i in range(len(p_new)):\n",
    "            p_new[i] += dp[i]\n",
    "            \n",
    "        p_new = np.asarray(p_new)\n",
    "        \n",
    "    return p_new"
   ]
  },
  {
   "cell_type": "markdown",
   "id": "87a27445",
   "metadata": {},
   "source": [
    "We need to have estimates for the amplitude of the two other Lorentzian peaks, which from the data plot seem to be of order ~ 0.3, and their distance from the main peak seems to be of order ~ 0.00005"
   ]
  },
  {
   "cell_type": "code",
   "execution_count": 24,
   "id": "825161a3",
   "metadata": {},
   "outputs": [],
   "source": [
    "p0_3lor= np.array([1.5, 0.3, 0.3, 0.00019, 0.00005, 0.00001])\n",
    "p_new1d = newtons_method_3lor(data, p0_3lor, t, 100) \n",
    "y1d, grad1d = lorentzian_3lor(p_new1d, t)"
   ]
  },
  {
   "cell_type": "code",
   "execution_count": 25,
   "id": "ac9e0d13",
   "metadata": {},
   "outputs": [
    {
     "name": "stdout",
     "output_type": "stream",
     "text": [
      "The best-fit parameters for the sum of Lorentzians using numerical derivatives are:\n",
      "a: 1.4429923932697661\n",
      "b: 0.10391077998946781\n",
      "c: 0.06473253000825782\n",
      "t0: 0.00019257852173624665\n",
      "t1: 4.456716295451412e-05\n",
      "w: 1.6065109423762263e-05\n"
     ]
    }
   ],
   "source": [
    "print(\"The best-fit parameters for the sum of Lorentzians using numerical derivatives are:\")\n",
    "print(\"a:\", p_new1d[0])\n",
    "print(\"b:\", p_new1d[1])\n",
    "print(\"c:\", p_new1d[2])\n",
    "print(\"t0:\", p_new1d[3])\n",
    "print(\"t1:\", p_new1d[4])\n",
    "print(\"w:\", p_new1d[5])"
   ]
  },
  {
   "cell_type": "code",
   "execution_count": 26,
   "id": "240ea6b4",
   "metadata": {},
   "outputs": [
    {
     "data": {
      "text/plain": [
       "(array([-5.0e-05,  0.0e+00,  5.0e-05,  1.0e-04,  1.5e-04,  2.0e-04,\n",
       "         2.5e-04,  3.0e-04,  3.5e-04,  4.0e-04,  4.5e-04]),\n",
       " [Text(0, 0, ''),\n",
       "  Text(0, 0, ''),\n",
       "  Text(0, 0, ''),\n",
       "  Text(0, 0, ''),\n",
       "  Text(0, 0, ''),\n",
       "  Text(0, 0, ''),\n",
       "  Text(0, 0, ''),\n",
       "  Text(0, 0, ''),\n",
       "  Text(0, 0, ''),\n",
       "  Text(0, 0, ''),\n",
       "  Text(0, 0, '')])"
      ]
     },
     "execution_count": 26,
     "metadata": {},
     "output_type": "execute_result"
    },
    {
     "data": {
      "image/png": "[encoded data removed]",
      "text/plain": [
       "<Figure size 432x288 with 1 Axes>"
      ]
     },
     "metadata": {
      "needs_background": "light"
     },
     "output_type": "display_data"
    }
   ],
   "source": [
    "plt.plot(t, d, label = 'True data')\n",
    "plt.plot(t, y1d, label = 'Three Lorentzian fits')\n",
    "plt.xlabel('Time [s]')\n",
    "plt.ylabel('Signal')\n",
    "plt.title('Three Lorentzian fits over the data')\n",
    "plt.legend()\n",
    "plt.xticks(rotation = 45)"
   ]
  },
  {
   "cell_type": "code",
   "execution_count": 27,
   "id": "c12ecd53",
   "metadata": {},
   "outputs": [
    {
     "data": {
      "text/plain": [
       "Text(0.5, 0, 'Time [s]')"
      ]
     },
     "execution_count": 27,
     "metadata": {},
     "output_type": "execute_result"
    },
    {
     "data": {
      "image/png": "[encoded data removed]",
      "text/plain": [
       "<Figure size 432x288 with 1 Axes>"
      ]
     },
     "metadata": {
      "needs_background": "light"
     },
     "output_type": "display_data"
    }
   ],
   "source": [
    "plt.plot(t, d - y1d)\n",
    "plt.xticks(rotation = 45)\n",
    "plt.title('Residuals from the 3 Lorentzian fit')\n",
    "plt.ylabel('Residuals')\n",
    "plt.xlabel('Time [s]')"
   ]
  },
  {
   "cell_type": "markdown",
   "id": "2a1dc113",
   "metadata": {},
   "source": [
    "Again, the code to compute the covariance matrix kills the kernel. Once more, I run it on another machine, put it on github and load it:"
   ]
  },
  {
   "cell_type": "code",
   "execution_count": null,
   "id": "87ce013b",
   "metadata": {},
   "outputs": [],
   "source": [
    "'''\n",
    "cov_d = np.linalg.pinv(grad1d.transpose()@cov_inv@grad1d)\n",
    "errs_d = np.sqrt(np.diag(cov_d))\n",
    "'''"
   ]
  },
  {
   "cell_type": "code",
   "execution_count": 28,
   "id": "9c8710a8",
   "metadata": {},
   "outputs": [],
   "source": [
    "cov_d = np.load(\"mycov_3lor.npy\")\n",
    "errs_d = np.sqrt(np.diag(cov_d))"
   ]
  },
  {
   "cell_type": "code",
   "execution_count": 29,
   "id": "654d7049",
   "metadata": {},
   "outputs": [
    {
     "name": "stdout",
     "output_type": "stream",
     "text": [
      "Errors on parameters are:\n",
      "Error on a is: 1.9044456492900022e-05\n",
      "Error on b is: 1.8164391307338086e-05\n",
      "Error on c is: 1.7786013804857236e-05\n",
      "Error on t0 is: 2.2547830597826696e-10\n",
      "Error on t1 is: 2.718178487099205e-09\n",
      "Error on w is: 4.0381245203269164e-10\n"
     ]
    }
   ],
   "source": [
    "print('Errors on parameters are:')\n",
    "print('Error on a is:', errs_d[0])\n",
    "print('Error on b is:', errs_d[1])\n",
    "print('Error on c is:', errs_d[2])\n",
    "print('Error on t0 is:', errs_d[3])\n",
    "print('Error on t1 is:', errs_d[4])\n",
    "print('Error on w is:', errs_d[5])"
   ]
  },
  {
   "cell_type": "markdown",
   "id": "15091056",
   "metadata": {},
   "source": [
    "Again, the error on the parameters seems underestimated, although given the errors here are in general bigger than in a) and given the fit is much better than in a), that discrepancy does not seem to be as important."
   ]
  },
  {
   "cell_type": "markdown",
   "id": "a42ba29b",
   "metadata": {},
   "source": [
    "e)"
   ]
  },
  {
   "cell_type": "markdown",
   "id": "4a3274b8",
   "metadata": {},
   "source": [
    "Here we look at the residuals from the calculated fit found in d)"
   ]
  },
  {
   "cell_type": "code",
   "execution_count": 30,
   "id": "b03c0ac5",
   "metadata": {},
   "outputs": [
    {
     "data": {
      "text/plain": [
       "(array([-5.0e-05,  0.0e+00,  5.0e-05,  1.0e-04,  1.5e-04,  2.0e-04,\n",
       "         2.5e-04,  3.0e-04,  3.5e-04,  4.0e-04,  4.5e-04]),\n",
       " [Text(0, 0, ''),\n",
       "  Text(0, 0, ''),\n",
       "  Text(0, 0, ''),\n",
       "  Text(0, 0, ''),\n",
       "  Text(0, 0, ''),\n",
       "  Text(0, 0, ''),\n",
       "  Text(0, 0, ''),\n",
       "  Text(0, 0, ''),\n",
       "  Text(0, 0, ''),\n",
       "  Text(0, 0, ''),\n",
       "  Text(0, 0, '')])"
      ]
     },
     "execution_count": 30,
     "metadata": {},
     "output_type": "execute_result"
    },
    {
     "data": {
      "image/png": "[encoded data removed]",
      "text/plain": [
       "<Figure size 432x288 with 1 Axes>"
      ]
     },
     "metadata": {
      "needs_background": "light"
     },
     "output_type": "display_data"
    }
   ],
   "source": [
    "plt.plot(t, d - y1d)\n",
    "plt.title('Residuals from the 3 Lorentzian fits')\n",
    "plt.xlabel('Time [s]')\n",
    "plt.ylabel('Residuals')\n",
    "plt.xticks(rotation = 45)"
   ]
  },
  {
   "cell_type": "markdown",
   "id": "0c568236",
   "metadata": {},
   "source": [
    "The look of the residuals does not look much random, rather it seems there is still some structure to it, especially near the peak. It is hence fair to say that our model of the three Lorentzian could be upgraded, and that it models our data in a limited fashion given the structure of the residuals. However, our current model is not that bad, with the structure having an amplitude of order ~ 0.04."
   ]
  },
  {
   "cell_type": "markdown",
   "id": "da4804e9",
   "metadata": {},
   "source": [
    "f)"
   ]
  },
  {
   "cell_type": "markdown",
   "id": "d20e0ad6",
   "metadata": {},
   "source": [
    "Now we perturbate our parameters found in d) with the errors and the covariance matrix. Then we can compute the $\\chi^2$ for each of those and if the model is well behaved, the $\\chi^2$ should be similar between the different realizations."
   ]
  },
  {
   "cell_type": "code",
   "execution_count": 1,
   "id": "3d821686",
   "metadata": {},
   "outputs": [
    {
     "data": {
      "text/plain": [
       "'\\nfor i in range(n):\\n    \\n    p_pert = p_new1d + cov_d@np.random.randn(len(p_new1d))\\n    y_pert, grad_pert = lorentzian_3lor(p_pert, t)\\n    res_pert = d - y_pert\\n    \\n    chisqs[i] = res_pert.T@cov_inv@res_pert \\n'"
      ]
     },
     "execution_count": 1,
     "metadata": {},
     "output_type": "execute_result"
    }
   ],
   "source": [
    "n = 50\n",
    "\n",
    "chisqs = [0 for i in range(n)]\n",
    "\n",
    "'''\n",
    "res_1d = d - y1d\n",
    "chisq_1d = res_1d.T@cov_inv@res_1d\n",
    "\n",
    "for i in range(n):\n",
    "    \n",
    "    p_pert = p_new1d + cov_d@np.random.randn(len(p_new1d))\n",
    "    y_pert, grad_pert = lorentzian_3lor(p_pert, t)\n",
    "    res_pert = d - y_pert\n",
    "    \n",
    "    chisqs[i] = res_pert.T@cov_inv@res_pert \n",
    "'''"
   ]
  },
  {
   "cell_type": "markdown",
   "id": "f2f21afb",
   "metadata": {},
   "source": [
    "g)"
   ]
  },
  {
   "cell_type": "code",
   "execution_count": null,
   "id": "fc1057b1",
   "metadata": {},
   "outputs": [],
   "source": []
  },
  {
   "cell_type": "code",
   "execution_count": null,
   "id": "23883e9d",
   "metadata": {},
   "outputs": [],
   "source": []
  },
  {
   "cell_type": "code",
   "execution_count": null,
   "id": "4926c392",
   "metadata": {},
   "outputs": [],
   "source": []
  }
 ],
 "metadata": {
  "kernelspec": {
   "display_name": "Python 3",
   "language": "python",
   "name": "python3"
  },
  "language_info": {
   "codemirror_mode": {
    "name": "ipython",
    "version": 3
   },
   "file_extension": ".py",
   "mimetype": "text/x-python",
   "name": "python",
   "nbconvert_exporter": "python",
   "pygments_lexer": "ipython3",
   "version": "3.8.8"
  }
 },
 "nbformat": 4,
 "nbformat_minor": 5
}
