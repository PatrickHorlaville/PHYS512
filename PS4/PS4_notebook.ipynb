{
 "cells": [
  {
   "cell_type": "markdown",
   "id": "c869a396",
   "metadata": {},
   "source": [
    "### Patrick Horlaville (260931235) - Problem Set 4 - PHYS 512 : Computational Physics with Applications"
   ]
  },
  {
   "cell_type": "markdown",
   "id": "04b4fcd0",
   "metadata": {},
   "source": [
    "Prof: Jon Sievers. TAs: Marcus Merryfield, Rigel Zifkin, Daniel Coelho"
   ]
  },
  {
   "cell_type": "code",
   "execution_count": 1,
   "id": "998f63bd",
   "metadata": {},
   "outputs": [],
   "source": [
    "import numpy as np\n",
    "from scipy import integrate\n",
    "import matplotlib.pyplot as plt\n",
    "import astropy.units as un"
   ]
  },
  {
   "cell_type": "markdown",
   "id": "9500cddd",
   "metadata": {},
   "source": [
    "## Problem 1"
   ]
  },
  {
   "cell_type": "markdown",
   "id": "8ca8ca2e",
   "metadata": {},
   "source": [
    "a)"
   ]
  },
  {
   "cell_type": "markdown",
   "id": "846d5225",
   "metadata": {},
   "source": [
    "We first load the data"
   ]
  },
  {
   "cell_type": "code",
   "execution_count": 2,
   "id": "13c3a356",
   "metadata": {},
   "outputs": [],
   "source": [
    "data = np.load('sidebands.npz')\n",
    "t = data['time']\n",
    "d = data['signal']"
   ]
  },
  {
   "cell_type": "code",
   "execution_count": 3,
   "id": "6d2841fe",
   "metadata": {},
   "outputs": [
    {
     "data": {
      "text/plain": [
       "(array([-5.0e-05,  0.0e+00,  5.0e-05,  1.0e-04,  1.5e-04,  2.0e-04,\n",
       "         2.5e-04,  3.0e-04,  3.5e-04,  4.0e-04,  4.5e-04]),\n",
       " [Text(0, 0, ''),\n",
       "  Text(0, 0, ''),\n",
       "  Text(0, 0, ''),\n",
       "  Text(0, 0, ''),\n",
       "  Text(0, 0, ''),\n",
       "  Text(0, 0, ''),\n",
       "  Text(0, 0, ''),\n",
       "  Text(0, 0, ''),\n",
       "  Text(0, 0, ''),\n",
       "  Text(0, 0, ''),\n",
       "  Text(0, 0, '')])"
      ]
     },
     "execution_count": 3,
     "metadata": {},
     "output_type": "execute_result"
    },
    {
     "data": {
      "image/png": "[encoded data removed]",
      "text/plain": [
       "<Figure size 432x288 with 1 Axes>"
      ]
     },
     "metadata": {
      "needs_background": "light"
     },
     "output_type": "display_data"
    }
   ],
   "source": [
    "plt.plot(t, d)\n",
    "plt.xlabel('time')\n",
    "plt.ylabel('data value')\n",
    "plt.title('Data to fit')\n",
    "plt.xticks(rotation = 45)"
   ]
  },
  {
   "cell_type": "markdown",
   "id": "7b8984d0",
   "metadata": {},
   "source": [
    "Now we would like to model the data as a single Lorentzian and use analytic derivatives. To do so, we use Newton's method to carry out the fit. We parametrize the Lorentzian as $d = \\frac{a}{1 + (t - t_0)^2/\\omega^2}$"
   ]
  },
  {
   "cell_type": "markdown",
   "id": "b3e01f3d",
   "metadata": {},
   "source": [
    "From the data, we can come up with initial guesses for the different parameters we will use: amplitude $a$ ~ 1.4, peak location $t_0$ ~ 0.00019 and peak spread $\\omega$ ~ 0.00001"
   ]
  },
  {
   "cell_type": "code",
   "execution_count": 4,
   "id": "492d3ab8",
   "metadata": {},
   "outputs": [],
   "source": [
    "p0 = np.array([1.4, 0.00019, 0.00001])"
   ]
  },
  {
   "cell_type": "markdown",
   "id": "a13dfd7c",
   "metadata": {},
   "source": [
    "Use code snippet from \"newton.py\" from the modelling directory, adapting it to the form of the model we are using for $d$:"
   ]
  },
  {
   "cell_type": "code",
   "execution_count": 5,
   "id": "93a38008",
   "metadata": {},
   "outputs": [],
   "source": [
    "def lorentz_d(p, t):\n",
    "    \n",
    "    a, t0, w = p[0], p[1], p[2]\n",
    "    y = a/(1 + ((t - t0)/w)**2)\n",
    "    grad = np.zeros([t.size, p.size])\n",
    "\n",
    "    grad[:,0] = 1.0/(p[1] + (t - p[2])**2)\n",
    "    grad[:,1] = - p[0]/(p[1] + (t - p[2])**2)**2\n",
    "    grad[:,2] = p[0]*2*(t - p[2])/(p[1] + (t - p[2])**2)**2\n",
    "    \n",
    "    return y, grad"
   ]
  },
  {
   "cell_type": "code",
   "execution_count": 6,
   "id": "87789668",
   "metadata": {},
   "outputs": [],
   "source": [
    "def newtons_method_lorentz(p, t):\n",
    "    \n",
    "    y_true = data['signal']\n",
    "    \n",
    "    new_ps = p\n",
    "\n",
    "    for i in range(100):\n",
    "        pred, grad = lorentz_d(new_ps, t)  \n",
    "        res = y_true - pred  \n",
    "        res = np.matrix(res).T\n",
    "        grad = np.matrix(grad)\n",
    "        dp = np.linalg.pinv(grad.T*grad)*(grad.T*res)\n",
    " \n",
    "        for i in range(len(new_ps)):\n",
    "            new_ps[i] += dp[i]\n",
    "        new_ps = np.asarray(new_ps)\n",
    "        \n",
    "    return new_ps"
   ]
  },
  {
   "cell_type": "code",
   "execution_count": 7,
   "id": "063ee13e",
   "metadata": {},
   "outputs": [],
   "source": [
    "p_new1a = newtons_method_lorentz(p0, t)"
   ]
  },
  {
   "cell_type": "code",
   "execution_count": 8,
   "id": "d0de9e84",
   "metadata": {},
   "outputs": [],
   "source": [
    "y1a, grad1a = lorentz_d(p_new1a, t)"
   ]
  },
  {
   "cell_type": "code",
   "execution_count": 9,
   "id": "0b623462",
   "metadata": {},
   "outputs": [
    {
     "name": "stdout",
     "output_type": "stream",
     "text": [
      "Parameters found: a = 1.3999999965497165 , t_0 = 0.0001898262518406272 , omega = -1.4119742103716972e-05\n"
     ]
    },
    {
     "data": {
      "image/png": "[encoded data removed]",
      "text/plain": [
       "<Figure size 432x288 with 1 Axes>"
      ]
     },
     "metadata": {
      "needs_background": "light"
     },
     "output_type": "display_data"
    }
   ],
   "source": [
    "plt.plot(t, d, label = 'True data')\n",
    "plt.plot(t, y1a, label = 'Lorentzian fit')\n",
    "plt.xlabel('Time [s]')\n",
    "plt.ylabel('Signal')\n",
    "plt.title('Lorentzian fit over the data')\n",
    "plt.legend()\n",
    "plt.xticks(rotation = 45)\n",
    "print('Parameters found: a =', p_new1a[0], ', t_0 =', p_new1a[1], ', omega =', p_new1a[2])"
   ]
  },
  {
   "cell_type": "markdown",
   "id": "0cc72b0c",
   "metadata": {},
   "source": [
    "b)"
   ]
  },
  {
   "cell_type": "markdown",
   "id": "14dfc370",
   "metadata": {},
   "source": [
    "Now we estimate the noise in the data, and from it, estimate the error on our parameters"
   ]
  },
  {
   "cell_type": "code",
   "execution_count": 10,
   "id": "d62477f9",
   "metadata": {},
   "outputs": [],
   "source": [
    "sigma = np.std(d)\n",
    "sc_sigma = sigma/np.sqrt(len(d))"
   ]
  },
  {
   "cell_type": "code",
   "execution_count": 11,
   "id": "5088d0ca",
   "metadata": {},
   "outputs": [],
   "source": [
    "cov_inv = np.eye(len(t))\n",
    "np.fill_diagonal(cov_inv, 1/(sc_sigma**2))"
   ]
  },
  {
   "cell_type": "markdown",
   "id": "476f90ae",
   "metadata": {},
   "source": [
    "The following doesn't work. The simple first matrix multiplication to be done in the 'cov' definition \n",
    "kills the kernel after a minute or two. After all, those are 100 000 by 100 000 matrices, but I don't know\n",
    "if this was to be expected."
   ]
  },
  {
   "cell_type": "code",
   "execution_count": null,
   "id": "bea3e176",
   "metadata": {},
   "outputs": [],
   "source": [
    "'''\n",
    "cov = np.linalg.pinv(grad.T@cov_inv@grad)\n",
    "errs = np.sqrt(np.diag(cov))\n",
    "print('The error on a is:', errs[0])\n",
    "print('The error on t0 is:', errs[1])\n",
    "print('The error on w is:', errs[2])\n",
    "'''"
   ]
  },
  {
   "cell_type": "markdown",
   "id": "478c3f80",
   "metadata": {},
   "source": [
    "c)"
   ]
  },
  {
   "cell_type": "markdown",
   "id": "a9b122ce",
   "metadata": {},
   "source": [
    "We repeat part a) but using numerical derivatives. First we define a derivative function, then we will have different f functions whose variable will be the different parameters. The derivative is taken with respect to the different parameters to have the gradients for each parameter (to do so, we use lambda functions. It helps in having to avoid defining many different functions. We only define three f functions that take as variable each parameter. We compute the gradient numerically with a derivative function). We take an arbitrarily small time step dt."
   ]
  },
  {
   "cell_type": "code",
   "execution_count": 12,
   "id": "7feebdb2",
   "metadata": {},
   "outputs": [],
   "source": [
    "dt = 10**(-8)\n",
    "deriv = lambda f, t: 1/(2*dt)*(f(t + dt) - f(t - dt))"
   ]
  },
  {
   "cell_type": "code",
   "execution_count": 13,
   "id": "c6917842",
   "metadata": {},
   "outputs": [],
   "source": [
    "def lorentz_num(p, t):\n",
    "    \n",
    "    a, t0, w = p[0], p[1], p[2]\n",
    "    y = a/(1 + ((t - t0)/w)**2)\n",
    "\n",
    "    f_a = lambda x: x/(1 + ((t - t0)/w)**2)\n",
    "    f_t0 = lambda y: a/(1+((t - y)/w)**2)\n",
    "    f_w = lambda z: a/(1+((t - t0)/z)**2)\n",
    "\n",
    "    grad = np.zeros([len(t), len(p)])\n",
    "    grad[:,0] = deriv(f_a, a)\n",
    "    grad[:,1] = deriv(f_t0, t0)\n",
    "    grad[:,2] = deriv(f_w, w)\n",
    "\n",
    "    return y, grad"
   ]
  },
  {
   "cell_type": "code",
   "execution_count": 14,
   "id": "85bcefca",
   "metadata": {},
   "outputs": [],
   "source": [
    "def newtons_method_lorentz_num(data, p, t, n):\n",
    "    \n",
    "    y_true = data['signal']\n",
    "    new_ps = p\n",
    "    \n",
    "    for i in range(n):\n",
    "        calc, grad = lorentz_num(new_ps, t)  \n",
    "        res = y_true - calc  \n",
    "        res = np.matrix(res).T  \n",
    "        grad = np.matrix(grad)\n",
    "        dp = np.linalg.pinv(grad.T*grad)*(grad.T*res)\n",
    " \n",
    "        for i in range(len(new_ps)):\n",
    "            new_ps[i] += dp[i]\n",
    "        new_ps = np.asarray(new_ps)\n",
    "        \n",
    "    return new_ps"
   ]
  },
  {
   "cell_type": "code",
   "execution_count": 15,
   "id": "0c5ff42a",
   "metadata": {},
   "outputs": [],
   "source": [
    "p_new1b = newtons_method_lorentz_num(data, p0, t, 500)\n",
    "y1b, grad1b = lorentz_d(p_new1b, t)"
   ]
  },
  {
   "cell_type": "code",
   "execution_count": 16,
   "id": "6f00c1ef",
   "metadata": {},
   "outputs": [
    {
     "name": "stdout",
     "output_type": "stream",
     "text": [
      "Parameters found: a = 1.4228106821838835 , t_0 = 0.0001923586492623034 , omega = -1.792369075490326e-05\n"
     ]
    },
    {
     "data": {
      "image/png": "[encoded data removed]",
      "text/plain": [
       "<Figure size 432x288 with 1 Axes>"
      ]
     },
     "metadata": {
      "needs_background": "light"
     },
     "output_type": "display_data"
    }
   ],
   "source": [
    "plt.plot(t, d, label = \"True data\")\n",
    "plt.plot(t, y1b, label = \"Numerical Lorentzian fit\")\n",
    "plt.xlabel('Time [s]')\n",
    "plt.ylabel('Signal')\n",
    "plt.title('Numerical Lorentzian fit over the data')\n",
    "plt.legend()\n",
    "plt.xticks(rotation = 45)\n",
    "print('Parameters found: a =', p_new1b[0], ', t_0 =', p_new1b[1], ', omega =', p_new1b[2])"
   ]
  },
  {
   "cell_type": "code",
   "execution_count": null,
   "id": "29dfc964",
   "metadata": {},
   "outputs": [],
   "source": []
  },
  {
   "cell_type": "code",
   "execution_count": null,
   "id": "e08e5f9d",
   "metadata": {},
   "outputs": [],
   "source": []
  },
  {
   "cell_type": "code",
   "execution_count": null,
   "id": "c8a36fd2",
   "metadata": {},
   "outputs": [],
   "source": []
  },
  {
   "cell_type": "markdown",
   "id": "f7c052f9",
   "metadata": {},
   "source": [
    "d)"
   ]
  },
  {
   "cell_type": "markdown",
   "id": "0a61157b",
   "metadata": {},
   "source": [
    "Now we repeat part c) but we model the data as the addition of three Lorentzian functions. Very similarly, we define our lambda functions for each parameter and we define the gradient numerically with our deriv function."
   ]
  },
  {
   "cell_type": "code",
   "execution_count": 37,
   "id": "80854485",
   "metadata": {},
   "outputs": [],
   "source": [
    "def lorentzian_3lor(p, t):\n",
    "    \n",
    "    a, b, c, t0, t1, w = p\n",
    "    y = a/(1 + ((t - t0)/w)**2) + b/(1 + ((t - t0 + t1)/w)**2) + c/(1 + ((t - t0 - t1)/w)**2)\n",
    "\n",
    "    fa = lambda x1: x1/(1 + ((t - t0)/w)**2) + b/(1 + ((t - t0 + t1)/w)**2) + c/(1 + ((t - t0 - t1)/w)**2)\n",
    "    fb = lambda x2: a/(1 + ((t - t0)/w)**2) + x2/(1 + ((t - t0 + t1)/w)**2) + c/(1 + ((t - t0 - t1)/w)**2)\n",
    "    fc = lambda x3: a/(1 + ((t - t0)/w)**2) + b/(1 +((t - t0 + t1)/w)**2) + x3/(1 + ((t - t0 - t1)/w)**2)\n",
    "    ft0 = lambda x4: a/(1 + ((t - x4)/w)**2) + b/(1 +((t - x4 + t1)/w)**2) + c/(1 + ((t - x4 - t1)/w)**2)\n",
    "    ft1 = lambda x5: a/(1 + ((t - t0)/w)**2) + b/(1 + ((t - t0 + x5)/w)**2) + c/(1 + ((t - t0 - x5)/w)**2)\n",
    "    fw = lambda x6: a/(1 + ((t - t0)/x6)**2) + b/(1 + ((t - t0 + t1)/x6)**2) + c/(1 + ((t - t0 - t1)/x6)**2)\n",
    "\n",
    "    grad = np.zeros([len(t), len(p)])\n",
    "    grad[:,0], grad[:,1], grad[:,2] = deriv(fa, a), deriv(fb, b), deriv(fc, c)\n",
    "    grad[:,3], grad[:,4], grad[:,5] = deriv(ft0, t0), deriv(ft1, t1), deriv(fw, w)\n",
    "\n",
    "    return y, grad"
   ]
  },
  {
   "cell_type": "code",
   "execution_count": 40,
   "id": "a29a212a",
   "metadata": {},
   "outputs": [],
   "source": [
    "def newtons_method_3lor(data, p, t, n):\n",
    "    \n",
    "    y_true = data['signal']\n",
    "    p_new = p\n",
    "    \n",
    "    for i in range(n):\n",
    "        calc, grad = lorentzian_3lor(p_new, t)  \n",
    "        res = y_true - calc  \n",
    "        res = np.matrix(res).T\n",
    "        grad = np.matrix(grad)\n",
    "        dp = np.linalg.pinv(grad.T*grad)*(grad.T*res)\n",
    " \n",
    "        for i in range(len(p_new)):\n",
    "            p_new[i] += dp[i]\n",
    "            \n",
    "        p_new = np.asarray(p_new)\n",
    "        \n",
    "    return p_new"
   ]
  },
  {
   "cell_type": "markdown",
   "id": "4f147fb5",
   "metadata": {},
   "source": [
    "We need to have estimates for the amplitude of the two other Lorentzian peaks, which from the data plot seem to be of order ~ 0.3, and their distance from the main peak seems to be of order ~ 0.00005"
   ]
  },
  {
   "cell_type": "code",
   "execution_count": 44,
   "id": "2b65dd1c",
   "metadata": {},
   "outputs": [
    {
     "name": "stdout",
     "output_type": "stream",
     "text": [
      "The best-fit parameters for the sum of Lorentzians using numerical derivatives are:  [1.44299239e+00 1.03910780e-01 6.47325300e-02 1.92578522e-04\n",
      " 4.45671630e-05 1.60651094e-05]\n"
     ]
    }
   ],
   "source": [
    "p0_3lor= np.array([1.5, 0.3, 0.3, 0.00019, 0.00005, 0.00001])\n",
    "p_new1d = newtons_method_3lor(data, p0_3lor, t, 100) \n",
    "y1d, grad1d = lorentzian_3lor(p_new1d, t)\n",
    "print(\"The best-fit parameters for the sum of Lorentzians using numerical derivatives are: \", p_new1d)"
   ]
  },
  {
   "cell_type": "code",
   "execution_count": 45,
   "id": "4bb59f29",
   "metadata": {},
   "outputs": [
    {
     "name": "stdout",
     "output_type": "stream",
     "text": [
      "Parameters found:\n",
      "a = 1.4429923932697661\n",
      "b = 0.10391077998946781\n",
      "c = 0.06473253000825782\n",
      "t0 = 0.00019257852173624665\n",
      "t1 = 4.456716295451412e-05\n",
      "w = 1.6065109423762263e-05\n"
     ]
    },
    {
     "data": {
      "image/png": "[encoded data removed]",
      "text/plain": [
       "<Figure size 432x288 with 1 Axes>"
      ]
     },
     "metadata": {
      "needs_background": "light"
     },
     "output_type": "display_data"
    }
   ],
   "source": [
    "plt.plot(t, d, label = 'True data')\n",
    "plt.plot(t, y1d, label = 'Three Lorentzian fits')\n",
    "plt.xlabel('Time [s]')\n",
    "plt.ylabel('Signal')\n",
    "plt.title('Three Lorentzian fits over the data')\n",
    "plt.legend()\n",
    "plt.xticks(rotation = 45)\n",
    "\n",
    "print('Parameters found:') \n",
    "print('a =', p_new1d[0])\n",
    "print('b =', p_new1d[1])\n",
    "print('c =', p_new1d[2])\n",
    "print('t0 =', p_new1d[3])\n",
    "print('t1 =', p_new1d[4])\n",
    "print('w =', p_new1d[5])"
   ]
  },
  {
   "cell_type": "code",
   "execution_count": null,
   "id": "4d6e7040",
   "metadata": {},
   "outputs": [],
   "source": [
    "# Again, this code chunk does not work\n",
    "cov_inv_d = cov_inv\n",
    "cov_d = np.linalg.pinv(gradd.transpose()@cov_inv_d@gradd)\n",
    "errs_d = np.sqrt(np.diag(cov_d))"
   ]
  },
  {
   "cell_type": "code",
   "execution_count": null,
   "id": "26e4c24d",
   "metadata": {},
   "outputs": [],
   "source": [
    "print('Errors on parameters are:')\n",
    "print('Error on a is:', errs_d[0])\n",
    "print('Error on b is:', errs_d[1])\n",
    "print('Error on c is:', errs_d[2])\n",
    "print('Error on t0 is:', errs_d[3])\n",
    "print('Error on t1 is:', errs_d[4])\n",
    "print('Error on w is:', errs_d[5])"
   ]
  },
  {
   "cell_type": "code",
   "execution_count": null,
   "id": "05d43054",
   "metadata": {},
   "outputs": [],
   "source": []
  },
  {
   "cell_type": "markdown",
   "id": "dee20886",
   "metadata": {},
   "source": [
    "e)"
   ]
  },
  {
   "cell_type": "markdown",
   "id": "fd1830b0",
   "metadata": {},
   "source": [
    "Here we look at the residuals from the calculated fit found in d)"
   ]
  },
  {
   "cell_type": "code",
   "execution_count": 47,
   "id": "207c784e",
   "metadata": {},
   "outputs": [],
   "source": [
    "residuals_1d = d - y1d"
   ]
  },
  {
   "cell_type": "code",
   "execution_count": 49,
   "id": "92c7d94d",
   "metadata": {},
   "outputs": [
    {
     "data": {
      "text/plain": [
       "(array([-5.0e-05,  0.0e+00,  5.0e-05,  1.0e-04,  1.5e-04,  2.0e-04,\n",
       "         2.5e-04,  3.0e-04,  3.5e-04,  4.0e-04,  4.5e-04]),\n",
       " [Text(0, 0, ''),\n",
       "  Text(0, 0, ''),\n",
       "  Text(0, 0, ''),\n",
       "  Text(0, 0, ''),\n",
       "  Text(0, 0, ''),\n",
       "  Text(0, 0, ''),\n",
       "  Text(0, 0, ''),\n",
       "  Text(0, 0, ''),\n",
       "  Text(0, 0, ''),\n",
       "  Text(0, 0, ''),\n",
       "  Text(0, 0, '')])"
      ]
     },
     "execution_count": 49,
     "metadata": {},
     "output_type": "execute_result"
    },
    {
     "data": {
      "image/png": "[encoded data removed]",
      "text/plain": [
       "<Figure size 432x288 with 1 Axes>"
      ]
     },
     "metadata": {
      "needs_background": "light"
     },
     "output_type": "display_data"
    }
   ],
   "source": [
    "plt.plot(t, residuals_1d)\n",
    "plt.title('Residuals from the 3 Lorentzian fits')\n",
    "plt.xlabel('Time [s]')\n",
    "plt.ylabel('Residuals')\n",
    "plt.xticks(rotation = 45)"
   ]
  },
  {
   "cell_type": "markdown",
   "id": "762ca561",
   "metadata": {},
   "source": [
    "The look of the residuals does not look much random, rather it seems there is still some structure to it, especially near the peak. It is hence fair to say that our model of the three Lorentzian could be upgraded, and that it models our data in a limited fashion given the structure of the residuals. However, our current model is not that bad, with the structure having an amplitude of order ~ 0.04."
   ]
  },
  {
   "cell_type": "markdown",
   "id": "e2799292",
   "metadata": {},
   "source": [
    "f)"
   ]
  },
  {
   "cell_type": "code",
   "execution_count": null,
   "id": "0baf4e07",
   "metadata": {},
   "outputs": [],
   "source": [
    "# Need cov_d\n",
    "p_rand1, p_rand2, p_rand3 = p_calc_1d + cov_d@np.random.randn(len(p_calc_1d)), p_calc_1d + cov_d@np.random.randn(len(p_calc_1d)), p_calc_1d + cov_d@np.random.randn(len(p_calc_1d))\n",
    "\n",
    "\n",
    "ye1, grad_e1 = calc_lorentzian_sum(p_rand1, t)\n",
    "ye2, grad_e2 = calc_lorentzian_sum(p_rand2, t)\n",
    "ye3, grad_e3 = calc_lorentzian_sum(p_rand3, t)\n",
    "\n",
    "\n",
    "res1 = d - ye1\n",
    "res2 = d - ye2\n",
    "res3 = d - ye3\n",
    "\n",
    "chisq1, chisq2, chisq3 = res1.transpose()@cov_inv_d@res1, res2.transpose()@cov_inv_d@res2, res3.transpose()@cov_inv_d@res3\n",
    "chisq = residual.transpose()@cov_inv_d@residual"
   ]
  },
  {
   "cell_type": "markdown",
   "id": "bebc76c0",
   "metadata": {},
   "source": [
    "g)"
   ]
  },
  {
   "cell_type": "code",
   "execution_count": 24,
   "id": "e2b1da30",
   "metadata": {},
   "outputs": [],
   "source": [
    "def mcmc(p, t, signal, noise, step_size, num_steps):\n",
    "    # Calculate initial chi sqaured value\n",
    "    chisq_i = chisq(p, t, signal, noise)\n",
    "\n",
    "    # Define the arrays which will hold the Monte-Carlo results and the chi squared values at each step\n",
    "    chain = np.zeros([num_steps, len(p)])\n",
    "    chisq_vals = np.zeros(num_steps)\n",
    "\n",
    "    # loop through the mcmc \n",
    "    for i in range(num_steps):\n",
    "        # Update the p value\n",
    "        p_new = p + step_size*np.random.randn(len(p))\n",
    "        chisq_f = chisq(p_new, t, signal, noise)\n",
    "        if chisq_f < chisq_i:\n",
    "            accept = True\n",
    "        else:\n",
    "            dchisq = chisq_f - chisq_i\n",
    "            # print(\"dchisq:\", dchisq, \"iteration:\", i)\n",
    "            if np.random.rand(1)<np.exp(-0.5*(dchisq)):\n",
    "                accept = True\n",
    "            else: \n",
    "                accept=False\n",
    "        if accept:\n",
    "            p, chisq_i = p_new, chisq_f\n",
    "        chain[i,:] = p\n",
    "        chisq_vals[i] = chisq_i\n",
    "\n",
    "    return chain, chisq_vals"
   ]
  },
  {
   "cell_type": "code",
   "execution_count": 25,
   "id": "ac1a00dd",
   "metadata": {},
   "outputs": [],
   "source": [
    "def chisq(p, t, signal, noise):\n",
    "    y, grad = calc_lorentzian_sum(p, t)\n",
    "    chisquared = np.sum(((signal - y/noise)**2))\n",
    "    return chisquared"
   ]
  },
  {
   "cell_type": "code",
   "execution_count": null,
   "id": "7c874d9a",
   "metadata": {},
   "outputs": [],
   "source": [
    "step_size_g = np.sqrt(np.diag(cov_d))  # Determine the step size using the covariance matrix from d)\n",
    "steps = 20000\n",
    "p_1g = [1.44299239, 0.103910780, 0.0647325300, 0.000192578522, 0.0000445671630, 0.0000160651094] # Best fit params obtained from question 1d\n",
    "chain, chisq_vals = mcmc(p=p_1g, t=t, signal=d, noise=standard_error, step_size=step_size_g, num_steps=steps)"
   ]
  },
  {
   "cell_type": "code",
   "execution_count": null,
   "id": "ff0f8457",
   "metadata": {},
   "outputs": [],
   "source": [
    "a_vals, b_vals, c_vals, t0_vals, t1_vals, omega_vals, i_vals = chain[:,0], chain[:,1], chain[:,2], chain[:,3], chain[:,4], chain[:,5], np.arange(0, steps, 1)\n",
    "plt.plot(i_vals, b_vals)\n",
    "plt.show()"
   ]
  },
  {
   "cell_type": "code",
   "execution_count": null,
   "id": "1bd9fa88",
   "metadata": {},
   "outputs": [],
   "source": []
  },
  {
   "cell_type": "code",
   "execution_count": null,
   "id": "20de8f52",
   "metadata": {},
   "outputs": [],
   "source": []
  },
  {
   "cell_type": "code",
   "execution_count": null,
   "id": "e21ebb3d",
   "metadata": {},
   "outputs": [],
   "source": []
  }
 ],
 "metadata": {
  "kernelspec": {
   "display_name": "Python 3",
   "language": "python",
   "name": "python3"
  },
  "language_info": {
   "codemirror_mode": {
    "name": "ipython",
    "version": 3
   },
   "file_extension": ".py",
   "mimetype": "text/x-python",
   "name": "python",
   "nbconvert_exporter": "python",
   "pygments_lexer": "ipython3",
   "version": "3.8.8"
  }
 },
 "nbformat": 4,
 "nbformat_minor": 5
}
