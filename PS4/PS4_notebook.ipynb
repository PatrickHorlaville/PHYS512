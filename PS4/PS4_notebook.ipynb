{
 "cells": [
  {
   "cell_type": "markdown",
   "id": "4323fd35",
   "metadata": {},
   "source": [
    "### Patrick Horlaville (260931235) - Problem Set 4 - PHYS 512 : Computational Physics with Applications"
   ]
  },
  {
   "cell_type": "markdown",
   "id": "9cb4453e",
   "metadata": {},
   "source": [
    "Prof: Jon Sievers. TAs: Marcus Merryfield, Rigel Zifkin"
   ]
  },
  {
   "cell_type": "code",
   "execution_count": 1,
   "id": "917b4082",
   "metadata": {},
   "outputs": [],
   "source": [
    "import numpy as np\n",
    "from scipy import integrate\n",
    "import matplotlib.pyplot as plt\n",
    "import astropy.units as un"
   ]
  },
  {
   "cell_type": "markdown",
   "id": "9a2459f6",
   "metadata": {},
   "source": [
    "## Problem 1"
   ]
  },
  {
   "cell_type": "markdown",
   "id": "87923e51",
   "metadata": {},
   "source": [
    "a)"
   ]
  },
  {
   "cell_type": "markdown",
   "id": "64214e5c",
   "metadata": {},
   "source": [
    "We first load the data"
   ]
  },
  {
   "cell_type": "code",
   "execution_count": 3,
   "id": "6d6ffee1",
   "metadata": {},
   "outputs": [],
   "source": [
    "data = np.load('sidebands.npz')\n",
    "t = data['time']\n",
    "d = data['signal']"
   ]
  },
  {
   "cell_type": "code",
   "execution_count": 10,
   "id": "1388287d",
   "metadata": {},
   "outputs": [
    {
     "data": {
      "text/plain": [
       "(array([-5.0e-05,  0.0e+00,  5.0e-05,  1.0e-04,  1.5e-04,  2.0e-04,\n",
       "         2.5e-04,  3.0e-04,  3.5e-04,  4.0e-04,  4.5e-04]),\n",
       " [Text(0, 0, ''),\n",
       "  Text(0, 0, ''),\n",
       "  Text(0, 0, ''),\n",
       "  Text(0, 0, ''),\n",
       "  Text(0, 0, ''),\n",
       "  Text(0, 0, ''),\n",
       "  Text(0, 0, ''),\n",
       "  Text(0, 0, ''),\n",
       "  Text(0, 0, ''),\n",
       "  Text(0, 0, ''),\n",
       "  Text(0, 0, '')])"
      ]
     },
     "execution_count": 10,
     "metadata": {},
     "output_type": "execute_result"
    },
    {
     "data": {
      "image/png": "[encoded data removed]",
      "text/plain": [
       "<Figure size 432x288 with 1 Axes>"
      ]
     },
     "metadata": {
      "needs_background": "light"
     },
     "output_type": "display_data"
    }
   ],
   "source": [
    "plt.plot(t, d)\n",
    "plt.xlabel('time')\n",
    "plt.ylabel('data value')\n",
    "plt.title('Data to fit')\n",
    "plt.xticks(rotation = 45)"
   ]
  },
  {
   "cell_type": "markdown",
   "id": "6114cc79",
   "metadata": {},
   "source": [
    "Now we would like to model the data as a single Lorentzian and use analytic derivatives. To do so, we use Newton's method to carry out the fit. We parametrize the Lorentzian as $d = \\frac{a}{1 + (t - t_0)^2/\\omega^2}$"
   ]
  },
  {
   "cell_type": "markdown",
   "id": "d024774d",
   "metadata": {},
   "source": [
    "From the data, we can come up with initial guesses for the different parameters we will use: amplitude $a$ ~ 1.4, peak location $t_0$ ~ 0.000175 and peak spread $\\omega$ ~ 0.00001"
   ]
  },
  {
   "cell_type": "markdown",
   "id": "a228b5de",
   "metadata": {},
   "source": [
    "Use code snippet from \"newton.py\" from the modelling directory, adapting it to the form of the model we are using for $d$:"
   ]
  },
  {
   "cell_type": "code",
   "execution_count": 27,
   "id": "f1ae7bbe",
   "metadata": {},
   "outputs": [],
   "source": [
    "def lor_d(a, t0, w, t):\n",
    "    return a/(1 + ((t - t0)/w)**2)"
   ]
  },
  {
   "cell_type": "code",
   "execution_count": 16,
   "id": "f5bd1cff",
   "metadata": {},
   "outputs": [],
   "source": [
    "def calc_lorentz_d(p, t):\n",
    "    \n",
    "    a, t0, w = p[0], p[1], p[2]\n",
    "    y = a/(1 + ((t - t0)/w)**2)\n",
    "    grad = np.zeros([t.size, p.size])\n",
    "\n",
    "    grad[:,0] = 1.0/(p[1] + (t - p[2])**2)\n",
    "    grad[:,1] = - p[0]/(p[1] + (t - p[2])**2)**2\n",
    "    grad[:,2] = p[0]*2*(t - p[2])/(p[1] + (t - p[2])**2)**2\n",
    "    \n",
    "    return y, grad"
   ]
  },
  {
   "cell_type": "code",
   "execution_count": null,
   "id": "5f79ab86",
   "metadata": {},
   "outputs": [],
   "source": []
  },
  {
   "cell_type": "code",
   "execution_count": 14,
   "id": "9032f970",
   "metadata": {},
   "outputs": [],
   "source": [
    "p_0 = np.array([1.4, 0.000175, 0.00001])"
   ]
  },
  {
   "cell_type": "code",
   "execution_count": 24,
   "id": "59e97653",
   "metadata": {},
   "outputs": [],
   "source": [
    "def newtons_method_lorentz_numerical(data, p, t):\n",
    "    \n",
    "    x_true = data['signal']\n",
    "    p_g = np.copy(p)\n",
    "    for i in range(100):\n",
    "        pred, grad = calc_lorentz_d(p_g,t)  \n",
    "        r = x_true - pred  \n",
    "        r = np.matrix(r).transpose()  \n",
    "        grad = np.matrix(grad)\n",
    "        dp = np.linalg.pinv(grad.transpose()*grad)*(grad.transpose()*r)\n",
    " \n",
    "        for i in range(len(p_g)):\n",
    "            p_g[i] += dp[i]\n",
    "        p_g = np.asarray(p_g)\n",
    "        \n",
    "    return p_g"
   ]
  },
  {
   "cell_type": "code",
   "execution_count": 25,
   "id": "dd6fb8ba",
   "metadata": {},
   "outputs": [],
   "source": [
    "res = newtons_method_lorentz_numerical(data, p_0, t)"
   ]
  },
  {
   "cell_type": "code",
   "execution_count": 26,
   "id": "13de920b",
   "metadata": {},
   "outputs": [
    {
     "data": {
      "text/plain": [
       "array([1.39999999e+00, 1.76861854e-04, 4.36255317e-04])"
      ]
     },
     "execution_count": 26,
     "metadata": {},
     "output_type": "execute_result"
    }
   ],
   "source": [
    "res"
   ]
  },
  {
   "cell_type": "code",
   "execution_count": 31,
   "id": "2ece50a9",
   "metadata": {},
   "outputs": [],
   "source": [
    "calc_d = lor_d(res[0], res[1], res[2], t)"
   ]
  },
  {
   "cell_type": "code",
   "execution_count": 32,
   "id": "ff438c9f",
   "metadata": {},
   "outputs": [
    {
     "data": {
      "text/plain": [
       "(array([-5.0e-05,  0.0e+00,  5.0e-05,  1.0e-04,  1.5e-04,  2.0e-04,\n",
       "         2.5e-04,  3.0e-04,  3.5e-04,  4.0e-04,  4.5e-04]),\n",
       " [Text(0, 0, ''),\n",
       "  Text(0, 0, ''),\n",
       "  Text(0, 0, ''),\n",
       "  Text(0, 0, ''),\n",
       "  Text(0, 0, ''),\n",
       "  Text(0, 0, ''),\n",
       "  Text(0, 0, ''),\n",
       "  Text(0, 0, ''),\n",
       "  Text(0, 0, ''),\n",
       "  Text(0, 0, ''),\n",
       "  Text(0, 0, '')])"
      ]
     },
     "execution_count": 32,
     "metadata": {},
     "output_type": "execute_result"
    },
    {
     "data": {
      "image/png": "[encoded data removed]",
      "text/plain": [
       "<Figure size 432x288 with 1 Axes>"
      ]
     },
     "metadata": {
      "needs_background": "light"
     },
     "output_type": "display_data"
    }
   ],
   "source": [
    "plt.plot(t, d, label = 'true data')\n",
    "plt.plot(t, calc_d, label = 'pred')\n",
    "plt.xlabel('time')\n",
    "plt.ylabel('data value')\n",
    "plt.title('Data to fit')\n",
    "plt.legend()\n",
    "plt.xticks(rotation = 45)"
   ]
  },
  {
   "cell_type": "code",
   "execution_count": null,
   "id": "8624cfb6",
   "metadata": {},
   "outputs": [],
   "source": []
  }
 ],
 "metadata": {
  "kernelspec": {
   "display_name": "Python 3",
   "language": "python",
   "name": "python3"
  },
  "language_info": {
   "codemirror_mode": {
    "name": "ipython",
    "version": 3
   },
   "file_extension": ".py",
   "mimetype": "text/x-python",
   "name": "python",
   "nbconvert_exporter": "python",
   "pygments_lexer": "ipython3",
   "version": "3.8.8"
  }
 },
 "nbformat": 4,
 "nbformat_minor": 5
}
