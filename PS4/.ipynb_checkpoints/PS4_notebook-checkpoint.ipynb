{
 "cells": [
  {
   "cell_type": "markdown",
   "id": "ae1d7391",
   "metadata": {},
   "source": [
    "### Patrick Horlaville (260931235) - Problem Set 4 - PHYS 512 : Computational Physics with Applications"
   ]
  },
  {
   "cell_type": "markdown",
   "id": "f3bad4f6",
   "metadata": {},
   "source": [
    "Prof: Jon Sievers. TAs: Marcus Merryfield, Rigel Zifkin"
   ]
  },
  {
   "cell_type": "code",
   "execution_count": 1,
   "id": "e9ee27d5",
   "metadata": {},
   "outputs": [],
   "source": [
    "import numpy as np\n",
    "from scipy import integrate\n",
    "import matplotlib.pyplot as plt\n",
    "import astropy.units as un"
   ]
  },
  {
   "cell_type": "markdown",
   "id": "c552f684",
   "metadata": {},
   "source": [
    "## Problem 1"
   ]
  },
  {
   "cell_type": "markdown",
   "id": "e2a58b31",
   "metadata": {},
   "source": [
    "For now we just load the data"
   ]
  },
  {
   "cell_type": "code",
   "execution_count": 3,
   "id": "37233442",
   "metadata": {},
   "outputs": [],
   "source": [
    "data = np.load('sidebands.npz')\n",
    "t = data['time']\n",
    "d = data['signal']"
   ]
  },
  {
   "cell_type": "markdown",
   "id": "cf304cbd",
   "metadata": {},
   "source": [
    "## Problem 2"
   ]
  },
  {
   "cell_type": "markdown",
   "id": "2ec2f51c",
   "metadata": {},
   "source": [
    "Now we would like to model the data as a single Lorentzian and use analytic derivatives. To do so, we use Newton's method to carry out the fit. We parametrize the Lorentzian as $d = \\frac{a}{1 + (t - t_0)^2/\\omega^2}$"
   ]
  },
  {
   "cell_type": "markdown",
   "id": "29f0bc54",
   "metadata": {},
   "source": [
    "Use code snippet from \"newton.py\" from the modelling directory, adapting it to the form of the model we are using for $d$:"
   ]
  },
  {
   "cell_type": "code",
   "execution_count": 6,
   "id": "5a6ac8ba",
   "metadata": {},
   "outputs": [],
   "source": [
    "def calc_lorentz_d(p, t):\n",
    "    \n",
    "    a, t0, w = p[0], p[1], p[2]\n",
    "    y = a/(1 + ((t - t0)/w)**2)\n",
    "    grad = numpy.zeros([t.size, p.size])\n",
    "\n",
    "    grad[:,0] = 1.0/(p[1] + (t - p[2])**2)\n",
    "    grad[:,1] = - p[0]/(p[1] + (t - p[2])**2)**2\n",
    "    grad[:,2] = p[0]*2*(t - p[2])/(p[1] + (t - p[2])**2)**2\n",
    "    \n",
    "    return y, grad"
   ]
  },
  {
   "cell_type": "code",
   "execution_count": null,
   "id": "ff0f0c6b",
   "metadata": {},
   "outputs": [],
   "source": []
  }
 ],
 "metadata": {
  "kernelspec": {
   "display_name": "Python 3",
   "language": "python",
   "name": "python3"
  },
  "language_info": {
   "codemirror_mode": {
    "name": "ipython",
    "version": 3
   },
   "file_extension": ".py",
   "mimetype": "text/x-python",
   "name": "python",
   "nbconvert_exporter": "python",
   "pygments_lexer": "ipython3",
   "version": "3.8.8"
  }
 },
 "nbformat": 4,
 "nbformat_minor": 5
}
