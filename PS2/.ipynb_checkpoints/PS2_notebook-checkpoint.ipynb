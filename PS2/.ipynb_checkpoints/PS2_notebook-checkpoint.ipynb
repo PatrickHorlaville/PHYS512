{
 "cells": [
  {
   "cell_type": "markdown",
   "id": "01f1dbfe",
   "metadata": {},
   "source": [
    "### Patrick Horlaville (260931235) - Problem Set 2 - PHYS 512 : Computational Physics with Applications"
   ]
  },
  {
   "cell_type": "markdown",
   "id": "01b33612",
   "metadata": {},
   "source": [
    "Prof: Jon Sievers. TAs: Marcus Merryfield, Rigel Zifkin"
   ]
  },
  {
   "cell_type": "code",
   "execution_count": 1,
   "id": "77714f6d",
   "metadata": {},
   "outputs": [],
   "source": [
    "import numpy as np\n",
    "import matplotlib.pyplot as plt\n",
    "from scipy import integrate"
   ]
  },
  {
   "cell_type": "markdown",
   "id": "0034b25b",
   "metadata": {},
   "source": [
    "## Problem 1"
   ]
  },
  {
   "cell_type": "markdown",
   "id": "5bf89fb3",
   "metadata": {},
   "source": [
    "First we set up the equation for the electric field equation, as shown in the PDF document. We also set up our parameters and variables: R, the shell radius, $\\sigma$, the surface charge density and z, our range of distances as our function input"
   ]
  },
  {
   "cell_type": "code",
   "execution_count": 2,
   "id": "c8f7129e",
   "metadata": {},
   "outputs": [],
   "source": [
    "R = 1.0\n",
    "sigma = 1\n",
    "eps = 1\n",
    "z = np.linspace(0, 20, 1001)\n",
    "npts = len(z)"
   ]
  },
  {
   "cell_type": "code",
   "execution_count": 3,
   "id": "89946f3f",
   "metadata": {},
   "outputs": [],
   "source": [
    "def efield_int_arg(theta, z, R, sigma, eps):\n",
    "\n",
    "    const = (R**2)*sigma/2/eps\n",
    "    int_arg = ((z - R*np.cos(theta))*np.sin(theta))/((R**2 + z**2 - 2*R*z*np.cos(theta))**(3/2))\n",
    "    \n",
    "    return const*int_arg"
   ]
  },
  {
   "cell_type": "markdown",
   "id": "e04a86f5",
   "metadata": {},
   "source": [
    "We would like to integrate this function. To build our integrator, we make use of some code snippets from class"
   ]
  },
  {
   "cell_type": "code",
   "execution_count": 4,
   "id": "31edf0db",
   "metadata": {},
   "outputs": [],
   "source": [
    "def integrate_adaptive(efield_int_arg, theta0, theta1, z, prec):\n",
    "    \n",
    "    theta = np.linspace(theta0, theta1, 5) \n",
    "    e = efield_int_arg(theta, z, R, sigma, eps)\n",
    "    \n",
    "    dtheta = (theta1 - theta0)/(len(theta) - 1)\n",
    "\n",
    "    area1 = 2*dtheta*(e[0] + 4*e[2] + e[4])/3\n",
    "    area2 = dtheta*(e[0] + 4*e[1] + 2*e[2] + 4*e[3] + e[4])/3\n",
    "\n",
    "    error = np.abs(area1 - area2)\n",
    "\n",
    "    if error < prec:\n",
    "        return area2\n",
    "\n",
    "    else: \n",
    "        theta_mid = (theta0 + theta1)/2\n",
    "        left = integrate_adaptive(efield_int_arg, theta0, theta_mid, z, prec/2)\n",
    "        right = integrate_adaptive(efield_int_arg, theta_mid, theta1, z, prec/2)\n",
    "        return left + right"
   ]
  },
  {
   "cell_type": "markdown",
   "id": "72674f66",
   "metadata": {},
   "source": [
    "Now we can compute the integral with our integrator and compare with the results from the quad function. We use a precision tolerance of 10^(-7) to avoid the blow up at z = R for our integrator function."
   ]
  },
  {
   "cell_type": "code",
   "execution_count": 5,
   "id": "ca9c5e78",
   "metadata": {},
   "outputs": [],
   "source": [
    "E_integrator = np.zeros(len(z))\n",
    "E_quad = np.zeros(len(z))\n",
    "\n",
    "prec = 1e-7\n",
    "\n",
    "for i in range(len(z)):\n",
    " \n",
    "    def inst(theta):\n",
    "        return efield_int_arg(theta, z[i], R, sigma, eps)\n",
    "    \n",
    "    E_quad_t = integrate.quad(inst, 0, np.pi)\n",
    "    E_quad[i] = E_quad_t[0]\n",
    "    \n",
    "    if z[i] == R:\n",
    "        continue\n",
    "    \n",
    "    E_i = integrate_adaptive(efield_int_arg, 0, np.pi, z[i], prec)\n",
    "    E_integrator[i] = E_i"
   ]
  },
  {
   "cell_type": "code",
   "execution_count": 36,
   "id": "f155ac2b",
   "metadata": {},
   "outputs": [
    {
     "data": {
      "image/png": "[encoded data removed]",
      "text/plain": [
       "<Figure size 432x288 with 1 Axes>"
      ]
     },
     "metadata": {
      "needs_background": "light"
     },
     "output_type": "display_data"
    }
   ],
   "source": [
    "z_true = np.linspace(R, 20, 200)\n",
    "E_true = 1/z_true**2\n",
    "\n",
    "plt.plot(z, E_integrator, 'y', label = 'Own integrator')\n",
    "plt.plot(z, E_quad, '--g', label = \"Python's quad\")\n",
    "plt.plot(z_true, E_true, ',r', label = 'True field')\n",
    "plt.title('Electric field using different methods')\n",
    "plt.xlabel('z [m]')\n",
    "plt.ylabel('E [V/m]')\n",
    "plt.legend()\n",
    "plt.show()"
   ]
  },
  {
   "cell_type": "markdown",
   "id": "c3796f77",
   "metadata": {},
   "source": [
    "## Problem 2"
   ]
  },
  {
   "cell_type": "markdown",
   "id": "9aa6221e",
   "metadata": {},
   "source": [
    "First, we write our integrator. It is divided in two parts: the first one, where 'extra' is None, calculates the initial set of points and areas. The number of function calls is equivalent to the length of the array of points we are using to perform our integration initially. If the error (i.e., the difference between the finer and coarser calculations for our integral) is too big (i.e., bigger than our tolerance), then we split the operation in 2 (in terms of the x domain), and we add the two contributions together (a process that may be iterative if the error is still too big after the split). For following steps, new function calls are only needed if the function has not already been called before. For comparison we compute also the number of calls that would have required an integrator that does not perform this way. That way, at the end of our integration, we can compare the number of calls that were used by our integrator to what the integrator made in class would have computed."
   ]
  },
  {
   "cell_type": "code",
   "execution_count": 43,
   "id": "dccfa92b",
   "metadata": {},
   "outputs": [],
   "source": [
    "def integrate_adaptive(fun, a, b, tol, extra = None):\n",
    "\n",
    "    if type(extra) == type(None): \n",
    "        \n",
    "        global new_count\n",
    "        global lazy_count\n",
    "        \n",
    "        x = np.linspace(a, b, 5)\n",
    "        y = fun(x)\n",
    "        \n",
    "        dx = (b - a)/(len(x) - 1)\n",
    "        area1 = 2*dx*(y[0] + 4*y[2] + y[4])/3 \n",
    "        area2 = dx*(y[0] + 4*y[1] + 2*y[2] + 4*y[3] + y[4])/3 \n",
    "        err = np.abs(area1 - area2)\n",
    "        \n",
    "        data = np.vstack((x,y)) \n",
    "\n",
    "        new_count = len(x)\n",
    "        lazy_count = len(x)\n",
    "\n",
    "        \n",
    "        if err < tol: \n",
    "            \n",
    "            return area2, new_count, lazy_count\n",
    "\n",
    "        else: \n",
    "            \n",
    "            left = integrate_adaptive(fun, a, (a + b)/2, tol/2, extra = data)[0] \n",
    "            right = integrate_adaptive(fun, (a + b)/2, b, tol/2, extra = data)[0] \n",
    "            \n",
    "            return left + right\n",
    "    \n",
    "    else: \n",
    "        \n",
    "        data = extra\n",
    "        x_data = data[0] \n",
    "        y_data = data[1]\n",
    "\n",
    "        x = np.linspace(a, b, 5)\n",
    "        y = np.empty(len(x))\n",
    "\n",
    "        \n",
    "        for i, x_i in enumerate(x):\n",
    "            \n",
    "            if x_i in x_data: \n",
    "                \n",
    "                index = np.where(x_data == x_i)[0][0] \n",
    "                y[i] = y_data[index]\n",
    "            \n",
    "            else:\n",
    "                \n",
    "                x_data = np.append(x_data, x_i) \n",
    "                y[i] = fun(x_i) \n",
    "                y_data = np.append(y_data, y[i]) \n",
    "                new_count += 1 \n",
    "            \n",
    "        \n",
    "        lazy_count += len(x) \n",
    "\n",
    "        data = np.vstack((x_data, y_data)) \n",
    "        \n",
    "        dx = (b - a)/(len(x) - 1)\n",
    "        area1 = 2*dx*(y[0] + 4*y[2] + y[4])/3 \n",
    "        area2 = dx*(y[0] + 4*y[1] + 2*y[2] + 4*y[3] + y[4])/3\n",
    "        err = np.abs(area1 - area2)\n",
    "        \n",
    "        if err < tol: \n",
    "            \n",
    "            return area2, \n",
    "        \n",
    "        else:\n",
    "            \n",
    "            midpoint = (a + b)/2\n",
    "            left = integrate_adaptive(fun, a, midpoint, tol/2, extra = data)\n",
    "            right = integrate_adaptive(fun, midpoint, b, tol/2, extra = data)\n",
    "\n",
    "            return left + right"
   ]
  },
  {
   "cell_type": "markdown",
   "id": "53260ca7",
   "metadata": {},
   "source": [
    "Now we can check how many calculations are saved through our new integrator. We can try it out on integrating for example the exponential and normal functions"
   ]
  },
  {
   "cell_type": "code",
   "execution_count": 61,
   "id": "adc83344",
   "metadata": {},
   "outputs": [],
   "source": [
    "def expp(x):\n",
    "    return np.exp(x)"
   ]
  },
  {
   "cell_type": "code",
   "execution_count": 64,
   "id": "20d7d955",
   "metadata": {},
   "outputs": [],
   "source": [
    "def gauss(x):\n",
    "    return np.exp(-(x**2))"
   ]
  },
  {
   "cell_type": "markdown",
   "id": "a4132597",
   "metadata": {},
   "source": [
    "We call our variables for the new and lazy counts. They are global and are to be resetted for different integrations"
   ]
  },
  {
   "cell_type": "code",
   "execution_count": 84,
   "id": "bccc9b0c",
   "metadata": {},
   "outputs": [],
   "source": [
    "new_count = 0 \n",
    "lazy_count = 0\n",
    "\n",
    "integral_exp = integrate_adaptive(expp, 0, 1, 1e-7)\n",
    "new_exp = new_count\n",
    "lazy_exp = lazy_count"
   ]
  },
  {
   "cell_type": "code",
   "execution_count": 85,
   "id": "78d6d50c",
   "metadata": {},
   "outputs": [
    {
     "name": "stdout",
     "output_type": "stream",
     "text": [
      "For the exponential function integrated from 0 to 1, we now have 57 function calls instead of 135\n",
      "The computed integral value is 0.2394818400675705\n"
     ]
    }
   ],
   "source": [
    "print('For the exponential function integrated from 0 to 1, we now have', new_exp, 'function calls instead of', lazy_exp)\n",
    "print('The computed integral value is', integral_exp)"
   ]
  },
  {
   "cell_type": "code",
   "execution_count": 86,
   "id": "956d5134",
   "metadata": {},
   "outputs": [],
   "source": [
    "new_count = 0 \n",
    "lazy_count = 0\n",
    "\n",
    "integral_gauss = integrate_adaptive(gauss, -10, 10, 1e-7)\n",
    "new_gauss = new_count\n",
    "lazy_gauss = lazy_count"
   ]
  },
  {
   "cell_type": "code",
   "execution_count": 88,
   "id": "a44997dd",
   "metadata": {},
   "outputs": [
    {
     "name": "stdout",
     "output_type": "stream",
     "text": [
      "For the unit gaussian function integrated from -10 to 10, we now have 785 function calls instead of 1955\n",
      "The computed integral value is 0.019528766763852002\n"
     ]
    }
   ],
   "source": [
    "print('For the unit gaussian function integrated from -10 to 10, we now have', new_gauss, 'function calls instead of', lazy_gauss)\n",
    "print('The computed integral value is', integral_gauss)"
   ]
  },
  {
   "cell_type": "markdown",
   "id": "73058578",
   "metadata": {},
   "source": [
    "## Problem 3"
   ]
  },
  {
   "cell_type": "code",
   "execution_count": 89,
   "id": "f931b9e3",
   "metadata": {},
   "outputs": [],
   "source": [
    "from numpy.polynomial.chebyshev import chebfit, chebval"
   ]
  },
  {
   "cell_type": "markdown",
   "id": "ccd77f0e",
   "metadata": {},
   "source": [
    "Here we make the function that fits the log2 function over the (0.5, 1) interval over n points. We first rescale the x interval, perform the Chebyshev fit up to an arbitrary order and truncate the coefficients below the tolerance level. The function gives the coefficients and the amount of deleted coefficients from the truncation."
   ]
  },
  {
   "cell_type": "code",
   "execution_count": 93,
   "id": "0bbfcf2c",
   "metadata": {},
   "outputs": [],
   "source": [
    "def log2_fit(n, order, tol):\n",
    "\n",
    "    x = np.linspace(0.5, 1, n) \n",
    "    y = np.log2(x)\n",
    "    \n",
    "    x_scale = 4*x - 3\n",
    "    \n",
    "    coef = chebfit(x_scale, y, order)\n",
    "    \n",
    "    coef[np.abs(coef) <= tol] = 0 \n",
    "    len_del_coef = len(np.where(coef == 0)[0])\n",
    "    \n",
    "    return coef, len_del_coef"
   ]
  },
  {
   "cell_type": "code",
   "execution_count": 140,
   "id": "2971cfb7",
   "metadata": {},
   "outputs": [],
   "source": [
    "n = 20\n",
    "order = 20\n",
    "tol = 1e-6\n",
    "\n",
    "coefs, len_del_coefs = log2_fit(n, order, tol)"
   ]
  },
  {
   "cell_type": "code",
   "execution_count": 141,
   "id": "27259fc8",
   "metadata": {},
   "outputs": [
    {
     "name": "stdout",
     "output_type": "stream",
     "text": [
      "We truncated 6 coefficients from the 21 initial ones with our example\n"
     ]
    }
   ],
   "source": [
    "print('We truncated', len_del_coefs, 'coefficients from the', len(coefs), 'initial ones with our example')"
   ]
  },
  {
   "cell_type": "markdown",
   "id": "08c384c0",
   "metadata": {},
   "source": [
    "Now, we want to compute the log base e of any number. We first find the mantissa and exponent decomposition of said number. We compute the Chebyshev coefficients of our log 2 fit from our previous function. We scale then the mantissa according to the scaling. We can find the log base 2 of the mantissa from our Chebyshev coefficients, which we can combine with the exponent from the decomposition to find the log base e of x according to the formula as found in the PDF. "
   ]
  },
  {
   "cell_type": "code",
   "execution_count": 129,
   "id": "1ac42356",
   "metadata": {},
   "outputs": [],
   "source": [
    "def mylog2(x, n, order, tol):\n",
    "\n",
    "    M, exp = np.frexp(x) \n",
    "\n",
    "    coef = log2_fit(n, order, tol) \n",
    "    \n",
    "    M_scaled = 4*M - 3 \n",
    "\n",
    "    log2_M = chebval(M_scaled, coef[0])\n",
    "    \n",
    "    log_e = (log2_M + exp)/1.4426950408889634\n",
    "    \n",
    "    return log_e"
   ]
  },
  {
   "cell_type": "code",
   "execution_count": 145,
   "id": "de47efe1",
   "metadata": {},
   "outputs": [
    {
     "name": "stdout",
     "output_type": "stream",
     "text": [
      "We found log(0.0001) = -11.512941823822187 , which is off from the true value by a factor of 1.4209118271599203e-06\n"
     ]
    }
   ],
   "source": [
    "x = 0.00001\n",
    "n = 20\n",
    "order = 20\n",
    "tol = 1e-6\n",
    "\n",
    "exp_calc = mylog2(x, n, order, tol)\n",
    "exp_true = np.log(x)\n",
    "\n",
    "print('We found log(0.0001) =', exp_calc, ', which is off from the true value by a factor of', np.abs((exp_calc - exp_true)/exp_true))"
   ]
  },
  {
   "cell_type": "code",
   "execution_count": null,
   "id": "1bc619ee",
   "metadata": {},
   "outputs": [],
   "source": []
  }
 ],
 "metadata": {
  "kernelspec": {
   "display_name": "Python 3",
   "language": "python",
   "name": "python3"
  },
  "language_info": {
   "codemirror_mode": {
    "name": "ipython",
    "version": 3
   },
   "file_extension": ".py",
   "mimetype": "text/x-python",
   "name": "python",
   "nbconvert_exporter": "python",
   "pygments_lexer": "ipython3",
   "version": "3.8.8"
  }
 },
 "nbformat": 4,
 "nbformat_minor": 5
}
