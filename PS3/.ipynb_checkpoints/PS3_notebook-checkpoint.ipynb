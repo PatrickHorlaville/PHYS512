{
 "cells": [
  {
   "cell_type": "markdown",
   "id": "4a9fde54",
   "metadata": {},
   "source": [
    "### Patrick Horlaville (260931235) - Problem Set 3 - PHYS 512 : Computational Physics with Applications"
   ]
  },
  {
   "cell_type": "markdown",
   "id": "1934da43",
   "metadata": {},
   "source": [
    "Prof: Jon Sievers. TAs: Marcus Merryfield, Rigel Zifkin"
   ]
  },
  {
   "cell_type": "code",
   "execution_count": 43,
   "id": "58857a3b",
   "metadata": {},
   "outputs": [],
   "source": [
    "import numpy as np\n",
    "from scipy import integrate\n",
    "import matplotlib.pyplot as plt\n",
    "import astropy.units as un"
   ]
  },
  {
   "cell_type": "markdown",
   "id": "eb242123",
   "metadata": {},
   "source": [
    "## Problem 1"
   ]
  },
  {
   "cell_type": "markdown",
   "id": "039ad003",
   "metadata": {},
   "source": [
    "We want to write an RK4 integrator to take one step to integrate the function:"
   ]
  },
  {
   "cell_type": "code",
   "execution_count": null,
   "id": "7a5769ed",
   "metadata": {},
   "outputs": [],
   "source": [
    "def fun(x,y):\n",
    "    return y/(1 + x**2)"
   ]
  },
  {
   "cell_type": "markdown",
   "id": "894fd425",
   "metadata": {},
   "source": [
    "from x = -20 to x = 20 with y(-20) = 1 using 200 steps."
   ]
  },
  {
   "cell_type": "markdown",
   "id": "e13cdd78",
   "metadata": {},
   "source": [
    "To do so, we can use code snippets from class. This integrator has 4 function calls, as pointed out in the comments:"
   ]
  },
  {
   "cell_type": "code",
   "execution_count": 4,
   "id": "4e5167a8",
   "metadata": {},
   "outputs": [],
   "source": [
    "def rk4_step(fun, x, y, h):\n",
    "\n",
    "\n",
    "    k1 = h*fun(x, y)              # first\n",
    "    k2 = h*fun(x + h/2, y + k1/2) # second\n",
    "    k3 = h*fun(x + h/2, y + k2/2) # third\n",
    "    k4 = h*fun(x + h, y + k3)     # fourth\n",
    "    dy = (k1+ 2*k2 + 2*k3 + k4)/6\n",
    " \n",
    "    return y + dy"
   ]
  },
  {
   "cell_type": "markdown",
   "id": "da4cd7e8",
   "metadata": {},
   "source": [
    "Now we can just integrate over the desired interval, setting our initial y(-20) value. We compare with the actual solution, $y = c_0 \\cdot exp(arctan(x))$, with $c_0 = exp(arctan(20))$ for our initial condition"
   ]
  },
  {
   "cell_type": "code",
   "execution_count": 29,
   "id": "7b7b787a",
   "metadata": {},
   "outputs": [],
   "source": [
    "x_1 = np.linspace(-20, 20, 200)\n",
    "y_1 = np.zeros(len(x))"
   ]
  },
  {
   "cell_type": "code",
   "execution_count": 33,
   "id": "557a4cce",
   "metadata": {},
   "outputs": [],
   "source": [
    "x_1 = np.linspace(-20, 20, 200)\n",
    "y_1 = np.zeros(len(x_1))\n",
    "h_1 = x_1[1] - x_1[0]\n",
    "y_1[0] = 1 \n",
    "\n",
    "for i in range(len(x_1) - 1):\n",
    "    y_1[i + 1] = rk4_step(fun, x_1[i], y_1[i], h_1)\n",
    "\n",
    "y_act1 = np.exp(np.arctan(x_1) + np.arctan(20))\n",
    "error_1 = np.abs(np.std(y_1 - y_act))"
   ]
  },
  {
   "cell_type": "code",
   "execution_count": 13,
   "id": "832c6bf2",
   "metadata": {},
   "outputs": [
    {
     "name": "stdout",
     "output_type": "stream",
     "text": [
      "For our first integrator, using 200 points and 796 function calls, the error is 0.00012017072311111393\n"
     ]
    }
   ],
   "source": [
    "print('For our first integrator, using 200 points and 796 function calls, the error is', error_1)"
   ]
  },
  {
   "cell_type": "markdown",
   "id": "215d89e5",
   "metadata": {},
   "source": [
    "Now we build our second integrator, which computes the integration with a full step h (just like our first integrator), and also the integration with a half-step h/2. This integrator has 11 function calls, as pointed out in the comments. We then compare the results from both integrations to cancel out the leading order truncation term in the Taylor series' expansion, as described in the PDF [from Numerical Recipes]"
   ]
  },
  {
   "cell_type": "code",
   "execution_count": 42,
   "id": "a19adea3",
   "metadata": {},
   "outputs": [],
   "source": [
    "def rk4_stepd(fun, x, y, h):\n",
    "\n",
    "    # y1\n",
    "    k1 = h*fun(x,y)                   # first\n",
    "    k2 = h*fun(x + h/2, y + k1/2)     # second\n",
    "    k3 = h*fun(x + h/2, y + k2/2)     # third\n",
    "    k4 = h*fun(x + h, y + k3)         # fourth\n",
    "    dy = (k1 + 2*k2 + 2*k3 + k4)/6\n",
    "\n",
    "    y1 = y + dy\n",
    "\n",
    "    # y2: first half-step\n",
    "    h_2 = h/2 \n",
    "    k1 = k1/2  \n",
    "    k2 = h_2*fun(x + h_2/2, y + k1/2) # fifth\n",
    "    k3 = h_2*fun(x + h_2/2, y + k2/2) # sixth\n",
    "    k4 = h_2*fun(x + h_2, y + k3)     # seventh\n",
    "    dy = (k1+ 2*k2 + 2*k3 + k4)/6\n",
    "\n",
    "    y2_h_2 = y + dy\n",
    "\n",
    "    x = x + h_2\n",
    "    y = y2_h_2\n",
    "\n",
    "    # y2: second half step\n",
    "    k1 = h_2*fun(x, y)                # eighth\n",
    "    k2 = h_2*fun(x + h_2/2, y + k1/2) # ninth\n",
    "    k3 = h_2*fun(x + h_2/2, y + k2/2) # tenth\n",
    "    k4 = h_2*fun(x + h_2, y + k3)     # eleventh\n",
    "    dy = (k1 + 2*k2 + 2*k3 + k4)/6\n",
    "\n",
    "    y2 = y + dy\n",
    "    delt = (y2 - y1)/15\n",
    "\n",
    "    return y2 + delt "
   ]
  },
  {
   "cell_type": "markdown",
   "id": "033b4fcc",
   "metadata": {},
   "source": [
    "Now we can compute the accuracy of this integrator, in a similar fashion as with our first integrator:"
   ]
  },
  {
   "cell_type": "code",
   "execution_count": 38,
   "id": "ba12d275",
   "metadata": {},
   "outputs": [],
   "source": [
    "x_2 = np.linspace(-20, 20, 72)\n",
    "y_2 = np.zeros(len(x_2))\n",
    "h_1 = x_1[1] - x_1[0]\n",
    "y_2[0] = 1\n",
    "\n",
    "for i in range(len(x) - 1):\n",
    "    y_2[i+1] = rk4_stepd(fun, x_1[i], y_2[i], h_1)\n",
    "\n",
    "y_act2 = np.exp(np.arctan(x_2) + np.arctan(20))\n",
    "error_2 = np.abs(np.std(y_2 - y_act2))"
   ]
  },
  {
   "cell_type": "code",
   "execution_count": 41,
   "id": "fa1fa2be",
   "metadata": {},
   "outputs": [
    {
     "name": "stdout",
     "output_type": "stream",
     "text": [
      "For our second integrator, using 72 points and 792 function calls, the error is 2.394384673153139e-05\n"
     ]
    }
   ],
   "source": [
    "print('For our second integrator, using 72 points and 792 function calls, the error is', error_2)"
   ]
  },
  {
   "cell_type": "markdown",
   "id": "d5c808d6",
   "metadata": {},
   "source": [
    "With our new estimate, our integrator is accurate to fifth order, just as predicted!"
   ]
  },
  {
   "cell_type": "markdown",
   "id": "c4419726",
   "metadata": {},
   "source": [
    "## Problem 2"
   ]
  },
  {
   "cell_type": "markdown",
   "id": "854dc459",
   "metadata": {},
   "source": [
    "a)"
   ]
  },
  {
   "cell_type": "markdown",
   "id": "1286303f",
   "metadata": {},
   "source": [
    "We would like to program the evolution of decay products from U238. First we need all decay products and their corresponding half-lives. In total, their are 14 decay products so 15 total products "
   ]
  },
  {
   "cell_type": "code",
   "execution_count": 243,
   "id": "3a9ae009",
   "metadata": {},
   "outputs": [],
   "source": [
    "products = ['U238', 'T234', 'P234', 'U234', 'T230', \n",
    "            'R226', 'R222', 'Pol218', 'Plo214', 'B214', \n",
    "            'Pol214', 'Plo210', 'B210', 'Pol210', 'Plo206']\n",
    "\n",
    "half_lives = [4.468e9*525600, 24.10*1440, 6.7*60, \n",
    "            245500*525600, 75380*525600, 1600*525600, \n",
    "            3.8235*1440, 3.10, 26.8, 19.9, 164.3/(6e7), \n",
    "            22.3*525600, 5015*525600, 138376*1440]\n",
    "\n",
    "n = 15"
   ]
  },
  {
   "cell_type": "markdown",
   "id": "c8801ab5",
   "metadata": {},
   "source": [
    "We define the ODE that we will solve for. We have to consider how will each element's abundance evolve: the first one, U238, is the one decaying, so it strictly decays. The last one, Plo206, is stable, so it doesn't decay. All the other ones either decay or get contributions from the decay of other elements. We consider those three cases in our function:"
   ]
  },
  {
   "cell_type": "code",
   "execution_count": 82,
   "id": "cea10588",
   "metadata": {},
   "outputs": [],
   "source": [
    "def fun(t, N, half_life_arr = half_lives):\n",
    "    \n",
    "    n_elems = 15\n",
    "    \n",
    "    dNdt = np.zeros(n_elems)\n",
    "    \n",
    "    for i in range(n_elems):\n",
    "        \n",
    "        # First element\n",
    "        if i == 0: \n",
    "            dNdt[i] = - N[i]/half_life_arr[i]\n",
    "            \n",
    "        # Last element\n",
    "        elif i == n_elems - 1:\n",
    "            dNdt[i] = N[i - 1]/half_life_arr[i - 1]\n",
    "\n",
    "        # Middle elements \n",
    "        else: \n",
    "            dNdt[i] = N[i - 1]/half_life_arr[i - 1] - N[i]/half_life_arr[i]\n",
    "    \n",
    "    return dNdt*np.log(2)"
   ]
  },
  {
   "cell_type": "markdown",
   "id": "a855e7d8",
   "metadata": {},
   "source": [
    "Initiate decay: initial conditions are that there is 100% of U238 and no other elements."
   ]
  },
  {
   "cell_type": "code",
   "execution_count": 71,
   "id": "8bf54bbc",
   "metadata": {},
   "outputs": [],
   "source": [
    "N_0 = np.zeros(n)\n",
    "N_0[0] = 1"
   ]
  },
  {
   "cell_type": "markdown",
   "id": "1c895205",
   "metadata": {},
   "source": [
    "We will integrate up to the half-life of U238:"
   ]
  },
  {
   "cell_type": "code",
   "execution_count": 77,
   "id": "66d7e3f2",
   "metadata": {},
   "outputs": [],
   "source": [
    "t0 = 0\n",
    "t1 = half_lives[0]"
   ]
  },
  {
   "cell_type": "markdown",
   "id": "837f00a2",
   "metadata": {},
   "source": [
    "We can use a RK integrator with the 'Radau' method, it is convenient in dealing with stiff equations."
   ]
  },
  {
   "cell_type": "code",
   "execution_count": 83,
   "id": "f3d2a5f5",
   "metadata": {},
   "outputs": [],
   "source": [
    "decay_products = integrate.solve_ivp(fun, [t0, t1], N_0, method = 'Radau')\n",
    "N_1 = decay_products.y"
   ]
  },
  {
   "cell_type": "markdown",
   "id": "3a4ebe67",
   "metadata": {},
   "source": [
    "We can now show the final elements' abundance after one U238 half-life:"
   ]
  },
  {
   "cell_type": "code",
   "execution_count": 104,
   "id": "4c415ba9",
   "metadata": {},
   "outputs": [
    {
     "name": "stdout",
     "output_type": "stream",
     "text": [
      "U238 : 0.5000006884950289\n",
      "T234 : 7.388931085532596e-12\n",
      "P234 : 8.559100669619099e-14\n",
      "U234 : 2.7474689808351056e-05\n",
      "T230 : 8.436159100069252e-06\n",
      "R226 : 1.7906419996978036e-07\n",
      "R222 : 1.1723492612775009e-12\n",
      "Pol218 : 6.600777919373352e-16\n",
      "Plo214 : 5.706478975458318e-15\n",
      "B214 : 4.237273567597816e-15\n",
      "Pol214 : 5.830687162113244e-22\n",
      "Plo210 : 2.4957072995409117e-09\n",
      "B210 : 5.612549845501219e-07\n",
      "Pol210 : 4.2428455090597384e-08\n",
      "Plo206 : 0.4999626154040582\n"
     ]
    }
   ],
   "source": [
    "for i in range(n):\n",
    "    print(products[i],':', N_1[i, -1])"
   ]
  },
  {
   "cell_type": "markdown",
   "id": "cc8720ae",
   "metadata": {},
   "source": [
    "Notice all abundances sum up to 1 approx. and U238 is down to 0.5 as expected"
   ]
  },
  {
   "cell_type": "markdown",
   "id": "db53dd32",
   "metadata": {},
   "source": [
    "b)"
   ]
  },
  {
   "cell_type": "markdown",
   "id": "c8a5e1e7",
   "metadata": {},
   "source": [
    "i)"
   ]
  },
  {
   "cell_type": "markdown",
   "id": "5c6a890a",
   "metadata": {},
   "source": [
    "Now we would like to plot the ratio of Pb206 to U238 as a function of time. To do so we can twist our function from before but specifically for two elements:"
   ]
  },
  {
   "cell_type": "code",
   "execution_count": 128,
   "id": "77021efb",
   "metadata": {},
   "outputs": [],
   "source": [
    "def fun_alt(t, N, half_life):\n",
    "    \n",
    "    n_elems = 2\n",
    "\n",
    "    dNdt = np.zeros(n_elems)\n",
    "    dNdt[0] = - N[0]/half_life\n",
    "    dNdt[1] = N[0]/half_life\n",
    "\n",
    "    return dNdt*np.log(2)"
   ]
  },
  {
   "cell_type": "markdown",
   "id": "ccbd78e1",
   "metadata": {},
   "source": [
    "Again, we take an initial sample of 100% U238 and we integrate up to one half-life of U238."
   ]
  },
  {
   "cell_type": "code",
   "execution_count": 129,
   "id": "b897665a",
   "metadata": {},
   "outputs": [],
   "source": [
    "N_0 = np.array([1.0, 0.0])\n",
    "t0 = 0\n",
    "t1 = half_lives[0]"
   ]
  },
  {
   "cell_type": "markdown",
   "id": "c89873af",
   "metadata": {},
   "source": [
    "We write an intermediate function to be read by the scipy RK integrator:"
   ]
  },
  {
   "cell_type": "code",
   "execution_count": 178,
   "id": "0228d4ee",
   "metadata": {},
   "outputs": [],
   "source": [
    "def interm(t, N, half_life = half_lives[0]):\n",
    "    return fun_alt(t, N, half_life)"
   ]
  },
  {
   "cell_type": "code",
   "execution_count": 179,
   "id": "a56b66a0",
   "metadata": {},
   "outputs": [],
   "source": [
    "decay_products_PB = integrate.solve_ivp(interm, [t0, t1], N_0, method = 'Radau', t_eval = np.linspace(0, t1, 500))\n",
    "N_PB = decay_products_PB.y"
   ]
  },
  {
   "cell_type": "markdown",
   "id": "c379c876",
   "metadata": {},
   "source": [
    "We can compare our integration result with what the expected ratio would have been. That ratio should be $\\frac{1- exp(- \\lambda t)}{exp(- \\lambda t)}$"
   ]
  },
  {
   "cell_type": "code",
   "execution_count": 180,
   "id": "c248ef63",
   "metadata": {},
   "outputs": [],
   "source": [
    "t_PB = np.linspace(0, max(decay_products_PB.t), 500)\n",
    "lam_PB = np.log(2)/half_lives[0]\n",
    "\n",
    "real_ratio_PB = (1 - np.exp(- lam_PB*t_PB))/np.exp(- lam_PB*t_PB)\n",
    "calc_ratio_PB = N_PB[1]/N_PB[0]"
   ]
  },
  {
   "cell_type": "code",
   "execution_count": 181,
   "id": "4249a6c7",
   "metadata": {},
   "outputs": [
    {
     "data": {
      "image/png": "[encoded data removed]",
      "text/plain": [
       "<Figure size 432x288 with 1 Axes>"
      ]
     },
     "metadata": {
      "needs_background": "light"
     },
     "output_type": "display_data"
    }
   ],
   "source": [
    "plt.plot(decay_products_PB.t, calc_ratio_PB, color = 'g', label = 'Integration result')\n",
    "plt.plot(t_PB, real_ratio_PB, label = 'Real ratio', color = 'r', ls = ':')\n",
    "plt.xlabel('Time [minutes]')\n",
    "plt.ylabel('Ratio of Pb206 to U238')\n",
    "plt.title('Evolution of the ratio of Pb206 to U238')\n",
    "plt.legend()\n",
    "plt.show()"
   ]
  },
  {
   "cell_type": "markdown",
   "id": "c97ff678",
   "metadata": {},
   "source": [
    "We now perform a very similar task but with Th230 instead. This, time we integrate up until one half-life of Th230 (higher than U238! 14B against 4B years)"
   ]
  },
  {
   "cell_type": "code",
   "execution_count": 182,
   "id": "12387a96",
   "metadata": {},
   "outputs": [],
   "source": [
    "N_0 = np.array([1.0, 0.0])\n",
    "t0 = 0\n",
    "t2 = half_lives[4]"
   ]
  },
  {
   "cell_type": "code",
   "execution_count": 183,
   "id": "a9596a76",
   "metadata": {},
   "outputs": [],
   "source": [
    "def interm_2(t, N, half_life = half_lives[4]):\n",
    "    return fun_alt(t, N, half_life)"
   ]
  },
  {
   "cell_type": "code",
   "execution_count": 184,
   "id": "7bf06471",
   "metadata": {},
   "outputs": [],
   "source": [
    "decay_products_TH = integrate.solve_ivp(interm_2, [t0, t2], N_0, method = 'Radau', t_eval = np.linspace(t0, t2, 500))\n",
    "N_TH = decay_products_TH.y"
   ]
  },
  {
   "cell_type": "markdown",
   "id": "7c04a9ff",
   "metadata": {},
   "source": [
    "Again, we can compare with the expected true evolution of this ratio:"
   ]
  },
  {
   "cell_type": "code",
   "execution_count": 185,
   "id": "8153a8a1",
   "metadata": {},
   "outputs": [],
   "source": [
    "t_TH = np.linspace(0, max(decay_products_TH.t), 500)\n",
    "lam_TH = np.log(2)/half_lives[4]\n",
    "\n",
    "real_ratio_TH = (1 - np.exp(- lam_TH*t_TH))/np.exp(- lam_TH*t_TH)\n",
    "calc_ratio_TH = N_TH[1]/N_TH[0]"
   ]
  },
  {
   "cell_type": "code",
   "execution_count": 223,
   "id": "906dadb2",
   "metadata": {},
   "outputs": [
    {
     "data": {
      "image/png": "[encoded data removed]",
      "text/plain": [
       "<Figure size 432x288 with 1 Axes>"
      ]
     },
     "metadata": {
      "needs_background": "light"
     },
     "output_type": "display_data"
    }
   ],
   "source": [
    "plt.plot(decay_products_TH.t, calc_ratio_TH, color = 'g', label = 'Integration result')\n",
    "plt.plot(t_TH, real_ratio_TH, label = 'Real ratio', color = 'r', ls = ':')\n",
    "plt.xlabel('Time [minutes]')\n",
    "plt.ylabel('Ratio of Th230 to U238')\n",
    "plt.title('Evolution of the ratio of Th230 to U238')\n",
    "plt.legend()\n",
    "plt.show()"
   ]
  },
  {
   "cell_type": "markdown",
   "id": "eb9eb207",
   "metadata": {},
   "source": [
    "So the integrator behaves reasonably well!"
   ]
  },
  {
   "cell_type": "markdown",
   "id": "88f53da8",
   "metadata": {},
   "source": [
    "## Problem 3"
   ]
  },
  {
   "cell_type": "markdown",
   "id": "c37eedb5",
   "metadata": {},
   "source": [
    "b)"
   ]
  },
  {
   "cell_type": "markdown",
   "id": "3a139c32",
   "metadata": {},
   "source": [
    "In a) [c.f. PDF], we found a net set of parameters that make the equation for z linear. Now we find the best fit parameters for the data from \"dish_zenith.txt\""
   ]
  },
  {
   "cell_type": "markdown",
   "id": "f7c8fec5",
   "metadata": {},
   "source": [
    "First, load data:"
   ]
  },
  {
   "cell_type": "code",
   "execution_count": 204,
   "id": "657212df",
   "metadata": {},
   "outputs": [
    {
     "name": "stdout",
     "output_type": "stream",
     "text": [
      "There are 475 data points\n"
     ]
    }
   ],
   "source": [
    "data = np.loadtxt('dish_zenith.txt')\n",
    "x, y, z = data.T\n",
    "print('There are', len(x), 'data points')"
   ]
  },
  {
   "cell_type": "markdown",
   "id": "fb1fbfd4",
   "metadata": {},
   "source": [
    "Second, we create our A matrix. Given our new expression for z, we just pick the factors of the different parameters:"
   ]
  },
  {
   "cell_type": "code",
   "execution_count": 205,
   "id": "9a92f4eb",
   "metadata": {},
   "outputs": [],
   "source": [
    "A = np.zeros((475, 4))\n",
    "A[:,0] = x**2 + y**2\n",
    "A[:,1] = x\n",
    "A[:,2] = y\n",
    "A[:,3] = 1"
   ]
  },
  {
   "cell_type": "markdown",
   "id": "e21cba24",
   "metadata": {},
   "source": [
    "Use SVD decomposition:"
   ]
  },
  {
   "cell_type": "code",
   "execution_count": 206,
   "id": "64fa860f",
   "metadata": {},
   "outputs": [],
   "source": [
    "U, S, V_T = np.linalg.svd(A, False)"
   ]
  },
  {
   "cell_type": "markdown",
   "id": "24d0fef0",
   "metadata": {},
   "source": [
    "Invert S:"
   ]
  },
  {
   "cell_type": "code",
   "execution_count": 207,
   "id": "05d9dcb6",
   "metadata": {},
   "outputs": [],
   "source": [
    "S_inv = np.asarray(np.diag(1.0/S))"
   ]
  },
  {
   "cell_type": "markdown",
   "id": "1664164c",
   "metadata": {},
   "source": [
    "Compute the parameters:"
   ]
  },
  {
   "cell_type": "code",
   "execution_count": 210,
   "id": "26d55f63",
   "metadata": {},
   "outputs": [],
   "source": [
    "m = V_T.T@S_inv@U.T@z\n",
    "\n",
    "a, alpha, beta, gamma = m"
   ]
  },
  {
   "cell_type": "markdown",
   "id": "b22509bb",
   "metadata": {},
   "source": [
    "Which translate back to our old parameters as:"
   ]
  },
  {
   "cell_type": "code",
   "execution_count": 211,
   "id": "0788211d",
   "metadata": {},
   "outputs": [],
   "source": [
    "x0 = alpha/(-2*a)\n",
    "y0 = beta/(-2*a)\n",
    "z0 = gamma - a*x0**2 - a*y0**2 "
   ]
  },
  {
   "cell_type": "code",
   "execution_count": 222,
   "id": "40c38554",
   "metadata": {},
   "outputs": [
    {
     "name": "stdout",
     "output_type": "stream",
     "text": [
      "We find:\n",
      "alpha = 0.0004535990259733574\n",
      "beta = -0.019411558866522054\n",
      "gamma = -1512.3118166739066\n",
      "Or,\n",
      "x0 =  -1.3604886161809884\n",
      "y0 =  58.22147612323479\n",
      "z0 =  -1512.8772100375932\n"
     ]
    }
   ],
   "source": [
    "print('We find:')\n",
    "print('alpha =', alpha)\n",
    "print('beta =', beta)\n",
    "print('gamma =', gamma)\n",
    "print('Or,')\n",
    "print('x0 = ', x0)\n",
    "print('y0 = ', y0)\n",
    "print('z0 = ', z0)"
   ]
  },
  {
   "cell_type": "markdown",
   "id": "ffb85fbc",
   "metadata": {},
   "source": [
    "c)"
   ]
  },
  {
   "cell_type": "markdown",
   "id": "3457d392",
   "metadata": {},
   "source": [
    "Now we want to estimate the noise in the data, and from that, estimate the uncertainty on our parameters."
   ]
  },
  {
   "cell_type": "markdown",
   "id": "efd121bb",
   "metadata": {},
   "source": [
    "First, we can compute the residuals between our model and the data. We can approximate the error on the data to be the standard deviation of those residuals. If those residuals are approximately normally distributed, we can fairly assume that the noise is uncorrelated."
   ]
  },
  {
   "cell_type": "code",
   "execution_count": 224,
   "id": "f0c5cd7a",
   "metadata": {},
   "outputs": [],
   "source": [
    "residuals = A@m - z\n",
    "res_std = np.std(residuals)"
   ]
  },
  {
   "cell_type": "code",
   "execution_count": 228,
   "id": "2560d92f",
   "metadata": {},
   "outputs": [
    {
     "data": {
      "image/png": "[encoded data removed]",
      "text/plain": [
       "<Figure size 432x288 with 1 Axes>"
      ]
     },
     "metadata": {
      "needs_background": "light"
     },
     "output_type": "display_data"
    }
   ],
   "source": [
    "plt.hist(residuals, bins = 50)\n",
    "plt.ylabel('Quantity of data')\n",
    "plt.xlabel('Error on z')\n",
    "plt.title('Distribution of errors on z')\n",
    "plt.show()"
   ]
  },
  {
   "cell_type": "markdown",
   "id": "7d44a231",
   "metadata": {},
   "source": [
    "We can reasonably say that the noise is uncorrelated. From that assumption, we can build our noise matrix and estimate the error on our parameters:"
   ]
  },
  {
   "cell_type": "code",
   "execution_count": 229,
   "id": "4f18b54c",
   "metadata": {},
   "outputs": [],
   "source": [
    "N = np.eye(475)*(res_std**2)\n",
    "\n",
    "err_params = np.sqrt(np.diag(np.linalg.inv(A.T@(np.linalg.inv(N))@A)))"
   ]
  },
  {
   "cell_type": "markdown",
   "id": "b7884cc0",
   "metadata": {},
   "source": [
    "What would the error on the focal length be? Because $f = \\frac{1}{4a}$, the relative error should be the same as $a$'s:"
   ]
  },
  {
   "cell_type": "code",
   "execution_count": 230,
   "id": "643444a1",
   "metadata": {},
   "outputs": [],
   "source": [
    "f = (1/(4*a))/1000\n",
    "err_f = (f*err_params[0]/a)"
   ]
  },
  {
   "cell_type": "code",
   "execution_count": 242,
   "id": "c7d1fde1",
   "metadata": {},
   "outputs": [
    {
     "name": "stdout",
     "output_type": "stream",
     "text": [
      "Computed focal length f is 1.4997 (+/-) 0.0006\n"
     ]
    }
   ],
   "source": [
    "print('Computed focal length f is', round(f, 4), '(+/-)', round(err_f, 4))"
   ]
  },
  {
   "cell_type": "markdown",
   "id": "bc02aed6",
   "metadata": {},
   "source": [
    "Which is pretty close to our expected focal length of 1.5m"
   ]
  },
  {
   "cell_type": "code",
   "execution_count": null,
   "id": "0f66dcf6",
   "metadata": {},
   "outputs": [],
   "source": []
  }
 ],
 "metadata": {
  "kernelspec": {
   "display_name": "Python 3",
   "language": "python",
   "name": "python3"
  },
  "language_info": {
   "codemirror_mode": {
    "name": "ipython",
    "version": 3
   },
   "file_extension": ".py",
   "mimetype": "text/x-python",
   "name": "python",
   "nbconvert_exporter": "python",
   "pygments_lexer": "ipython3",
   "version": "3.8.8"
  }
 },
 "nbformat": 4,
 "nbformat_minor": 5
}
