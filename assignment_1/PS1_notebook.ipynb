{
 "cells": [
  {
   "cell_type": "markdown",
   "id": "d6078cf2",
   "metadata": {},
   "source": [
    "### Patrick Horlaville (260931235) - Problem Set 1 - PHYS 512 : Computational Physics with Applications"
   ]
  },
  {
   "cell_type": "markdown",
   "id": "26fdcbdd",
   "metadata": {},
   "source": [
    "Prof: Jon Sievers. TAs: Marcus Merryfield, Rigel Zifkin"
   ]
  },
  {
   "cell_type": "code",
   "execution_count": 1,
   "id": "e4cd97e5",
   "metadata": {},
   "outputs": [],
   "source": [
    "import numpy as np"
   ]
  },
  {
   "cell_type": "markdown",
   "id": "85fed830",
   "metadata": {},
   "source": [
    "1b)"
   ]
  },
  {
   "cell_type": "markdown",
   "id": "2e91a124",
   "metadata": {},
   "source": [
    "A 64-bit machine's floating point format typically is"
   ]
  },
  {
   "cell_type": "code",
   "execution_count": 2,
   "id": "14d8ff46",
   "metadata": {},
   "outputs": [],
   "source": [
    "e_m = 2**(-52)"
   ]
  },
  {
   "cell_type": "code",
   "execution_count": 3,
   "id": "adca8bf3",
   "metadata": {},
   "outputs": [],
   "source": [
    "def deriv(funct, x, delta):\n",
    "\n",
    "    p1 = 8*(funct(x + delta) - funct(x - delta))\n",
    "    p2 = funct(x + 2*delta) - funct(x - 2*delta)\n",
    "    \n",
    "    deriv = (1/(12*delta))*(p1 - p2)\n",
    "    \n",
    "    return deriv"
   ]
  },
  {
   "cell_type": "code",
   "execution_count": 8,
   "id": "3858b42b",
   "metadata": {},
   "outputs": [],
   "source": [
    "def funct1(x):\n",
    "    return np.exp(x)"
   ]
  },
  {
   "cell_type": "code",
   "execution_count": 9,
   "id": "1ef7abf0",
   "metadata": {},
   "outputs": [],
   "source": [
    "x = 10\n",
    "e_f = e_m\n",
    "delta = (e_f)**(1/5)"
   ]
  },
  {
   "cell_type": "code",
   "execution_count": 14,
   "id": "5c8b21ab",
   "metadata": {},
   "outputs": [],
   "source": [
    "deriv_est = deriv(funct1, x, delta)"
   ]
  },
  {
   "cell_type": "code",
   "execution_count": 30,
   "id": "c6ba883c",
   "metadata": {},
   "outputs": [],
   "source": [
    "th_frac_err = (e_m**(4/5))\n",
    "real_frac_err = (deriv_est - funct1(x))/funct1(x)"
   ]
  },
  {
   "cell_type": "code",
   "execution_count": 31,
   "id": "43bc4db0",
   "metadata": {},
   "outputs": [
    {
     "name": "stdout",
     "output_type": "stream",
     "text": [
      "Our estimate for the derivative at x = 10  for f(x) = exp(x) is 22026.465797932942 , which results in a fractional error of 1.419303649265061e-10 , compared to a predicted one of  3.000213634488528e-13\n"
     ]
    }
   ],
   "source": [
    "print('Our estimate for the derivative at x =', x, ' for f(x) = exp(x) is', deriv_est, ', which results in a fractional error of', real_frac_err, ', compared to a predicted one of ', th_frac_err)"
   ]
  },
  {
   "cell_type": "code",
   "execution_count": 34,
   "id": "c7b834e7",
   "metadata": {},
   "outputs": [],
   "source": [
    "def funct2(x):\n",
    "    return np.exp(0.01*x)"
   ]
  },
  {
   "cell_type": "code",
   "execution_count": 51,
   "id": "dd30a5fe",
   "metadata": {},
   "outputs": [],
   "source": [
    "x2 = 10\n",
    "delta2 = 100*(e_m**(1/5))"
   ]
  },
  {
   "cell_type": "code",
   "execution_count": 52,
   "id": "dbb5a9e8",
   "metadata": {},
   "outputs": [],
   "source": [
    "deriv_est2 = deriv(funct2, x2, delta2)"
   ]
  },
  {
   "cell_type": "code",
   "execution_count": 55,
   "id": "3404f1f2",
   "metadata": {},
   "outputs": [],
   "source": [
    "th_frac_err2 = 0.01*(e_m**(4/5))\n",
    "real_frac_err2 = (np.absolute(deriv_est2 - 0.01*funct2(x2)))/(0.01*funct2(x2))"
   ]
  },
  {
   "cell_type": "code",
   "execution_count": 56,
   "id": "28f0cc2a",
   "metadata": {},
   "outputs": [
    {
     "name": "stdout",
     "output_type": "stream",
     "text": [
      "Our estimate for the derivative at x = 10  for f(x) = exp(0.01x) is 0.011051709180755005 , which results in a fractional error of 1.332626661646827e-13 , compared to a predicted one of  3.000213634488528e-15\n"
     ]
    }
   ],
   "source": [
    "print('Our estimate for the derivative at x =', x2, ' for f(x) = exp(0.01x) is', deriv_est2, ', which results in a fractional error of', real_frac_err2, ', compared to a predicted one of ', th_frac_err2)"
   ]
  },
  {
   "cell_type": "markdown",
   "id": "13e2c716",
   "metadata": {},
   "source": [
    "2)"
   ]
  },
  {
   "cell_type": "code",
   "execution_count": null,
   "id": "bfc51620",
   "metadata": {},
   "outputs": [],
   "source": [
    "def ndiff(fun, x, full = False):\n",
    "    \n",
    "    dx = \n",
    "    \n",
    "    deriv = (fun(x + dx) - fun(x - dx))/(2*dx)\n",
    "    \n",
    "    err = \n",
    "    "
   ]
  },
  {
   "cell_type": "code",
   "execution_count": 58,
   "id": "6f6f8cd0",
   "metadata": {},
   "outputs": [
    {
     "name": "stdout",
     "output_type": "stream",
     "text": [
      "0 0\n",
      "1 1\n",
      "2 4\n",
      "3 5\n",
      "4 9\n"
     ]
    }
   ],
   "source": [
    "for i,j in enumerate(np.array([0,1,4,5,9])):\n",
    "    print(i, j)"
   ]
  },
  {
   "cell_type": "code",
   "execution_count": null,
   "id": "40f2c27b",
   "metadata": {},
   "outputs": [],
   "source": []
  }
 ],
 "metadata": {
  "kernelspec": {
   "display_name": "Python 3",
   "language": "python",
   "name": "python3"
  },
  "language_info": {
   "codemirror_mode": {
    "name": "ipython",
    "version": 3
   },
   "file_extension": ".py",
   "mimetype": "text/x-python",
   "name": "python",
   "nbconvert_exporter": "python",
   "pygments_lexer": "ipython3",
   "version": "3.8.8"
  }
 },
 "nbformat": 4,
 "nbformat_minor": 5
}
