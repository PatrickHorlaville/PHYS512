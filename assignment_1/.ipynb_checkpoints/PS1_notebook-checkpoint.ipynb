{
 "cells": [
  {
   "cell_type": "markdown",
   "id": "8302e750",
   "metadata": {},
   "source": [
    "### Patrick Horlaville (260931235) - Problem Set 1 - PHYS 512 : Computational Physics with Applications"
   ]
  },
  {
   "cell_type": "markdown",
   "id": "8c8357ee",
   "metadata": {},
   "source": [
    "Prof: Jon Sievers. TAs: Marcus Merryfield, Rigel Zifkin"
   ]
  },
  {
   "cell_type": "code",
   "execution_count": 1,
   "id": "e4cd97e5",
   "metadata": {},
   "outputs": [],
   "source": [
    "import numpy as np\n",
    "import matplotlib.pyplot as plt"
   ]
  },
  {
   "cell_type": "markdown",
   "id": "082861dd",
   "metadata": {},
   "source": [
    "1b)"
   ]
  },
  {
   "cell_type": "markdown",
   "id": "bb6e9633",
   "metadata": {},
   "source": [
    "A 64-bit machine's floating point format typically is"
   ]
  },
  {
   "cell_type": "code",
   "execution_count": 2,
   "id": "b36c7b8d",
   "metadata": {},
   "outputs": [],
   "source": [
    "e_m = 2**(-52)"
   ]
  },
  {
   "cell_type": "code",
   "execution_count": 7,
   "id": "c11a6d56",
   "metadata": {},
   "outputs": [],
   "source": [
    "def deriv(funct, x, delta):\n",
    "\n",
    "    p1 = 8*(funct(x + delta) - funct(x - delta))\n",
    "    p2 = funct(x + 2*delta) - funct(x - 2*delta)\n",
    "    \n",
    "    deriv = (1/(12*delta))*(p1 - p2)\n",
    "    \n",
    "    return deriv"
   ]
  },
  {
   "cell_type": "code",
   "execution_count": 3,
   "id": "7d602d9d",
   "metadata": {},
   "outputs": [],
   "source": [
    "def funct1(x):\n",
    "    return np.exp(x)"
   ]
  },
  {
   "cell_type": "code",
   "execution_count": 5,
   "id": "3aea80f7",
   "metadata": {},
   "outputs": [],
   "source": [
    "x_t = 10\n",
    "e_f = e_m\n",
    "delta_1a = (e_f)**(1/5)"
   ]
  },
  {
   "cell_type": "code",
   "execution_count": 8,
   "id": "652ce4af",
   "metadata": {},
   "outputs": [],
   "source": [
    "deriv_est_1a = deriv(funct1, x_t, delta_1a)"
   ]
  },
  {
   "cell_type": "code",
   "execution_count": 16,
   "id": "a92ae377",
   "metadata": {},
   "outputs": [],
   "source": [
    "frac_err_1a = (deriv_est_1a - funct1(x_t))/funct1(x_t)"
   ]
  },
  {
   "cell_type": "code",
   "execution_count": 17,
   "id": "b5c120c9",
   "metadata": {},
   "outputs": [
    {
     "name": "stdout",
     "output_type": "stream",
     "text": [
      "Our estimate for the derivative at x = 10  for f(x) = exp(x) is 22026.465794831664 , which results in a fractional error of 1.132529426763935e-12\n"
     ]
    }
   ],
   "source": [
    "print('Our estimate for the derivative at x =', x_t, ' for f(x) = exp(x) is', deriv_est_1a, ', which results in a fractional error of', frac_err_1a)"
   ]
  },
  {
   "cell_type": "code",
   "execution_count": 12,
   "id": "84060be0",
   "metadata": {},
   "outputs": [],
   "source": [
    "def funct2(x):\n",
    "    return np.exp(0.01*x)"
   ]
  },
  {
   "cell_type": "code",
   "execution_count": 13,
   "id": "f4ae8bba",
   "metadata": {},
   "outputs": [],
   "source": [
    "x_t = 10\n",
    "delta_1b = 100*(e_m**(1/5))"
   ]
  },
  {
   "cell_type": "code",
   "execution_count": 18,
   "id": "ca422129",
   "metadata": {},
   "outputs": [],
   "source": [
    "deriv_est_1b = deriv(funct2, x_t, delta_1b)"
   ]
  },
  {
   "cell_type": "code",
   "execution_count": 20,
   "id": "5b921c24",
   "metadata": {},
   "outputs": [],
   "source": [
    "frac_err_1b = (np.absolute(deriv_est_1b - 0.01*funct2(x_t)))/(0.01*funct2(x_t))"
   ]
  },
  {
   "cell_type": "code",
   "execution_count": 21,
   "id": "b2970de3",
   "metadata": {},
   "outputs": [
    {
     "name": "stdout",
     "output_type": "stream",
     "text": [
      "Our estimate for the derivative at x = 10  for f(x) = exp(0.01x) is 0.011051709180755005 , which results in a fractional error of 1.332626661646827e-13\n"
     ]
    }
   ],
   "source": [
    "print('Our estimate for the derivative at x =', x_t, ' for f(x) = exp(0.01x) is', deriv_est_1b, ', which results in a fractional error of', frac_err_1b)"
   ]
  },
  {
   "cell_type": "markdown",
   "id": "7de2155e",
   "metadata": {},
   "source": [
    "2)"
   ]
  },
  {
   "cell_type": "code",
   "execution_count": 23,
   "id": "21843a30",
   "metadata": {},
   "outputs": [],
   "source": [
    "x_t = 10\n",
    "d_approx = x_t*(e_m**(1/3))"
   ]
  },
  {
   "cell_type": "code",
   "execution_count": 24,
   "id": "c10a9efe",
   "metadata": {},
   "outputs": [
    {
     "data": {
      "text/plain": [
       "6.055454452393343e-05"
      ]
     },
     "execution_count": 24,
     "metadata": {},
     "output_type": "execute_result"
    }
   ],
   "source": [
    "d_approx"
   ]
  },
  {
   "cell_type": "code",
   "execution_count": 25,
   "id": "fc906e1c",
   "metadata": {},
   "outputs": [],
   "source": [
    "def third_deriv(funct, x, d):\n",
    "    \n",
    "    p1 = funct(x + 2*d) - funct(x - 2*d)\n",
    "    p2 = funct(x + d) - funct(x - d)\n",
    "    \n",
    "    third_d = (p1 - 2*p2)/(2*(d**3))\n",
    "    \n",
    "    return third_d"
   ]
  },
  {
   "cell_type": "code",
   "execution_count": 58,
   "id": "19252f03",
   "metadata": {},
   "outputs": [],
   "source": [
    "def est_delta(funct, x, d_approx, n):\n",
    "    \n",
    "    ds = [d_approx for i in range(n)]\n",
    "    third_d = [0 for i in range(n)]\n",
    "    for i in range(n):\n",
    "        if i == 0:\n",
    "            third_d[i] = third_deriv(funct, x, d_approx)\n",
    "        else:\n",
    "            third_d[i] = third_deriv(funct, x, ds[i-1])\n",
    "            ds[i] = ((e_m*funct(x))/third_d[i])**(1/3)\n",
    "    '''    \n",
    "    if ds[-1] >:\n",
    "         opti_delta = ds[-1]\n",
    "    else:\n",
    "        good = ds < e_m\n",
    "        ac_ds = ds[good]\n",
    "        opti_delta = ac_ds[-1]\n",
    "     '''       \n",
    "    \n",
    "    opti_delta = ds[-1]\n",
    "    \n",
    "    return opti_delta"
   ]
  },
  {
   "cell_type": "code",
   "execution_count": 59,
   "id": "e37e6502",
   "metadata": {},
   "outputs": [
    {
     "name": "stderr",
     "output_type": "stream",
     "text": [
      "<ipython-input-58-5493d338970d>:10: RuntimeWarning: divide by zero encountered in double_scalars\n",
      "  ds[i] = ((e_m*funct(x))/third_d[i])**(1/3)\n",
      "<ipython-input-25-6f3cf05b10da>:6: RuntimeWarning: invalid value encountered in double_scalars\n",
      "  third_d = (p1 - 2*p2)/(2*(d**3))\n"
     ]
    },
    {
     "data": {
      "text/plain": [
       "nan"
      ]
     },
     "execution_count": 59,
     "metadata": {},
     "output_type": "execute_result"
    }
   ],
   "source": [
    "est_delta(funct1, x_t, d_approx, 10)"
   ]
  },
  {
   "cell_type": "code",
   "execution_count": 60,
   "id": "3468470e",
   "metadata": {},
   "outputs": [
    {
     "data": {
      "text/plain": [
       "22028.28799999996"
      ]
     },
     "execution_count": 60,
     "metadata": {},
     "output_type": "execute_result"
    }
   ],
   "source": [
    "third_deriv(funct1, x_t, d_approx)"
   ]
  },
  {
   "cell_type": "code",
   "execution_count": 62,
   "id": "f62ffd50",
   "metadata": {},
   "outputs": [
    {
     "name": "stderr",
     "output_type": "stream",
     "text": [
      "<ipython-input-62-faf76de8dd65>:8: RuntimeWarning: divide by zero encountered in double_scalars\n",
      "  ds_t[i] = ((e_m*funct1(x_t))/third_d_t[i])**(1/3)\n",
      "<ipython-input-25-6f3cf05b10da>:6: RuntimeWarning: invalid value encountered in double_scalars\n",
      "  third_d = (p1 - 2*p2)/(2*(d**3))\n"
     ]
    }
   ],
   "source": [
    "ds_t = [d_approx for i in range(10)]\n",
    "third_d_t = [0 for i in range(10)]\n",
    "\n",
    "for i in range(10):\n",
    "    if i == 0:\n",
    "        third_d_t[i] = third_deriv(funct1, x_t, d_approx)\n",
    "    else:\n",
    "        third_d_t[i] = third_deriv(funct1, x_t, ds_t[i-1])\n",
    "            if third_d_t[i] == 0:\n",
    "                ds_t[i] = ((e_m*funct1(x_t))/third_d_t[i-1])**(1/3)\n",
    "                opti_delta = ds_t[i]\n",
    "            else:\n",
    "                ds_t[i] = ((e_m*funct1(x_t))/third_d_t[i])**(1/3)"
   ]
  },
  {
   "cell_type": "code",
   "execution_count": 152,
   "id": "e66b72d8",
   "metadata": {},
   "outputs": [],
   "source": [
    "def ndiff_t(funct, x, dx):\n",
    "    \n",
    "    deriv = (funct(x + dx) - funct(x - dx))/(2*dx)\n",
    "    \n",
    "    return deriv"
   ]
  },
  {
   "cell_type": "code",
   "execution_count": 426,
   "id": "caf65577",
   "metadata": {},
   "outputs": [
    {
     "data": {
      "text/plain": [
       "6.04883098276332e-07"
      ]
     },
     "execution_count": 426,
     "metadata": {},
     "output_type": "execute_result"
    }
   ],
   "source": [
    "ndiff_t(funct1, 10, est_delta(funct1, 10, d_approx, 10)) - np.exp(10)"
   ]
  },
  {
   "cell_type": "code",
   "execution_count": 156,
   "id": "ae274d60",
   "metadata": {},
   "outputs": [
    {
     "data": {
      "text/plain": [
       "1.4328761608339846e-06"
      ]
     },
     "execution_count": 156,
     "metadata": {},
     "output_type": "execute_result"
    }
   ],
   "source": [
    "ndiff_t(funct1, 10, est_delta(funct1, 10)) - np.exp(10)"
   ]
  },
  {
   "cell_type": "code",
   "execution_count": 159,
   "id": "c248481d",
   "metadata": {},
   "outputs": [
    {
     "data": {
      "text/plain": [
       "1.3333683455130085e-05"
      ]
     },
     "execution_count": 159,
     "metadata": {},
     "output_type": "execute_result"
    }
   ],
   "source": [
    "ndiff_t(funct1, 10, d_approx) - np.exp(10)"
   ]
  },
  {
   "cell_type": "code",
   "execution_count": 446,
   "id": "a0cd0f07",
   "metadata": {},
   "outputs": [],
   "source": [
    "def ndiff(funct, x, full = False):\n",
    "    \n",
    "    n = 10\n",
    "    d_approx = x*(e_m**(1/3))\n",
    "    third_d = third_deriv(funct, x, d_approx)\n",
    "    \n",
    "    if third_d < e_m:\n",
    "        delta = x*(e_m**(1/3))\n",
    "        deriv = (funct(x + delta) - funct(x - delta))/(2*delta)\n",
    "        err = e_m**(2/3)\n",
    "    \n",
    "    if third_d > e_m:\n",
    "        delta = est_delta(funct, x, d_approx, n)\n",
    "        deriv = (funct(x + delta) - funct(x - delta))/(2*delta)\n",
    "        err = ((e_m**2)*((funct(x))**2)*(third_deriv(funct, x, delta)))**(1/3)\n",
    "    \n",
    "    if full:\n",
    "        return deriv, delta, err\n",
    "    else:\n",
    "        return deriv"
   ]
  },
  {
   "cell_type": "markdown",
   "id": "f264bded",
   "metadata": {},
   "source": [
    "3)"
   ]
  },
  {
   "cell_type": "code",
   "execution_count": 64,
   "id": "317e2fe7",
   "metadata": {},
   "outputs": [],
   "source": [
    "data = np.loadtxt(\"lakeshore.txt\")"
   ]
  },
  {
   "cell_type": "code",
   "execution_count": 65,
   "id": "7e1baa72",
   "metadata": {},
   "outputs": [],
   "source": [
    "temperature, voltage, dVdT = np.transpose(data)"
   ]
  },
  {
   "cell_type": "code",
   "execution_count": 67,
   "id": "8600ab8a",
   "metadata": {},
   "outputs": [
    {
     "data": {
      "text/plain": [
       "Text(0, 0.5, 'Temperature')"
      ]
     },
     "execution_count": 67,
     "metadata": {},
     "output_type": "execute_result"
    },
    {
     "data": {
      "image/png": "[encoded data removed]",
      "text/plain": [
       "<Figure size 432x288 with 1 Axes>"
      ]
     },
     "metadata": {
      "needs_background": "light"
     },
     "output_type": "display_data"
    }
   ],
   "source": [
    "plt.plot(voltage, temperature, '.k')\n",
    "plt.xlabel('Voltage')\n",
    "plt.ylabel('Temperature')"
   ]
  },
  {
   "cell_type": "code",
   "execution_count": 68,
   "id": "e229882c",
   "metadata": {},
   "outputs": [],
   "source": [
    "def lakeshore(V, data):\n",
    "    \n",
    "    temp, volt, dVdT = np.transpose(data)\n",
    "    \n",
    "    volt = volt[::-1]\n",
    "    temp = temp[::-1]\n",
    "    \n",
    "    if type(V) == type(np.array([])):\n",
    "        pass\n",
    "    else: \n",
    "        V = np.array([V])\n",
    "        \n",
    "    t_interp = np.zeros(len(V))\n",
    "    \n",
    "    for i in range(len(V)):    \n",
    "        ind = np.max(np.where(V[i] >= volt)[0])\n",
    "        v_use = volt[ind - 1:ind + 3]\n",
    "        t_use = temp[ind - 1:ind + 3]\n",
    "        pars = np.polyfit(v_use, t_use, 3)\n",
    "        pred = np.polyval(pars, V[i])\n",
    "        t_interp[i] = pred\n",
    "    \n",
    "    \n",
    "    return t_interp"
   ]
  },
  {
   "cell_type": "code",
   "execution_count": 70,
   "id": "1d09c854",
   "metadata": {},
   "outputs": [
    {
     "name": "stderr",
     "output_type": "stream",
     "text": [
      "<ipython-input-70-807ab46fcfe8>:2: RankWarning: Polyfit may be poorly conditioned\n",
      "  t_try = lakeshore(v_try, data)\n"
     ]
    },
    {
     "data": {
      "text/plain": [
       "[<matplotlib.lines.Line2D at 0x116674b50>]"
      ]
     },
     "execution_count": 70,
     "metadata": {},
     "output_type": "execute_result"
    },
    {
     "data": {
      "image/png": "[encoded data removed]",
      "text/plain": [
       "<Figure size 432x288 with 1 Axes>"
      ]
     },
     "metadata": {
      "needs_background": "light"
     },
     "output_type": "display_data"
    }
   ],
   "source": [
    "v_try = np.linspace(voltage[1], voltage[-2])\n",
    "t_try = lakeshore(v_try, data)\n",
    "plt.plot(v_try, t_try)\n",
    "plt.plot(voltage, temperature, '.k', alpha = 0.5)"
   ]
  },
  {
   "cell_type": "markdown",
   "id": "1acf1b17",
   "metadata": {},
   "source": [
    "4)"
   ]
  },
  {
   "cell_type": "code",
   "execution_count": 79,
   "id": "adba14bd",
   "metadata": {},
   "outputs": [],
   "source": [
    "from scipy import interpolate"
   ]
  },
  {
   "cell_type": "code",
   "execution_count": 72,
   "id": "12fad952",
   "metadata": {},
   "outputs": [],
   "source": [
    "x_true = np.linspace(-np.pi/2, np.pi/2, 10)\n",
    "y_true = np.cos(x_true)"
   ]
  },
  {
   "cell_type": "code",
   "execution_count": 73,
   "id": "3aa276ff",
   "metadata": {},
   "outputs": [
    {
     "data": {
      "text/plain": [
       "[<matplotlib.lines.Line2D at 0x11675a8b0>]"
      ]
     },
     "execution_count": 73,
     "metadata": {},
     "output_type": "execute_result"
    },
    {
     "data": {
      "image/png": "[encoded data removed]",
      "text/plain": [
       "<Figure size 432x288 with 1 Axes>"
      ]
     },
     "metadata": {
      "needs_background": "light"
     },
     "output_type": "display_data"
    }
   ],
   "source": [
    "plt.plot(x_true, y_true, '.k')"
   ]
  },
  {
   "cell_type": "markdown",
   "id": "57ce4bde",
   "metadata": {},
   "source": [
    "Polynomial interpolation (here, a cubic polynomial fit)"
   ]
  },
  {
   "cell_type": "code",
   "execution_count": 71,
   "id": "1dde6b41",
   "metadata": {},
   "outputs": [],
   "source": [
    "def cubic_interp(x_interp, x, y):\n",
    "    \n",
    "    if type(x_interp) == type(np.array([])):\n",
    "        pass\n",
    "    else: \n",
    "        x_interp = np.array([x_interp])\n",
    "     \n",
    "    y_interp = np.zeros(len(x_interp))\n",
    "    \n",
    "    for i in range(len(x_interp)):    \n",
    "        ind = np.max(np.where(x_interp[i] >= x)[0])\n",
    "        if ind == 0:\n",
    "            x_use = x[0:ind + 3]\n",
    "            y_use = y[0:ind + 3]\n",
    "        else:    \n",
    "            x_use = x[ind - 1:ind + 3]\n",
    "            y_use = y[ind - 1:ind + 3]\n",
    "        \n",
    "        pars = np.polyfit(x_use, y_use, 3)\n",
    "        pred = np.polyval(pars, x_interp[i])\n",
    "        y_interp[i] = pred\n",
    "    \n",
    "    \n",
    "    return y_interp"
   ]
  },
  {
   "cell_type": "code",
   "execution_count": 93,
   "id": "34be3509",
   "metadata": {},
   "outputs": [
    {
     "name": "stderr",
     "output_type": "stream",
     "text": [
      "<ipython-input-93-de97d3beed3c>:2: RankWarning: Polyfit may be poorly conditioned\n",
      "  y_try = cubic_interp(x_try, x_true, y_true)\n",
      "<ipython-input-93-de97d3beed3c>:2: RankWarning: Polyfit may be poorly conditioned\n",
      "  y_try = cubic_interp(x_try, x_true, y_true)\n",
      "<ipython-input-93-de97d3beed3c>:2: RankWarning: Polyfit may be poorly conditioned\n",
      "  y_try = cubic_interp(x_try, x_true, y_true)\n",
      "<ipython-input-93-de97d3beed3c>:2: RankWarning: Polyfit may be poorly conditioned\n",
      "  y_try = cubic_interp(x_try, x_true, y_true)\n",
      "<ipython-input-93-de97d3beed3c>:2: RankWarning: Polyfit may be poorly conditioned\n",
      "  y_try = cubic_interp(x_try, x_true, y_true)\n",
      "<ipython-input-93-de97d3beed3c>:2: RankWarning: Polyfit may be poorly conditioned\n",
      "  y_try = cubic_interp(x_try, x_true, y_true)\n"
     ]
    }
   ],
   "source": [
    "x_try = np.linspace(-np.pi/2, np.pi/2, 20)\n",
    "y_try = cubic_interp(x_try, x_true, y_true)"
   ]
  },
  {
   "cell_type": "code",
   "execution_count": 94,
   "id": "5d668224",
   "metadata": {},
   "outputs": [
    {
     "data": {
      "text/plain": [
       "[<matplotlib.lines.Line2D at 0x118497430>]"
      ]
     },
     "execution_count": 94,
     "metadata": {},
     "output_type": "execute_result"
    },
    {
     "data": {
      "image/png": "[encoded data removed]",
      "text/plain": [
       "<Figure size 432x288 with 1 Axes>"
      ]
     },
     "metadata": {
      "needs_background": "light"
     },
     "output_type": "display_data"
    }
   ],
   "source": [
    "plt.plot(x_try, y_try - np.cos(x_try))"
   ]
  },
  {
   "cell_type": "code",
   "execution_count": 95,
   "id": "feed9c76",
   "metadata": {},
   "outputs": [
    {
     "data": {
      "text/plain": [
       "[<matplotlib.lines.Line2D at 0x118566a00>]"
      ]
     },
     "execution_count": 95,
     "metadata": {},
     "output_type": "execute_result"
    },
    {
     "data": {
      "image/png": "[encoded data removed]",
      "text/plain": [
       "<Figure size 432x288 with 1 Axes>"
      ]
     },
     "metadata": {
      "needs_background": "light"
     },
     "output_type": "display_data"
    }
   ],
   "source": [
    "plt.plot(x_try, y_try, '.k')\n",
    "plt.plot(x_true, y_true, '.r')"
   ]
  },
  {
   "cell_type": "markdown",
   "id": "d42c4b04",
   "metadata": {},
   "source": [
    "Cubic spline fit"
   ]
  },
  {
   "cell_type": "code",
   "execution_count": 97,
   "id": "aad1e897",
   "metadata": {},
   "outputs": [],
   "source": [
    "spln = interpolate.splrep(x_true, y_true)"
   ]
  },
  {
   "cell_type": "code",
   "execution_count": 98,
   "id": "2b084755",
   "metadata": {},
   "outputs": [],
   "source": [
    "y_try_spl = interpolate.splev(x_try, spln)"
   ]
  },
  {
   "cell_type": "code",
   "execution_count": 99,
   "id": "4f6cbb65",
   "metadata": {},
   "outputs": [
    {
     "data": {
      "text/plain": [
       "[<matplotlib.lines.Line2D at 0x11864eb80>]"
      ]
     },
     "execution_count": 99,
     "metadata": {},
     "output_type": "execute_result"
    },
    {
     "data": {
      "image/png": "[encoded data removed]",
      "text/plain": [
       "<Figure size 432x288 with 1 Axes>"
      ]
     },
     "metadata": {
      "needs_background": "light"
     },
     "output_type": "display_data"
    }
   ],
   "source": [
    "plt.plot(x_try, y_try_spl, '.k')\n",
    "plt.plot(x_true, y_true, '.r')"
   ]
  },
  {
   "cell_type": "code",
   "execution_count": 104,
   "id": "44628d18",
   "metadata": {},
   "outputs": [
    {
     "data": {
      "text/plain": [
       "[<matplotlib.lines.Line2D at 0x1186d4820>]"
      ]
     },
     "execution_count": 104,
     "metadata": {},
     "output_type": "execute_result"
    },
    {
     "data": {
      "image/png": "[encoded data removed]",
      "text/plain": [
       "<Figure size 432x288 with 1 Axes>"
      ]
     },
     "metadata": {
      "needs_background": "light"
     },
     "output_type": "display_data"
    }
   ],
   "source": [
    "plt.plot(x_try, y_try_spl - np.cos(x_try))"
   ]
  },
  {
   "cell_type": "markdown",
   "id": "cb3a0288",
   "metadata": {},
   "source": [
    "Rational function"
   ]
  },
  {
   "cell_type": "code",
   "execution_count": null,
   "id": "818008ab",
   "metadata": {},
   "outputs": [],
   "source": []
  }
 ],
 "metadata": {
  "kernelspec": {
   "display_name": "Python 3",
   "language": "python",
   "name": "python3"
  },
  "language_info": {
   "codemirror_mode": {
    "name": "ipython",
    "version": 3
   },
   "file_extension": ".py",
   "mimetype": "text/x-python",
   "name": "python",
   "nbconvert_exporter": "python",
   "pygments_lexer": "ipython3",
   "version": "3.8.8"
  }
 },
 "nbformat": 4,
 "nbformat_minor": 5
}
