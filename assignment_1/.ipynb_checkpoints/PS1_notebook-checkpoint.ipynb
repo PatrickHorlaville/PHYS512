{
 "cells": [
  {
   "cell_type": "markdown",
   "id": "fc448f5f",
   "metadata": {},
   "source": [
    "### Patrick Horlaville (260931235) - Problem Set 1 - PHYS 512 : Computational Physics with Applications"
   ]
  },
  {
   "cell_type": "markdown",
   "id": "5cb2d267",
   "metadata": {},
   "source": [
    "Prof: Jon Sievers. TAs: Marcus Merryfield, Rigel Zifkin"
   ]
  },
  {
   "cell_type": "code",
   "execution_count": 1,
   "id": "e4cd97e5",
   "metadata": {},
   "outputs": [],
   "source": [
    "import numpy as np"
   ]
  },
  {
   "cell_type": "markdown",
   "id": "2f9565ee",
   "metadata": {},
   "source": [
    "1b)"
   ]
  },
  {
   "cell_type": "markdown",
   "id": "330b4e84",
   "metadata": {},
   "source": [
    "A 64-bit machine's floating point format typically is"
   ]
  },
  {
   "cell_type": "code",
   "execution_count": 2,
   "id": "3550dc3b",
   "metadata": {},
   "outputs": [],
   "source": [
    "e_m = 2**(-52)"
   ]
  },
  {
   "cell_type": "code",
   "execution_count": 3,
   "id": "d0affbef",
   "metadata": {},
   "outputs": [],
   "source": [
    "def deriv(funct, x, delta):\n",
    "\n",
    "    p1 = 8*(funct(x + delta) - funct(x - delta))\n",
    "    p2 = funct(x + 2*delta) - funct(x - 2*delta)\n",
    "    \n",
    "    deriv = (1/(12*delta))*(p1 - p2)\n",
    "    \n",
    "    return deriv"
   ]
  },
  {
   "cell_type": "code",
   "execution_count": 8,
   "id": "3b22ec33",
   "metadata": {},
   "outputs": [],
   "source": [
    "def funct1(x):\n",
    "    return np.exp(x)"
   ]
  },
  {
   "cell_type": "code",
   "execution_count": 9,
   "id": "ec0c5639",
   "metadata": {},
   "outputs": [],
   "source": [
    "x = 10\n",
    "e_f = e_m\n",
    "delta = (e_f)**(1/5)"
   ]
  },
  {
   "cell_type": "code",
   "execution_count": 14,
   "id": "f06cf1bd",
   "metadata": {},
   "outputs": [],
   "source": [
    "deriv_est = deriv(funct1, x, delta)"
   ]
  },
  {
   "cell_type": "code",
   "execution_count": 30,
   "id": "33380b65",
   "metadata": {},
   "outputs": [],
   "source": [
    "th_frac_err = (e_m**(4/5))\n",
    "real_frac_err = (deriv_est - funct1(x))/funct1(x)"
   ]
  },
  {
   "cell_type": "code",
   "execution_count": 31,
   "id": "fb78d56c",
   "metadata": {},
   "outputs": [
    {
     "name": "stdout",
     "output_type": "stream",
     "text": [
      "Our estimate for the derivative at x = 10  for f(x) = exp(x) is 22026.465797932942 , which results in a fractional error of 1.419303649265061e-10 , compared to a predicted one of  3.000213634488528e-13\n"
     ]
    }
   ],
   "source": [
    "print('Our estimate for the derivative at x =', x, ' for f(x) = exp(x) is', deriv_est, ', which results in a fractional error of', real_frac_err, ', compared to a predicted one of ', th_frac_err)"
   ]
  },
  {
   "cell_type": "code",
   "execution_count": 34,
   "id": "2a1a3c99",
   "metadata": {},
   "outputs": [],
   "source": [
    "def funct2(x):\n",
    "    return np.exp(0.01*x)"
   ]
  },
  {
   "cell_type": "code",
   "execution_count": 51,
   "id": "af7e7587",
   "metadata": {},
   "outputs": [],
   "source": [
    "x2 = 10\n",
    "delta2 = 100*(e_m**(1/5))"
   ]
  },
  {
   "cell_type": "code",
   "execution_count": 52,
   "id": "a27ae683",
   "metadata": {},
   "outputs": [],
   "source": [
    "deriv_est2 = deriv(funct2, x2, delta2)"
   ]
  },
  {
   "cell_type": "code",
   "execution_count": 55,
   "id": "4256125a",
   "metadata": {},
   "outputs": [],
   "source": [
    "th_frac_err2 = 0.01*(e_m**(4/5))\n",
    "real_frac_err2 = (np.absolute(deriv_est2 - 0.01*funct2(x2)))/(0.01*funct2(x2))"
   ]
  },
  {
   "cell_type": "code",
   "execution_count": 56,
   "id": "3731698f",
   "metadata": {},
   "outputs": [
    {
     "name": "stdout",
     "output_type": "stream",
     "text": [
      "Our estimate for the derivative at x = 10  for f(x) = exp(0.01x) is 0.011051709180755005 , which results in a fractional error of 1.332626661646827e-13 , compared to a predicted one of  3.000213634488528e-15\n"
     ]
    }
   ],
   "source": [
    "print('Our estimate for the derivative at x =', x2, ' for f(x) = exp(0.01x) is', deriv_est2, ', which results in a fractional error of', real_frac_err2, ', compared to a predicted one of ', th_frac_err2)"
   ]
  },
  {
   "cell_type": "code",
   "execution_count": 50,
   "id": "d9118cfd",
   "metadata": {},
   "outputs": [
    {
     "data": {
      "text/plain": [
       "0.011051709180755005"
      ]
     },
     "execution_count": 50,
     "metadata": {},
     "output_type": "execute_result"
    }
   ],
   "source": [
    "deriv(funct2, 10, delta2)"
   ]
  },
  {
   "cell_type": "code",
   "execution_count": 48,
   "id": "99c2dc6f",
   "metadata": {},
   "outputs": [
    {
     "data": {
      "text/plain": [
       "0.011051709180756477"
      ]
     },
     "execution_count": 48,
     "metadata": {},
     "output_type": "execute_result"
    }
   ],
   "source": [
    "0.01*np.exp(0.01*10)"
   ]
  },
  {
   "cell_type": "code",
   "execution_count": null,
   "id": "6e6d2619",
   "metadata": {},
   "outputs": [],
   "source": []
  }
 ],
 "metadata": {
  "kernelspec": {
   "display_name": "Python 3",
   "language": "python",
   "name": "python3"
  },
  "language_info": {
   "codemirror_mode": {
    "name": "ipython",
    "version": 3
   },
   "file_extension": ".py",
   "mimetype": "text/x-python",
   "name": "python",
   "nbconvert_exporter": "python",
   "pygments_lexer": "ipython3",
   "version": "3.8.8"
  }
 },
 "nbformat": 4,
 "nbformat_minor": 5
}
