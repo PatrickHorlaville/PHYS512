{
 "cells": [
  {
   "cell_type": "markdown",
   "id": "9046c85b",
   "metadata": {},
   "source": [
    "### Patrick Horlaville (260931235) - Problem Set 1 - PHYS 512 : Computational Physics with Applications"
   ]
  },
  {
   "cell_type": "markdown",
   "id": "a2ae0fb6",
   "metadata": {},
   "source": [
    "Prof: Jon Sievers. TAs: Marcus Merryfield, Rigel Zifkin"
   ]
  },
  {
   "cell_type": "code",
   "execution_count": 1,
   "id": "e4cd97e5",
   "metadata": {},
   "outputs": [],
   "source": [
    "import numpy as np\n",
    "import matplotlib.pyplot as plt"
   ]
  },
  {
   "cell_type": "markdown",
   "id": "ce148645",
   "metadata": {},
   "source": [
    "# 1b)"
   ]
  },
  {
   "cell_type": "markdown",
   "id": "f1400baa",
   "metadata": {},
   "source": [
    "A 64-bit machine's floating point format typically is"
   ]
  },
  {
   "cell_type": "code",
   "execution_count": 2,
   "id": "6f85560d",
   "metadata": {},
   "outputs": [],
   "source": [
    "e_m = 2**(-52)"
   ]
  },
  {
   "cell_type": "code",
   "execution_count": 3,
   "id": "4335658a",
   "metadata": {},
   "outputs": [],
   "source": [
    "def deriv(funct, x, delta):\n",
    "\n",
    "    p1 = 8*(funct(x + delta) - funct(x - delta))\n",
    "    p2 = funct(x + 2*delta) - funct(x - 2*delta)\n",
    "    \n",
    "    deriv = (1/(12*delta))*(p1 - p2)\n",
    "    \n",
    "    return deriv"
   ]
  },
  {
   "cell_type": "code",
   "execution_count": 4,
   "id": "5e12f371",
   "metadata": {},
   "outputs": [],
   "source": [
    "def funct1(x):\n",
    "    return np.exp(x)"
   ]
  },
  {
   "cell_type": "code",
   "execution_count": 5,
   "id": "7136dc6f",
   "metadata": {},
   "outputs": [],
   "source": [
    "x_t = 10\n",
    "e_f = e_m\n",
    "delta_1a = (e_f)**(1/5)"
   ]
  },
  {
   "cell_type": "code",
   "execution_count": 6,
   "id": "fbc2f60b",
   "metadata": {},
   "outputs": [],
   "source": [
    "deriv_est_1a = deriv(funct1, x_t, delta_1a)"
   ]
  },
  {
   "cell_type": "code",
   "execution_count": 7,
   "id": "0c8d3319",
   "metadata": {},
   "outputs": [],
   "source": [
    "frac_err_1a = (deriv_est_1a - funct1(x_t))/funct1(x_t)"
   ]
  },
  {
   "cell_type": "code",
   "execution_count": 8,
   "id": "fa6fb9f2",
   "metadata": {},
   "outputs": [
    {
     "name": "stdout",
     "output_type": "stream",
     "text": [
      "Our estimate for the derivative at x = 10  for f(x) = exp(x) is 22026.465794831664 , which results in a fractional error of 1.132529426763935e-12\n"
     ]
    }
   ],
   "source": [
    "print('Our estimate for the derivative at x =', x_t, ' for f(x) = exp(x) is', deriv_est_1a, ', which results in a fractional error of', frac_err_1a)"
   ]
  },
  {
   "cell_type": "markdown",
   "id": "f2bb21ef",
   "metadata": {},
   "source": [
    "So indeed, for f(x) = e^x, the estimate for the optimal delta is at least roughly correct given an error of order 10^(-12) "
   ]
  },
  {
   "cell_type": "code",
   "execution_count": 9,
   "id": "420d0ce5",
   "metadata": {},
   "outputs": [],
   "source": [
    "def funct2(x):\n",
    "    return np.exp(0.01*x)"
   ]
  },
  {
   "cell_type": "code",
   "execution_count": 10,
   "id": "368c3736",
   "metadata": {},
   "outputs": [],
   "source": [
    "x_t = 10\n",
    "delta_1b = 100*(e_m**(1/5))"
   ]
  },
  {
   "cell_type": "code",
   "execution_count": 11,
   "id": "9749cc13",
   "metadata": {},
   "outputs": [],
   "source": [
    "deriv_est_1b = deriv(funct2, x_t, delta_1b)"
   ]
  },
  {
   "cell_type": "code",
   "execution_count": 12,
   "id": "8938a5d0",
   "metadata": {},
   "outputs": [],
   "source": [
    "frac_err_1b = (np.absolute(deriv_est_1b - 0.01*funct2(x_t)))/(0.01*funct2(x_t))"
   ]
  },
  {
   "cell_type": "code",
   "execution_count": 13,
   "id": "dfe9b827",
   "metadata": {},
   "outputs": [
    {
     "name": "stdout",
     "output_type": "stream",
     "text": [
      "Our estimate for the derivative at x = 10  for f(x) = exp(0.01x) is 0.011051709180755005 , which results in a fractional error of 1.332626661646827e-13\n"
     ]
    }
   ],
   "source": [
    "print('Our estimate for the derivative at x =', x_t, ' for f(x) = exp(0.01x) is', deriv_est_1b, ', which results in a fractional error of', frac_err_1b)"
   ]
  },
  {
   "cell_type": "markdown",
   "id": "3755d441",
   "metadata": {},
   "source": [
    "Same here, for f(x) = e^(0.01x), the estimate for the optimal delta is at least roughly correct given an error of order 10^(-13) "
   ]
  },
  {
   "cell_type": "markdown",
   "id": "d0dcc38b",
   "metadata": {},
   "source": [
    "# 2)"
   ]
  },
  {
   "cell_type": "code",
   "execution_count": 14,
   "id": "51a78f5b",
   "metadata": {},
   "outputs": [],
   "source": [
    "x_t = 10\n",
    "d_approx = x_t*(e_m**(1/3))"
   ]
  },
  {
   "cell_type": "code",
   "execution_count": 17,
   "id": "ae1e8d12",
   "metadata": {},
   "outputs": [],
   "source": [
    "def third_deriv(funct, x, d):\n",
    "    \n",
    "    p1 = funct(x + 2*d) - funct(x - 2*d)\n",
    "    p2 = funct(x + d) - funct(x - d)\n",
    "    \n",
    "    third_d = (p1 - 2*p2)/(2*(d**3))\n",
    "    \n",
    "    return third_d"
   ]
  },
  {
   "cell_type": "code",
   "execution_count": 115,
   "id": "17f1febe",
   "metadata": {},
   "outputs": [],
   "source": [
    "def est_delta(funct, x, d_approx, n):\n",
    "        \n",
    "    ds = [0 for i in range(n)]\n",
    "    third_ds = [0 for i in range(n)]\n",
    "    \n",
    "    if n==0:\n",
    "        opti_delta = d_approx\n",
    "    \n",
    "    else:\n",
    "        ds = [0 for i in range(n+1)]\n",
    "        third_ds = [0 for i in range(n+1)]\n",
    "        \n",
    "        ds[0] = d_approx\n",
    "        \n",
    "        for i in range(1, n+1):\n",
    "            third_ds[i] = third_deriv(funct, x, ds[i-1])\n",
    "            if third_ds[i] < e_m:\n",
    "                opti_delta = ds[i-1]\n",
    "                return opti_delta\n",
    "            else:\n",
    "                ds[i] = ((e_m*funct(x))/third_ds[i])**(1/3)\n",
    "                opti_delta = ds[i]\n",
    "                    \n",
    "    return opti_delta"
   ]
  },
  {
   "cell_type": "code",
   "execution_count": 132,
   "id": "7db89a9a",
   "metadata": {},
   "outputs": [],
   "source": [
    "def ndiff(funct, x, full = False):\n",
    "    \n",
    "    n = 5\n",
    "    d_approx = x*(e_m**(1/3))\n",
    "    \n",
    "    best_d = est_delta(funct, x, d_approx, n)\n",
    "    \n",
    "    deriv = (funct(x + best_d) - funct(x - best_d))/(2*best_d)\n",
    "    \n",
    "    th_deriv = third_deriv(funct, x, best_d)\n",
    "    \n",
    "    if th_deriv > e_m:\n",
    "        err = ((e_f**2)*((funct(x))**2)*(third_deriv))**(1/3)\n",
    "    else:\n",
    "        err = (e_f)**(2/3)\n",
    "    \n",
    "    if full:\n",
    "        return deriv, err\n",
    "    else:\n",
    "        return deriv"
   ]
  },
  {
   "cell_type": "code",
   "execution_count": 248,
   "id": "74c16d1c",
   "metadata": {},
   "outputs": [
    {
     "data": {
      "text/plain": [
       "(0.011051709180999887, 3.666852862501036e-11)"
      ]
     },
     "execution_count": 248,
     "metadata": {},
     "output_type": "execute_result"
    }
   ],
   "source": [
    "ndiff(funct2, 10, full = True)"
   ]
  },
  {
   "cell_type": "code",
   "execution_count": 251,
   "id": "9a95d3a0",
   "metadata": {},
   "outputs": [
    {
     "name": "stdout",
     "output_type": "stream",
     "text": [
      "Using an example from previous functions, we have an absolute error of 2.4340945925516166e-13  from a predicted value of 3.666852862501036e-11\n"
     ]
    }
   ],
   "source": [
    "print('Using an example from previous functions, we have an absolute error of', np.abs((0.01*funct2(10)) - ndiff(funct2, 10, full = True)[0]), ' from a predicted value of', ndiff(funct2, 10, full = True)[1])"
   ]
  },
  {
   "cell_type": "markdown",
   "id": "b8879d6f",
   "metadata": {},
   "source": [
    "# 3)"
   ]
  },
  {
   "cell_type": "code",
   "execution_count": 134,
   "id": "1e2e6eba",
   "metadata": {},
   "outputs": [],
   "source": [
    "data = np.loadtxt(\"lakeshore.txt\")"
   ]
  },
  {
   "cell_type": "code",
   "execution_count": 135,
   "id": "1f3c2605",
   "metadata": {},
   "outputs": [],
   "source": [
    "temperature, voltage, dVdT = np.transpose(data)"
   ]
  },
  {
   "cell_type": "code",
   "execution_count": 137,
   "id": "208faa76",
   "metadata": {},
   "outputs": [
    {
     "data": {
      "text/plain": [
       "Text(0.5, 1.0, 'Temperature as a function of voltage from Lakeshore data')"
      ]
     },
     "execution_count": 137,
     "metadata": {},
     "output_type": "execute_result"
    },
    {
     "data": {
      "image/png": "[encoded data removed]",
      "text/plain": [
       "<Figure size 432x288 with 1 Axes>"
      ]
     },
     "metadata": {
      "needs_background": "light"
     },
     "output_type": "display_data"
    }
   ],
   "source": [
    "plt.plot(voltage, temperature, '.k')\n",
    "plt.xlabel('Voltage')\n",
    "plt.ylabel('Temperature')\n",
    "plt.title('Temperature as a function of voltage from Lakeshore data')"
   ]
  },
  {
   "cell_type": "markdown",
   "id": "23ba4658",
   "metadata": {},
   "source": [
    "Here we make use of Jon's cubic_interp.py code snippets"
   ]
  },
  {
   "cell_type": "code",
   "execution_count": 264,
   "id": "bbbdb837",
   "metadata": {},
   "outputs": [],
   "source": [
    "def lakeshore(V, data):\n",
    "    \n",
    "    temp, volt, dVdT = np.transpose(data)\n",
    "    \n",
    "    volt = volt[::-1]\n",
    "    temp = temp[::-1]\n",
    "    \n",
    "    if type(V) == type(np.array([])):\n",
    "        pass\n",
    "    else: \n",
    "        V = np.array([V])\n",
    "        \n",
    "    t_interp = np.zeros(len(V))\n",
    "    tot_err = np.zeros(len(V))\n",
    "    \n",
    "    for i in range(len(V)):    \n",
    "        ind = np.max(np.where(V[i] >= volt)[0])\n",
    "        v_use = volt[ind - 1:ind + 3]\n",
    "        t_use = temp[ind - 1:ind + 3]\n",
    "        pars = np.polyfit(v_use, t_use, 3)\n",
    "        pred = np.polyval(pars, V[i])\n",
    "        t_interp[i] = pred\n",
    "        \n",
    "        mins = np.sort(np.abs(V[i] - v_use))\n",
    "        h_est = mins[0]\n",
    "        if h_est < e_m:\n",
    "            h_est = mins[1]\n",
    "            trunc_err = (h_est)**4\n",
    "            round_err = (e_f)*(np.abs(t_interp[i]/h_est))\n",
    "            tot_err[i] = trunc_err + round_err\n",
    "        else:\n",
    "            trunc_err = (h_est)**4\n",
    "            round_err = (e_f)*(t_interp[i]/h_est)\n",
    "            tot_err[i] = trunc_err + round_err\n",
    "                \n",
    "    \n",
    "    return t_interp, tot_err"
   ]
  },
  {
   "cell_type": "code",
   "execution_count": 229,
   "id": "89ac9056",
   "metadata": {},
   "outputs": [],
   "source": [
    "v_interp = np.linspace(voltage[::-1][1], voltage[::-1][-2], 100)"
   ]
  },
  {
   "cell_type": "code",
   "execution_count": 230,
   "id": "afea1709",
   "metadata": {},
   "outputs": [
    {
     "name": "stderr",
     "output_type": "stream",
     "text": [
      "<ipython-input-230-5b1865521a34>:1: RankWarning: Polyfit may be poorly conditioned\n",
      "  t_interp, err_interp = lakeshore(v_interp, data)\n"
     ]
    }
   ],
   "source": [
    "t_interp, err_interp = lakeshore(v_interp, data)"
   ]
  },
  {
   "cell_type": "code",
   "execution_count": 401,
   "id": "0fc61c31",
   "metadata": {},
   "outputs": [
    {
     "data": {
      "text/plain": [
       "<matplotlib.legend.Legend at 0x11b151b20>"
      ]
     },
     "execution_count": 401,
     "metadata": {},
     "output_type": "execute_result"
    },
    {
     "data": {
      "image/png": "[encoded data removed]",
      "text/plain": [
       "<Figure size 432x288 with 1 Axes>"
      ]
     },
     "metadata": {
      "needs_background": "light"
     },
     "output_type": "display_data"
    }
   ],
   "source": [
    "plt.plot(v_interp, t_interp, '-r', label = 'interpolation')\n",
    "plt.plot(voltage, temperature, '.k', alpha = 0.3, label = 'data')\n",
    "plt.xlabel('Voltage')\n",
    "plt.ylabel('Temperature')\n",
    "plt.title('Comparing data and interpolation results')\n",
    "plt.legend()"
   ]
  },
  {
   "cell_type": "code",
   "execution_count": 459,
   "id": "2fe57ea4",
   "metadata": {},
   "outputs": [
    {
     "data": {
      "text/plain": [
       "Text(0.5, 1.0, 'Distribution of errors from our interpolation')"
      ]
     },
     "execution_count": 459,
     "metadata": {},
     "output_type": "execute_result"
    },
    {
     "data": {
      "image/png": "[encoded data removed]",
      "text/plain": [
       "<Figure size 432x288 with 1 Axes>"
      ]
     },
     "metadata": {
      "needs_background": "light"
     },
     "output_type": "display_data"
    }
   ],
   "source": [
    "plt.hist(err_interp, bins = 100)\n",
    "plt.xscale('log')\n",
    "plt.title('Distribution of errors from our interpolation')"
   ]
  },
  {
   "cell_type": "markdown",
   "id": "434870e9",
   "metadata": {},
   "source": [
    "So our estimated error on each of our interpolated points is of order 10^(-10)"
   ]
  },
  {
   "cell_type": "markdown",
   "id": "c93e1da1",
   "metadata": {},
   "source": [
    "# 4)"
   ]
  },
  {
   "cell_type": "markdown",
   "id": "566e9286",
   "metadata": {},
   "source": [
    "Fist, fit over the cosine function. We will fit over the interval:"
   ]
  },
  {
   "cell_type": "code",
   "execution_count": 410,
   "id": "ac9a62fd",
   "metadata": {},
   "outputs": [],
   "source": [
    "x_interp1 = np.linspace(-np.pi/2, np.pi/2, 10)"
   ]
  },
  {
   "cell_type": "code",
   "execution_count": 411,
   "id": "8191ac6b",
   "metadata": {},
   "outputs": [],
   "source": [
    "from scipy import interpolate"
   ]
  },
  {
   "cell_type": "code",
   "execution_count": 412,
   "id": "0fe670bc",
   "metadata": {},
   "outputs": [],
   "source": [
    "x_cos = np.linspace(-np.pi/2, np.pi/2, 8)\n",
    "y_cos = np.cos(x_cos)"
   ]
  },
  {
   "cell_type": "code",
   "execution_count": 413,
   "id": "ba057a75",
   "metadata": {},
   "outputs": [
    {
     "data": {
      "text/plain": [
       "Text(0.5, 1.0, 'Real cosine function')"
      ]
     },
     "execution_count": 413,
     "metadata": {},
     "output_type": "execute_result"
    },
    {
     "data": {
      "image/png": "[encoded data removed]",
      "text/plain": [
       "<Figure size 432x288 with 1 Axes>"
      ]
     },
     "metadata": {
      "needs_background": "light"
     },
     "output_type": "display_data"
    }
   ],
   "source": [
    "plt.plot(x_cos, y_cos, '.k')\n",
    "plt.title('Real cosine function')"
   ]
  },
  {
   "cell_type": "markdown",
   "id": "c890ff81",
   "metadata": {},
   "source": [
    "Perform polynomial interpolation (here, a cubic polynomial fit)"
   ]
  },
  {
   "cell_type": "code",
   "execution_count": 414,
   "id": "82a16519",
   "metadata": {},
   "outputs": [],
   "source": [
    "def cubic_interp(x_interp, x, y):\n",
    "    \n",
    "    if type(x_interp) == type(np.array([])):\n",
    "        pass\n",
    "    else: \n",
    "        x_interp = np.array([x_interp])\n",
    "     \n",
    "    y_interp = np.zeros(len(x_interp))\n",
    "    \n",
    "    for i in range(len(x_interp)):    \n",
    "        ind = np.max(np.where(x_interp[i] >= x)[0])\n",
    "        if ind == 0:\n",
    "            x_use = x[0:ind + 3]\n",
    "            y_use = y[0:ind + 3]\n",
    "        else:    \n",
    "            x_use = x[ind - 1:ind + 3]\n",
    "            y_use = y[ind - 1:ind + 3]\n",
    "        \n",
    "        pars = np.polyfit(x_use, y_use, 3)\n",
    "        pred = np.polyval(pars, x_interp[i])\n",
    "        y_interp[i] = pred\n",
    "    \n",
    "    \n",
    "    return y_interp"
   ]
  },
  {
   "cell_type": "code",
   "execution_count": 415,
   "id": "fec0c013",
   "metadata": {},
   "outputs": [
    {
     "name": "stderr",
     "output_type": "stream",
     "text": [
      "<ipython-input-415-cd798768d9ec>:1: RankWarning: Polyfit may be poorly conditioned\n",
      "  y_cubcos = cubic_interp(x_interp1, x_cos, y_cos)\n",
      "<ipython-input-415-cd798768d9ec>:1: RankWarning: Polyfit may be poorly conditioned\n",
      "  y_cubcos = cubic_interp(x_interp1, x_cos, y_cos)\n",
      "<ipython-input-415-cd798768d9ec>:1: RankWarning: Polyfit may be poorly conditioned\n",
      "  y_cubcos = cubic_interp(x_interp1, x_cos, y_cos)\n",
      "<ipython-input-415-cd798768d9ec>:1: RankWarning: Polyfit may be poorly conditioned\n",
      "  y_cubcos = cubic_interp(x_interp1, x_cos, y_cos)\n"
     ]
    }
   ],
   "source": [
    "y_cubcos = cubic_interp(x_interp1, x_cos, y_cos)"
   ]
  },
  {
   "cell_type": "code",
   "execution_count": 416,
   "id": "4ca145d3",
   "metadata": {},
   "outputs": [
    {
     "data": {
      "text/plain": [
       "<matplotlib.legend.Legend at 0x11b498160>"
      ]
     },
     "execution_count": 416,
     "metadata": {},
     "output_type": "execute_result"
    },
    {
     "data": {
      "image/png": "[encoded data removed]",
      "text/plain": [
       "<Figure size 432x288 with 1 Axes>"
      ]
     },
     "metadata": {
      "needs_background": "light"
     },
     "output_type": "display_data"
    }
   ],
   "source": [
    "plt.plot(x_interp1, y_cubcos, 'r', label = 'fit')\n",
    "plt.plot(x_cos, y_cos, '.k')\n",
    "plt.title('Cubic polynomial fit')\n",
    "plt.legend()"
   ]
  },
  {
   "cell_type": "code",
   "execution_count": 417,
   "id": "18b02020",
   "metadata": {},
   "outputs": [
    {
     "name": "stdout",
     "output_type": "stream",
     "text": [
      "Cubic polynomial fit has a standard deviation of 0.001142427526653603\n"
     ]
    }
   ],
   "source": [
    "print('Cubic polynomial fit has a standard deviation of', np.std(y_cubcos - np.cos(x_interp1)))"
   ]
  },
  {
   "cell_type": "markdown",
   "id": "1203e265",
   "metadata": {},
   "source": [
    "Then, we perform a cubic spline fit"
   ]
  },
  {
   "cell_type": "code",
   "execution_count": 418,
   "id": "f025b5a8",
   "metadata": {},
   "outputs": [],
   "source": [
    "spln_cos = interpolate.splrep(x_cos, y_cos)\n",
    "y_cos_spl = interpolate.splev(x_interp1, spln_cos)"
   ]
  },
  {
   "cell_type": "code",
   "execution_count": 419,
   "id": "6dba9373",
   "metadata": {},
   "outputs": [
    {
     "data": {
      "text/plain": [
       "<matplotlib.legend.Legend at 0x11b27e9a0>"
      ]
     },
     "execution_count": 419,
     "metadata": {},
     "output_type": "execute_result"
    },
    {
     "data": {
      "image/png": "[encoded data removed]",
      "text/plain": [
       "<Figure size 432x288 with 1 Axes>"
      ]
     },
     "metadata": {
      "needs_background": "light"
     },
     "output_type": "display_data"
    }
   ],
   "source": [
    "plt.plot(x_interp1, y_cos_spl, 'r', label = 'fit')\n",
    "plt.plot(x_cos, y_cos, '.k')\n",
    "plt.title('Cubic spline fit')\n",
    "plt.legend()"
   ]
  },
  {
   "cell_type": "code",
   "execution_count": 420,
   "id": "74baf0be",
   "metadata": {},
   "outputs": [
    {
     "name": "stdout",
     "output_type": "stream",
     "text": [
      "Cubic spline fit has a standard deviation of 0.0001360105051125853\n"
     ]
    }
   ],
   "source": [
    "print('Cubic spline fit has a standard deviation of', np.std(y_cos_spl - np.cos(x_interp1)))"
   ]
  },
  {
   "cell_type": "markdown",
   "id": "fe2af8f0",
   "metadata": {},
   "source": [
    "Finally, we perform a rational fit"
   ]
  },
  {
   "cell_type": "markdown",
   "id": "28e73cf7",
   "metadata": {},
   "source": [
    "Here we make use of code snippets as made in class"
   ]
  },
  {
   "cell_type": "code",
   "execution_count": 421,
   "id": "994467c7",
   "metadata": {},
   "outputs": [],
   "source": [
    "def rat_eval(p, q, x):\n",
    "    top = 0\n",
    "    \n",
    "    for i in range(len(p)):\n",
    "        top = top+p[i]*x**i\n",
    "    bot = 1\n",
    "    for i in range(len(q)):\n",
    "        bot = bot + q[i]*x**(i + 1)\n",
    "        \n",
    "    return top/bot\n",
    "\n",
    "def rat_fit(x, y, n, m):\n",
    "    \n",
    "    assert(len(x) == n + m - 1)\n",
    "    assert(len(y) == len(x))\n",
    "    \n",
    "    mat = np.zeros([n + m - 1, n + m - 1])\n",
    "    \n",
    "    for i in range(n):\n",
    "        mat[:,i] = x**i\n",
    "    for i in range(1,m):\n",
    "        mat[:,i - 1 + n] = -y*x**i\n",
    "        \n",
    "\n",
    "    pars = np.dot(np.linalg.inv(mat), y)\n",
    "        \n",
    "    p = pars[:n]\n",
    "    q = pars[n:]\n",
    "    \n",
    "    return p,q"
   ]
  },
  {
   "cell_type": "code",
   "execution_count": 422,
   "id": "dbcdca88",
   "metadata": {},
   "outputs": [],
   "source": [
    "n = 4\n",
    "m = 5"
   ]
  },
  {
   "cell_type": "code",
   "execution_count": 423,
   "id": "e43e802e",
   "metadata": {},
   "outputs": [],
   "source": [
    "p_cos, q_cos = rat_fit(x_cos, y_cos, n, m)\n",
    "pred_cos = rat_eval(p_cos, q_cos, x_interp1)"
   ]
  },
  {
   "cell_type": "code",
   "execution_count": 424,
   "id": "33c42fde",
   "metadata": {},
   "outputs": [
    {
     "data": {
      "text/plain": [
       "<matplotlib.legend.Legend at 0x11b7e8df0>"
      ]
     },
     "execution_count": 424,
     "metadata": {},
     "output_type": "execute_result"
    },
    {
     "data": {
      "image/png": "[encoded data removed]",
      "text/plain": [
       "<Figure size 432x288 with 1 Axes>"
      ]
     },
     "metadata": {
      "needs_background": "light"
     },
     "output_type": "display_data"
    }
   ],
   "source": [
    "plt.title('Rational fit')\n",
    "plt.plot(x_interp1, pred_cos, 'r', label = 'fit')\n",
    "plt.plot(x_cos, y_cos, '.k')\n",
    "plt.legend()"
   ]
  },
  {
   "cell_type": "code",
   "execution_count": 425,
   "id": "83c7b897",
   "metadata": {},
   "outputs": [
    {
     "name": "stdout",
     "output_type": "stream",
     "text": [
      "Rational fit has a standard deviation of 1.8463778585426775e-05\n"
     ]
    }
   ],
   "source": [
    "print('Rational fit has a standard deviation of', np.std(pred_cos - np.cos(x_interp1)))"
   ]
  },
  {
   "cell_type": "markdown",
   "id": "04042561",
   "metadata": {},
   "source": [
    "Now with the Lorentzian function:"
   ]
  },
  {
   "cell_type": "code",
   "execution_count": 426,
   "id": "15bca9b1",
   "metadata": {},
   "outputs": [],
   "source": [
    "def lor(x):\n",
    "    return 1/(1 + (x)**2)"
   ]
  },
  {
   "cell_type": "markdown",
   "id": "ba393487",
   "metadata": {},
   "source": [
    "We will interpolate on the interval:"
   ]
  },
  {
   "cell_type": "code",
   "execution_count": 427,
   "id": "04dd0c03",
   "metadata": {},
   "outputs": [],
   "source": [
    "x_interp2 = np.linspace(-1, 1, 10)"
   ]
  },
  {
   "cell_type": "code",
   "execution_count": 428,
   "id": "a100ef6d",
   "metadata": {},
   "outputs": [],
   "source": [
    "x_lor = np.linspace(-1, 1, 8)\n",
    "y_lor = np.cos(x_lor)"
   ]
  },
  {
   "cell_type": "code",
   "execution_count": 429,
   "id": "4b92af57",
   "metadata": {},
   "outputs": [
    {
     "data": {
      "text/plain": [
       "Text(0.5, 1.0, 'Real Lorentzian function')"
      ]
     },
     "execution_count": 429,
     "metadata": {},
     "output_type": "execute_result"
    },
    {
     "data": {
      "image/png": "[encoded data removed]",
      "text/plain": [
       "<Figure size 432x288 with 1 Axes>"
      ]
     },
     "metadata": {
      "needs_background": "light"
     },
     "output_type": "display_data"
    }
   ],
   "source": [
    "plt.plot(x_lor, y_lor, '.k')\n",
    "plt.title('Real Lorentzian function')"
   ]
  },
  {
   "cell_type": "markdown",
   "id": "9cbbc2f3",
   "metadata": {},
   "source": [
    "First, the cubic polynomial fit"
   ]
  },
  {
   "cell_type": "code",
   "execution_count": 430,
   "id": "e16ac1da",
   "metadata": {},
   "outputs": [
    {
     "name": "stderr",
     "output_type": "stream",
     "text": [
      "<ipython-input-430-effb2cb6b18c>:1: RankWarning: Polyfit may be poorly conditioned\n",
      "  y_cublor = cubic_interp(x_interp2, x_lor, y_lor)\n",
      "<ipython-input-430-effb2cb6b18c>:1: RankWarning: Polyfit may be poorly conditioned\n",
      "  y_cublor = cubic_interp(x_interp2, x_lor, y_lor)\n",
      "<ipython-input-430-effb2cb6b18c>:1: RankWarning: Polyfit may be poorly conditioned\n",
      "  y_cublor = cubic_interp(x_interp2, x_lor, y_lor)\n",
      "<ipython-input-430-effb2cb6b18c>:1: RankWarning: Polyfit may be poorly conditioned\n",
      "  y_cublor = cubic_interp(x_interp2, x_lor, y_lor)\n"
     ]
    }
   ],
   "source": [
    "y_cublor = cubic_interp(x_interp2, x_lor, y_lor)"
   ]
  },
  {
   "cell_type": "code",
   "execution_count": 431,
   "id": "c6b4e19f",
   "metadata": {},
   "outputs": [
    {
     "data": {
      "text/plain": [
       "<matplotlib.legend.Legend at 0x11b962490>"
      ]
     },
     "execution_count": 431,
     "metadata": {},
     "output_type": "execute_result"
    },
    {
     "data": {
      "image/png": "[encoded data removed]",
      "text/plain": [
       "<Figure size 432x288 with 1 Axes>"
      ]
     },
     "metadata": {
      "needs_background": "light"
     },
     "output_type": "display_data"
    }
   ],
   "source": [
    "plt.plot(x_interp2, y_cublor, 'r', label = 'fit')\n",
    "plt.plot(x_lor, y_lor, '.k')\n",
    "plt.title('Cubic polynomial fit')\n",
    "plt.legend()"
   ]
  },
  {
   "cell_type": "code",
   "execution_count": 432,
   "id": "1f5a5bee",
   "metadata": {},
   "outputs": [
    {
     "name": "stdout",
     "output_type": "stream",
     "text": [
      "Cubic polynomial fit has a standard deviation of 0.031124041451607506\n"
     ]
    }
   ],
   "source": [
    "print('Cubic polynomial fit has a standard deviation of', np.std(y_cublor - lor(x_interp2)))"
   ]
  },
  {
   "cell_type": "markdown",
   "id": "6dc0f482",
   "metadata": {},
   "source": [
    "Then, we perform a cubic spline fit"
   ]
  },
  {
   "cell_type": "code",
   "execution_count": 433,
   "id": "24e9444b",
   "metadata": {},
   "outputs": [],
   "source": [
    "spln_lor = interpolate.splrep(x_lor, y_lor)\n",
    "y_lor_spl = interpolate.splev(x_interp2, spln_lor)"
   ]
  },
  {
   "cell_type": "code",
   "execution_count": 434,
   "id": "a55f6765",
   "metadata": {},
   "outputs": [
    {
     "data": {
      "text/plain": [
       "<matplotlib.legend.Legend at 0x11ba79370>"
      ]
     },
     "execution_count": 434,
     "metadata": {},
     "output_type": "execute_result"
    },
    {
     "data": {
      "image/png": "[encoded data removed]",
      "text/plain": [
       "<Figure size 432x288 with 1 Axes>"
      ]
     },
     "metadata": {
      "needs_background": "light"
     },
     "output_type": "display_data"
    }
   ],
   "source": [
    "plt.plot(x_interp2, y_lor_spl, 'r', label = 'fit')\n",
    "plt.plot(x_lor, y_lor, '.k')\n",
    "plt.title('Cubic spline fit')\n",
    "plt.legend()"
   ]
  },
  {
   "cell_type": "code",
   "execution_count": 435,
   "id": "de8ff431",
   "metadata": {},
   "outputs": [
    {
     "name": "stdout",
     "output_type": "stream",
     "text": [
      "Cubic spline fit has a standard deviation of 0.031022580690215518\n"
     ]
    }
   ],
   "source": [
    "print('Cubic spline fit has a standard deviation of', np.std(y_lor_spl - lor(x_interp2)))"
   ]
  },
  {
   "cell_type": "markdown",
   "id": "bd2dbcf2",
   "metadata": {},
   "source": [
    "Finally, we perform a rational fit"
   ]
  },
  {
   "cell_type": "code",
   "execution_count": 436,
   "id": "d45f06cf",
   "metadata": {},
   "outputs": [],
   "source": [
    "p_lor, q_lor = rat_fit(x_lor, y_lor, n, m)\n",
    "pred_lor = rat_eval(p_lor, q_lor, x_interp2)"
   ]
  },
  {
   "cell_type": "code",
   "execution_count": 437,
   "id": "bd01a35f",
   "metadata": {},
   "outputs": [
    {
     "data": {
      "text/plain": [
       "<matplotlib.legend.Legend at 0x11b6aa8b0>"
      ]
     },
     "execution_count": 437,
     "metadata": {},
     "output_type": "execute_result"
    },
    {
     "data": {
      "image/png": "[encoded data removed]",
      "text/plain": [
       "<Figure size 432x288 with 1 Axes>"
      ]
     },
     "metadata": {
      "needs_background": "light"
     },
     "output_type": "display_data"
    }
   ],
   "source": [
    "plt.title('Rational fit')\n",
    "plt.plot(x_interp2, pred_lor, 'r', label = 'fit')\n",
    "plt.plot(x_lor, y_lor, '.k')\n",
    "plt.legend()"
   ]
  },
  {
   "cell_type": "code",
   "execution_count": 438,
   "id": "ab8316be",
   "metadata": {},
   "outputs": [
    {
     "name": "stdout",
     "output_type": "stream",
     "text": [
      "Rational fit has a standard deviation of 0.0310168740894946\n"
     ]
    }
   ],
   "source": [
    "print('Rational fit has a standard deviation of', np.std(pred_lor - lor(x_interp2)))"
   ]
  },
  {
   "cell_type": "markdown",
   "id": "190c83d5",
   "metadata": {},
   "source": [
    "Let's try using a rational fit with pinv now:"
   ]
  },
  {
   "cell_type": "code",
   "execution_count": 439,
   "id": "a72820a3",
   "metadata": {},
   "outputs": [],
   "source": [
    "def rat_fit_pinv(x, y, n, m):\n",
    "    \n",
    "    assert(len(x) == n + m - 1)\n",
    "    assert(len(y) == len(x))\n",
    "    \n",
    "    mat = np.zeros([n + m - 1, n + m - 1])\n",
    "    \n",
    "    for i in range(n):\n",
    "        mat[:,i] = x**i\n",
    "    for i in range(1,m):\n",
    "        mat[:,i - 1 + n] = -y*x**i\n",
    "    \n",
    "    pars = np.dot(np.linalg.pinv(mat), y)\n",
    "    \n",
    "    p = pars[:n]\n",
    "    q = pars[n:]\n",
    "    \n",
    "    return p,q"
   ]
  },
  {
   "cell_type": "code",
   "execution_count": 440,
   "id": "ba066016",
   "metadata": {},
   "outputs": [],
   "source": [
    "p_lorp, q_lorp = rat_fit_pinv(x_lor, y_lor, n, m)\n",
    "pred_lorp = rat_eval(p_lorp, q_lorp, x_interp2)"
   ]
  },
  {
   "cell_type": "code",
   "execution_count": 441,
   "id": "4c66e42c",
   "metadata": {},
   "outputs": [
    {
     "data": {
      "text/plain": [
       "<matplotlib.legend.Legend at 0x11bc92280>"
      ]
     },
     "execution_count": 441,
     "metadata": {},
     "output_type": "execute_result"
    },
    {
     "data": {
      "image/png": "[encoded data removed]",
      "text/plain": [
       "<Figure size 432x288 with 1 Axes>"
      ]
     },
     "metadata": {
      "needs_background": "light"
     },
     "output_type": "display_data"
    }
   ],
   "source": [
    "plt.title('Rational fit')\n",
    "plt.plot(x_interp2, pred_lorp, 'r', label = 'fit')\n",
    "plt.plot(x_lor, y_lor, '.k')\n",
    "plt.legend()"
   ]
  },
  {
   "cell_type": "code",
   "execution_count": 442,
   "id": "51ccb3fa",
   "metadata": {},
   "outputs": [
    {
     "name": "stdout",
     "output_type": "stream",
     "text": [
      "Rational fit has a standard deviation of 0.031016874089479906\n"
     ]
    }
   ],
   "source": [
    "print('Rational fit has a standard deviation of', np.std(pred_lorp - lor(x_interp2)))"
   ]
  },
  {
   "cell_type": "code",
   "execution_count": 456,
   "id": "3e9072d4",
   "metadata": {},
   "outputs": [
    {
     "name": "stdout",
     "output_type": "stream",
     "text": [
      "Numerator coefficients:\n",
      "order =  0 : 0.9999997854671383 from inv;  0.9999997854709735 from pinv\n",
      "order =  1 : 5.4569682106375694e-12 from inv;  -3.637978807091713e-12 from pinv\n",
      "order =  2 : -0.4059329669241851 from inv;  -0.405932966923956 from pinv\n",
      "order =  3 : -1.8189894035458565e-12 from inv;  0.0 from pinv\n",
      "Denominator coefficients:\n",
      "order =  0 : 3.637978807091713e-12 from inv;  1.8189894035458565e-12 from pinv\n",
      "order =  1 : 0.09405470796505 from inv;  0.09405470796504822 from pinv\n",
      "order =  2 : 0.0 from inv;  -2.2737367544323206e-13 from pinv\n",
      "order =  3 : 0.005453497154482179 from inv;  0.005453497154480402 from pinv\n"
     ]
    }
   ],
   "source": [
    "print('Numerator coefficients:')\n",
    "for i, j in enumerate(p_lorp):\n",
    "    print('order = ', i ,':', p_lor[i], 'from inv; ', j, 'from pinv')\n",
    "    \n",
    "    \n",
    "print('Denominator coefficients:')\n",
    "for i, j in enumerate(q_lorp):\n",
    "    print('order = ', i ,':', q_lor[i], 'from inv; ', j, 'from pinv')"
   ]
  },
  {
   "cell_type": "code",
   "execution_count": null,
   "id": "a5660448",
   "metadata": {},
   "outputs": [],
   "source": []
  }
 ],
 "metadata": {
  "kernelspec": {
   "display_name": "Python 3",
   "language": "python",
   "name": "python3"
  },
  "language_info": {
   "codemirror_mode": {
    "name": "ipython",
    "version": 3
   },
   "file_extension": ".py",
   "mimetype": "text/x-python",
   "name": "python",
   "nbconvert_exporter": "python",
   "pygments_lexer": "ipython3",
   "version": "3.8.8"
  }
 },
 "nbformat": 4,
 "nbformat_minor": 5
}
