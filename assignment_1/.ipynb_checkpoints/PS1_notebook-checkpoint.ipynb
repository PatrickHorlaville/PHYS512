{
 "cells": [
  {
   "cell_type": "markdown",
   "id": "e1ebfc31",
   "metadata": {},
   "source": [
    "### Patrick Horlaville (260931235) - Problem Set 1 - PHYS 512 : Computational Physics with Applications"
   ]
  },
  {
   "cell_type": "markdown",
   "id": "14b67660",
   "metadata": {},
   "source": [
    "Prof: Jon Sievers. TAs: Marcus Merryfield, Rigel Zifkin"
   ]
  },
  {
   "cell_type": "code",
   "execution_count": 91,
   "id": "e4cd97e5",
   "metadata": {},
   "outputs": [],
   "source": [
    "import numpy as np\n",
    "import matplotlib.pyplot as plt"
   ]
  },
  {
   "cell_type": "markdown",
   "id": "a2bb3139",
   "metadata": {},
   "source": [
    "1b)"
   ]
  },
  {
   "cell_type": "markdown",
   "id": "74834a91",
   "metadata": {},
   "source": [
    "A 64-bit machine's floating point format typically is"
   ]
  },
  {
   "cell_type": "code",
   "execution_count": 2,
   "id": "4bf979c2",
   "metadata": {},
   "outputs": [],
   "source": [
    "e_m = 2**(-52)"
   ]
  },
  {
   "cell_type": "code",
   "execution_count": 3,
   "id": "32f8ba9d",
   "metadata": {},
   "outputs": [],
   "source": [
    "def deriv(funct, x, delta):\n",
    "\n",
    "    p1 = 8*(funct(x + delta) - funct(x - delta))\n",
    "    p2 = funct(x + 2*delta) - funct(x - 2*delta)\n",
    "    \n",
    "    deriv = (1/(12*delta))*(p1 - p2)\n",
    "    \n",
    "    return deriv"
   ]
  },
  {
   "cell_type": "code",
   "execution_count": 8,
   "id": "4c5adec0",
   "metadata": {},
   "outputs": [],
   "source": [
    "def funct1(x):\n",
    "    return np.exp(x)"
   ]
  },
  {
   "cell_type": "code",
   "execution_count": 9,
   "id": "72ae555f",
   "metadata": {},
   "outputs": [],
   "source": [
    "x = 10\n",
    "e_f = e_m\n",
    "delta = (e_f)**(1/5)"
   ]
  },
  {
   "cell_type": "code",
   "execution_count": 14,
   "id": "0c5a74d7",
   "metadata": {},
   "outputs": [],
   "source": [
    "deriv_est = deriv(funct1, x, delta)"
   ]
  },
  {
   "cell_type": "code",
   "execution_count": 30,
   "id": "8ede5166",
   "metadata": {},
   "outputs": [],
   "source": [
    "th_frac_err = (e_m**(4/5))\n",
    "real_frac_err = (deriv_est - funct1(x))/funct1(x)"
   ]
  },
  {
   "cell_type": "code",
   "execution_count": 31,
   "id": "caf39b47",
   "metadata": {},
   "outputs": [
    {
     "name": "stdout",
     "output_type": "stream",
     "text": [
      "Our estimate for the derivative at x = 10  for f(x) = exp(x) is 22026.465797932942 , which results in a fractional error of 1.419303649265061e-10 , compared to a predicted one of  3.000213634488528e-13\n"
     ]
    }
   ],
   "source": [
    "print('Our estimate for the derivative at x =', x, ' for f(x) = exp(x) is', deriv_est, ', which results in a fractional error of', real_frac_err, ', compared to a predicted one of ', th_frac_err)"
   ]
  },
  {
   "cell_type": "code",
   "execution_count": 191,
   "id": "9a1b0c47",
   "metadata": {},
   "outputs": [],
   "source": [
    "def funct2(x):\n",
    "    return np.exp(0.01*x)"
   ]
  },
  {
   "cell_type": "code",
   "execution_count": 51,
   "id": "d161d359",
   "metadata": {},
   "outputs": [],
   "source": [
    "x2 = 10\n",
    "delta2 = 100*(e_m**(1/5))"
   ]
  },
  {
   "cell_type": "code",
   "execution_count": 52,
   "id": "844f8063",
   "metadata": {},
   "outputs": [],
   "source": [
    "deriv_est2 = deriv(funct2, x2, delta2)"
   ]
  },
  {
   "cell_type": "code",
   "execution_count": 55,
   "id": "2e47c449",
   "metadata": {},
   "outputs": [],
   "source": [
    "th_frac_err2 = 0.01*(e_m**(4/5))\n",
    "real_frac_err2 = (np.absolute(deriv_est2 - 0.01*funct2(x2)))/(0.01*funct2(x2))"
   ]
  },
  {
   "cell_type": "code",
   "execution_count": 412,
   "id": "c5c6d146",
   "metadata": {},
   "outputs": [
    {
     "name": "stdout",
     "output_type": "stream",
     "text": [
      "Our estimate for the derivative at x = 10  for f(x) = exp(0.01x) is 0.011051709180755005 , which results in a fractional error of 1.332626661646827e-13 , compared to a predicted one of  3.000213634488528e-15\n"
     ]
    }
   ],
   "source": [
    "print('Our estimate for the derivative at x =', x2, ' for f(x) = exp(0.01x) is', deriv_est2, ', which results in a fractional error of', real_frac_err2, ', compared to a predicted one of ', th_frac_err2)"
   ]
  },
  {
   "cell_type": "markdown",
   "id": "f2a091d9",
   "metadata": {},
   "source": [
    "2)"
   ]
  },
  {
   "cell_type": "code",
   "execution_count": 147,
   "id": "d97dc8db",
   "metadata": {},
   "outputs": [],
   "source": [
    "x_c = 10\n",
    "d_approx = x*(e_m**(1/3))"
   ]
  },
  {
   "cell_type": "code",
   "execution_count": 149,
   "id": "77abf5fd",
   "metadata": {},
   "outputs": [
    {
     "data": {
      "text/plain": [
       "6.055454452393343e-05"
      ]
     },
     "execution_count": 149,
     "metadata": {},
     "output_type": "execute_result"
    }
   ],
   "source": [
    "d_approx"
   ]
  },
  {
   "cell_type": "code",
   "execution_count": 187,
   "id": "b88f803a",
   "metadata": {},
   "outputs": [],
   "source": [
    "def third_deriv(funct, x, d):\n",
    "    \n",
    "    p1 = funct(x + 2*d) - funct(x - 2*d)\n",
    "    p2 = funct(x + d) - funct(x - d)\n",
    "    \n",
    "    third_d = (p1 - 2*p2)/(2*(d_approx**3))\n",
    "    \n",
    "    return third_d"
   ]
  },
  {
   "cell_type": "code",
   "execution_count": 419,
   "id": "2d5558cf",
   "metadata": {},
   "outputs": [],
   "source": [
    "def est_delta(funct, x, d_approx, n):\n",
    "    \n",
    "    ds = [d_approx for i in range(n)]\n",
    "    third_d = [0 for i in range(n)]\n",
    "    for i in range(n):\n",
    "        if i == 0:\n",
    "            third_d[i] = third_deriv(funct, x, d_approx)\n",
    "        else:\n",
    "            third_d[i] = third_deriv(funct, x, ds[i-1])\n",
    "            ds[i] = ((e_m*funct(x))/third_d[i])**(1/3)\n",
    "            \n",
    "    opti_delta = ds[-1]\n",
    "    \n",
    "    return opti_delta"
   ]
  },
  {
   "cell_type": "code",
   "execution_count": 416,
   "id": "0ece9ceb",
   "metadata": {},
   "outputs": [
    {
     "data": {
      "text/plain": [
       "[6.055454452393343e-05,\n",
       " 6.055454452393343e-05,\n",
       " 6.055454452393343e-05,\n",
       " 6.055454452393343e-05,\n",
       " 6.055454452393343e-05,\n",
       " 6.055454452393343e-05,\n",
       " 6.055454452393343e-05,\n",
       " 6.055454452393343e-05,\n",
       " 6.055454452393343e-05,\n",
       " 6.055454452393343e-05]"
      ]
     },
     "execution_count": 416,
     "metadata": {},
     "output_type": "execute_result"
    }
   ],
   "source": [
    "est_delta"
   ]
  },
  {
   "cell_type": "code",
   "execution_count": 420,
   "id": "b93f5147",
   "metadata": {},
   "outputs": [
    {
     "data": {
      "text/plain": [
       "5.487008726341211e-06"
      ]
     },
     "execution_count": 420,
     "metadata": {},
     "output_type": "execute_result"
    }
   ],
   "source": [
    "est_delta(funct1, 10, d_approx, 10)"
   ]
  },
  {
   "cell_type": "code",
   "execution_count": 151,
   "id": "e73dae27",
   "metadata": {},
   "outputs": [
    {
     "data": {
      "text/plain": [
       "6.05528747641499e-06"
      ]
     },
     "execution_count": 151,
     "metadata": {},
     "output_type": "execute_result"
    }
   ],
   "source": [
    "est_delta(funct1, 10)"
   ]
  },
  {
   "cell_type": "code",
   "execution_count": 152,
   "id": "3efa9f39",
   "metadata": {},
   "outputs": [],
   "source": [
    "def ndiff_t(funct, x, dx):\n",
    "    \n",
    "    deriv = (funct(x + dx) - funct(x - dx))/(2*dx)\n",
    "    \n",
    "    return deriv"
   ]
  },
  {
   "cell_type": "code",
   "execution_count": 426,
   "id": "0d51d128",
   "metadata": {},
   "outputs": [
    {
     "data": {
      "text/plain": [
       "6.04883098276332e-07"
      ]
     },
     "execution_count": 426,
     "metadata": {},
     "output_type": "execute_result"
    }
   ],
   "source": [
    "ndiff_t(funct1, 10, est_delta(funct1, 10, d_approx, 10)) - np.exp(10)"
   ]
  },
  {
   "cell_type": "code",
   "execution_count": 156,
   "id": "0e965fe7",
   "metadata": {},
   "outputs": [
    {
     "data": {
      "text/plain": [
       "1.4328761608339846e-06"
      ]
     },
     "execution_count": 156,
     "metadata": {},
     "output_type": "execute_result"
    }
   ],
   "source": [
    "ndiff_t(funct1, 10, est_delta(funct1, 10)) - np.exp(10)"
   ]
  },
  {
   "cell_type": "code",
   "execution_count": 159,
   "id": "360571c9",
   "metadata": {},
   "outputs": [
    {
     "data": {
      "text/plain": [
       "1.3333683455130085e-05"
      ]
     },
     "execution_count": 159,
     "metadata": {},
     "output_type": "execute_result"
    }
   ],
   "source": [
    "ndiff_t(funct1, 10, d_approx) - np.exp(10)"
   ]
  },
  {
   "cell_type": "code",
   "execution_count": null,
   "id": "97f7dc59",
   "metadata": {},
   "outputs": [],
   "source": []
  },
  {
   "cell_type": "code",
   "execution_count": 217,
   "id": "3b948be4",
   "metadata": {},
   "outputs": [],
   "source": [
    "def ndiff(funct, x, full = False):\n",
    "    \n",
    "    d_approx = 0.0001\n",
    "    third_d = third_deriv(funct, x, d_approx)\n",
    "    \n",
    "    if third_d < e_m:\n",
    "        delta = x*(e_m**(1/3))\n",
    "        deriv = (funct(x + delta) - funct(x - delta))/(2*delta)\n",
    "        err = e_m**(2/3)\n",
    "    \n",
    "    if third_d > e_m:\n",
    "        delta = est_delta(funct, x, d_approx)\n",
    "        deriv = (funct(x + delta) - funct(x - delta))/(2*delta)\n",
    "        err = ((e_m**2)*((funct(x))**2)*(third_deriv(funct, x, delta)))**(1/3)\n",
    "    \n",
    "    if full:\n",
    "        return deriv, delta, err\n",
    "    else:\n",
    "        return deriv"
   ]
  },
  {
   "cell_type": "code",
   "execution_count": 218,
   "id": "3136434a",
   "metadata": {},
   "outputs": [
    {
     "data": {
      "text/plain": [
       "(0.011051709180999887, 6.055454452393343e-05, 3.666852862501036e-11)"
      ]
     },
     "execution_count": 218,
     "metadata": {},
     "output_type": "execute_result"
    }
   ],
   "source": [
    "ndiff(funct2, 10, full = True)"
   ]
  },
  {
   "cell_type": "code",
   "execution_count": 198,
   "id": "2d164f84",
   "metadata": {},
   "outputs": [
    {
     "data": {
      "text/plain": [
       "1.1051709180756477"
      ]
     },
     "execution_count": 198,
     "metadata": {},
     "output_type": "execute_result"
    }
   ],
   "source": [
    "np.exp(0.01*10)"
   ]
  },
  {
   "cell_type": "code",
   "execution_count": 135,
   "id": "3dd3ba16",
   "metadata": {},
   "outputs": [],
   "source": [
    "d_cands = np.linspace(10**(-1), 10**(-10), 1000)"
   ]
  },
  {
   "cell_type": "code",
   "execution_count": 137,
   "id": "6443d88f",
   "metadata": {},
   "outputs": [],
   "source": [
    "deriv_cand = [0 for i in range(len(d_cands))]\n",
    "for i,j in enumerate(d_cands):\n",
    "    deriv_cand[i] = ndiff_t(funct1, x, j)"
   ]
  },
  {
   "cell_type": "code",
   "execution_count": 141,
   "id": "c999bced",
   "metadata": {},
   "outputs": [],
   "source": [
    "real_deriv = np.linspace(np.exp(10), np.exp(10), len(d_cands))"
   ]
  },
  {
   "cell_type": "code",
   "execution_count": 144,
   "id": "ac7bdaca",
   "metadata": {},
   "outputs": [
    {
     "data": {
      "image/png": "[encoded data removed]",
      "text/plain": [
       "<Figure size 432x288 with 1 Axes>"
      ]
     },
     "metadata": {
      "needs_background": "light"
     },
     "output_type": "display_data"
    }
   ],
   "source": [
    "plt.scatter(np.linspace(0, 1000, 1000),  np.abs(real_deriv - deriv_cand))\n",
    "plt.yscale('log')\n",
    "#plt.xscale('log')"
   ]
  },
  {
   "cell_type": "code",
   "execution_count": 253,
   "id": "a3fd0854",
   "metadata": {},
   "outputs": [
    {
     "name": "stderr",
     "output_type": "stream",
     "text": [
      "/Applications/anaconda3/lib/python3.8/site-packages/IPython/core/interactiveshell.py:3437: RankWarning: Polyfit may be poorly conditioned\n",
      "  exec(code_obj, self.user_global_ns, self.user_ns)\n"
     ]
    }
   ],
   "source": [
    "xi=np.linspace(-2,2,11)\n",
    "yi=np.exp(xi)\n",
    "\n",
    "x=np.linspace(xi[1],xi[-2],1001)\n",
    "y_true=np.exp(x)\n",
    "y_interp=np.zeros(len(x))\n",
    "for i in range(len(x)):    \n",
    "    ind=np.max(np.where(x[i]>=xi)[0])\n",
    "    x_use=xi[ind-1:ind+3]\n",
    "    y_use=yi[ind-1:ind+3]\n",
    "    pars=np.polyfit(x_use,y_use,3)\n",
    "    pred=np.polyval(pars,x[i])\n",
    "    y_interp[i]=pred"
   ]
  },
  {
   "cell_type": "code",
   "execution_count": 241,
   "id": "67baaf47",
   "metadata": {},
   "outputs": [
    {
     "data": {
      "text/plain": [
       "array([0.4453381 , 0.37209015, 0.40403477, 1.52992114])"
      ]
     },
     "execution_count": 241,
     "metadata": {},
     "output_type": "execute_result"
    }
   ],
   "source": [
    "pars"
   ]
  },
  {
   "cell_type": "code",
   "execution_count": 221,
   "id": "4bbfa385",
   "metadata": {},
   "outputs": [
    {
     "data": {
      "text/plain": [
       "array([0.13533528, 0.20189652, 0.30119421, 0.44932896, 0.67032005,\n",
       "       1.        , 1.4918247 , 2.22554093, 3.32011692, 3.32011692,\n",
       "       3.32011692])"
      ]
     },
     "execution_count": 221,
     "metadata": {},
     "output_type": "execute_result"
    }
   ],
   "source": [
    "yi"
   ]
  },
  {
   "cell_type": "code",
   "execution_count": 239,
   "id": "ba814182",
   "metadata": {},
   "outputs": [
    {
     "data": {
      "text/plain": [
       "1"
      ]
     },
     "execution_count": 239,
     "metadata": {},
     "output_type": "execute_result"
    }
   ],
   "source": [
    "np.max(np.where(x[0]>=xi)[0])"
   ]
  },
  {
   "cell_type": "code",
   "execution_count": 236,
   "id": "de741fcc",
   "metadata": {},
   "outputs": [
    {
     "data": {
      "text/plain": [
       "1.6"
      ]
     },
     "execution_count": 236,
     "metadata": {},
     "output_type": "execute_result"
    }
   ],
   "source": [
    "x[1000]"
   ]
  },
  {
   "cell_type": "code",
   "execution_count": 225,
   "id": "1471d332",
   "metadata": {},
   "outputs": [
    {
     "data": {
      "text/plain": [
       "array([-2. , -1.6, -1.2, -0.8, -0.4,  0. ,  0.4,  0.8,  1.2,  1.6,  2. ])"
      ]
     },
     "execution_count": 225,
     "metadata": {},
     "output_type": "execute_result"
    }
   ],
   "source": [
    "xi"
   ]
  },
  {
   "cell_type": "code",
   "execution_count": 258,
   "id": "e85e99bb",
   "metadata": {},
   "outputs": [
    {
     "data": {
      "text/plain": [
       "[<matplotlib.lines.Line2D at 0x11631b940>]"
      ]
     },
     "execution_count": 258,
     "metadata": {},
     "output_type": "execute_result"
    },
    {
     "data": {
      "image/png": "[encoded data removed]",
      "text/plain": [
       "<Figure size 432x288 with 1 Axes>"
      ]
     },
     "metadata": {
      "needs_background": "light"
     },
     "output_type": "display_data"
    }
   ],
   "source": [
    "plt.plot(xi, yi, '.k')\n",
    "plt.plot(x, y_interp, '.k', alpha = 0.01)"
   ]
  },
  {
   "cell_type": "markdown",
   "id": "1caa0d51",
   "metadata": {},
   "source": [
    "3)"
   ]
  },
  {
   "cell_type": "code",
   "execution_count": 244,
   "id": "7a9fbac6",
   "metadata": {},
   "outputs": [],
   "source": [
    "data = np.loadtxt(\"lakeshore.txt\")"
   ]
  },
  {
   "cell_type": "code",
   "execution_count": 268,
   "id": "7461d094",
   "metadata": {},
   "outputs": [],
   "source": [
    "temperature, voltage, dVdT = np.transpose(data)"
   ]
  },
  {
   "cell_type": "code",
   "execution_count": 252,
   "id": "06c40d3c",
   "metadata": {},
   "outputs": [
    {
     "data": {
      "text/plain": [
       "Text(0, 0.5, 'Temperature')"
      ]
     },
     "execution_count": 252,
     "metadata": {},
     "output_type": "execute_result"
    },
    {
     "data": {
      "image/png": "[encoded data removed]",
      "text/plain": [
       "<Figure size 432x288 with 1 Axes>"
      ]
     },
     "metadata": {
      "needs_background": "light"
     },
     "output_type": "display_data"
    }
   ],
   "source": [
    "plt.plot(V, T, '.k')\n",
    "plt.xlabel('Voltage')\n",
    "plt.ylabel('Temperature')"
   ]
  },
  {
   "cell_type": "code",
   "execution_count": 409,
   "id": "24aea1ce",
   "metadata": {},
   "outputs": [],
   "source": [
    "def lakeshore(V, data):\n",
    "    \n",
    "    temp, volt, dVdT = np.transpose(data)\n",
    "    \n",
    "    volt = volt[::-1]\n",
    "    temp = temp[::-1]\n",
    "    \n",
    "    if type(V) == type(np.array([])):\n",
    "        pass\n",
    "    else: \n",
    "        V = np.array([V])\n",
    "        \n",
    "    t_interp = np.zeros(len(V))\n",
    "    \n",
    "    for i in range(len(V)):    \n",
    "        ind = np.max(np.where(V[i] >= volt)[0])\n",
    "        v_use = volt[ind - 1:ind + 3]\n",
    "        t_use = temp[ind - 1:ind + 3]\n",
    "        pars = np.polyfit(v_use, t_use, 3)\n",
    "        pred = np.polyval(pars, V[i])\n",
    "        t_interp[i] = pred\n",
    "    \n",
    "    \n",
    "    return t_interp"
   ]
  },
  {
   "cell_type": "code",
   "execution_count": 411,
   "id": "e6fc8633",
   "metadata": {},
   "outputs": [
    {
     "name": "stderr",
     "output_type": "stream",
     "text": [
      "<ipython-input-411-b4af578eb932>:2: RankWarning: Polyfit may be poorly conditioned\n",
      "  t_try = lakeshore(np.linspace(voltage[1], voltage[-2]), data)\n"
     ]
    },
    {
     "data": {
      "text/plain": [
       "[<matplotlib.lines.Line2D at 0x11bfcbd00>]"
      ]
     },
     "execution_count": 411,
     "metadata": {},
     "output_type": "execute_result"
    },
    {
     "data": {
      "image/png": "[encoded data removed]",
      "text/plain": [
       "<Figure size 432x288 with 1 Axes>"
      ]
     },
     "metadata": {
      "needs_background": "light"
     },
     "output_type": "display_data"
    }
   ],
   "source": [
    "v_try = np.linspace(voltage[1], voltage[-2])\n",
    "t_try = lakeshore(np.linspace(voltage[1], voltage[-2]), data)\n",
    "plt.plot(v_try, t_try)\n",
    "plt.plot(voltage, temperature, '.k', alpha = 0.5)"
   ]
  },
  {
   "cell_type": "code",
   "execution_count": 299,
   "id": "c0f931c5",
   "metadata": {},
   "outputs": [
    {
     "data": {
      "text/plain": [
       "(array([30.,  8.,  7.,  6.,  3.,  4., 12., 20.,  3., 50.]),\n",
       " array([-0.023939 , -0.0216751, -0.0194112, -0.0171473, -0.0148834,\n",
       "        -0.0126195, -0.0103556, -0.0080917, -0.0058278, -0.0035639,\n",
       "        -0.0013   ]),\n",
       " <BarContainer object of 10 artists>)"
      ]
     },
     "execution_count": 299,
     "metadata": {},
     "output_type": "execute_result"
    },
    {
     "data": {
      "image/png": "[encoded data removed]",
      "text/plain": [
       "<Figure size 432x288 with 1 Axes>"
      ]
     },
     "metadata": {
      "needs_background": "light"
     },
     "output_type": "display_data"
    }
   ],
   "source": [
    "plt.hist(np.diff(voltage))"
   ]
  },
  {
   "cell_type": "code",
   "execution_count": 287,
   "id": "8e2d9a25",
   "metadata": {},
   "outputs": [
    {
     "data": {
      "text/plain": [
       "50"
      ]
     },
     "execution_count": 287,
     "metadata": {},
     "output_type": "execute_result"
    }
   ],
   "source": [
    "len(np.linspace(voltage[1], voltage[-2]))"
   ]
  },
  {
   "cell_type": "code",
   "execution_count": 264,
   "id": "4c85a5b2",
   "metadata": {},
   "outputs": [],
   "source": [
    "V = np.array([0.8])"
   ]
  },
  {
   "cell_type": "code",
   "execution_count": 265,
   "id": "382a9d5e",
   "metadata": {},
   "outputs": [
    {
     "data": {
      "text/plain": [
       "array([0.8])"
      ]
     },
     "execution_count": 265,
     "metadata": {},
     "output_type": "execute_result"
    }
   ],
   "source": [
    "V"
   ]
  },
  {
   "cell_type": "code",
   "execution_count": 266,
   "id": "b19dea9e",
   "metadata": {},
   "outputs": [],
   "source": [
    "t_interp = np.zeros(len(V))"
   ]
  },
  {
   "cell_type": "code",
   "execution_count": 267,
   "id": "3776a4cb",
   "metadata": {},
   "outputs": [
    {
     "data": {
      "text/plain": [
       "array([0.])"
      ]
     },
     "execution_count": 267,
     "metadata": {},
     "output_type": "execute_result"
    }
   ],
   "source": [
    "t_interp"
   ]
  },
  {
   "cell_type": "code",
   "execution_count": 270,
   "id": "67700c26",
   "metadata": {},
   "outputs": [],
   "source": [
    "for i in range(len(V)):\n",
    "    ind = np.max(np.where(V[i] >= voltage))"
   ]
  },
  {
   "cell_type": "code",
   "execution_count": 272,
   "id": "779f21a3",
   "metadata": {},
   "outputs": [
    {
     "data": {
      "text/plain": [
       "(array([112, 113, 114, 115, 116, 117, 118, 119, 120, 121, 122, 123, 124,\n",
       "        125, 126, 127, 128, 129, 130, 131, 132, 133, 134, 135, 136, 137,\n",
       "        138, 139, 140, 141, 142, 143]),)"
      ]
     },
     "execution_count": 272,
     "metadata": {},
     "output_type": "execute_result"
    }
   ],
   "source": [
    "np.where(V[0] >= voltage)"
   ]
  },
  {
   "cell_type": "code",
   "execution_count": 277,
   "id": "b3a21d1c",
   "metadata": {},
   "outputs": [
    {
     "data": {
      "text/plain": [
       "array([0.090681, 0.112553, 0.13548 , 0.15901 , 0.182832, 0.206758,\n",
       "       0.230697, 0.254592, 0.278416, 0.302161, 0.325839, 0.349453,\n",
       "       0.373002, 0.396503, 0.41996 , 0.443371, 0.46676 , 0.490106,\n",
       "       0.513361, 0.536542, 0.559639, 0.582637, 0.605528, 0.621141,\n",
       "       0.628302, 0.650949, 0.673462, 0.695834, 0.718054, 0.740115,\n",
       "       0.762007, 0.78372 , 0.805242, 0.82656 , 0.847659, 0.868518,\n",
       "       0.889114, 0.909416, 0.92939 , 0.949   , 0.968209, 0.986974,\n",
       "       1.005244, 1.014181, 1.022984, 1.027594, 1.031651, 1.040183,\n",
       "       1.048584, 1.056862, 1.060141, 1.063403, 1.06665 , 1.069881,\n",
       "       1.073099, 1.076303, 1.079492, 1.082669, 1.085842, 1.089024,\n",
       "       1.090627, 1.092244, 1.093878, 1.095534, 1.097216, 1.09893 ,\n",
       "       1.100681, 1.102476, 1.104324, 1.106244, 1.108261, 1.110421,\n",
       "       1.11281 , 1.115658, 1.119448, 1.125923, 1.140817, 1.162797,\n",
       "       1.181548, 1.197748, 1.20548 , 1.21311 , 1.2207  , 1.2283  ,\n",
       "       1.23596 , 1.24372 , 1.25161 , 1.25967 , 1.26794 , 1.27645 ,\n",
       "       1.28526 , 1.29439 , 1.3039  , 1.31381 , 1.32416 , 1.33499 ,\n",
       "       1.34632 , 1.3582  , 1.37065 , 1.38373 , 1.39751 , 1.41207 ,\n",
       "       1.42747 , 1.44374 , 1.46086 , 1.47868 , 1.49698 , 1.51541 ,\n",
       "       1.52273 , 1.53    , 1.53721 , 1.54436 , 1.55145 , 1.55845 ,\n",
       "       1.56533 , 1.57202 , 1.57848 , 1.58465 , 1.58764 , 1.59057 ,\n",
       "       1.59344 , 1.59626 , 1.59902 , 1.60173 , 1.60438 , 1.60697 ,\n",
       "       1.60951 , 1.612   , 1.61445 , 1.61687 , 1.61928 , 1.62166 ,\n",
       "       1.624   , 1.62629 , 1.62852 , 1.63067 , 1.63274 , 1.63472 ,\n",
       "       1.6366  , 1.63837 , 1.64003 , 1.64157 , 1.64299 , 1.64429 ])"
      ]
     },
     "execution_count": 277,
     "metadata": {},
     "output_type": "execute_result"
    }
   ],
   "source": [
    "voltage[::-1]"
   ]
  },
  {
   "cell_type": "markdown",
   "id": "431449bd",
   "metadata": {},
   "source": [
    "4)"
   ]
  },
  {
   "cell_type": "code",
   "execution_count": 300,
   "id": "eb71a2eb",
   "metadata": {},
   "outputs": [],
   "source": [
    "x_true = np.linspace(-np.pi/2, np.pi/2, 10)\n",
    "y_true = np.cos(x_true)"
   ]
  },
  {
   "cell_type": "code",
   "execution_count": 302,
   "id": "ca4d0cd2",
   "metadata": {},
   "outputs": [
    {
     "data": {
      "text/plain": [
       "[<matplotlib.lines.Line2D at 0x11a32ee80>]"
      ]
     },
     "execution_count": 302,
     "metadata": {},
     "output_type": "execute_result"
    },
    {
     "data": {
      "image/png": "[encoded data removed]",
      "text/plain": [
       "<Figure size 432x288 with 1 Axes>"
      ]
     },
     "metadata": {
      "needs_background": "light"
     },
     "output_type": "display_data"
    }
   ],
   "source": [
    "plt.plot(x_true, y_true, '.k')"
   ]
  },
  {
   "cell_type": "code",
   "execution_count": 376,
   "id": "70724453",
   "metadata": {},
   "outputs": [],
   "source": [
    "def cubic_spline_interp(x_interp, x, y):\n",
    "    \n",
    "    if type(x_interp) == type(np.array([])):\n",
    "        pass\n",
    "    else: \n",
    "        x_interp = np.array([x_interp])\n",
    "     \n",
    "    y_interp = np.zeros(len(x_interp))\n",
    "    \n",
    "    for i in range(len(x_interp)):    \n",
    "        ind = np.max(np.where(x_interp[i] >= x)[0])\n",
    "        if ind == 0:\n",
    "            x_use = x[0:ind + 3]\n",
    "            y_use = y[0:ind + 3]\n",
    "        else:    \n",
    "            x_use = x[ind - 1:ind + 3]\n",
    "            y_use = y[ind - 1:ind + 3]\n",
    "        \n",
    "        pars = np.polyfit(x_use, y_use, 3)\n",
    "        pred = np.polyval(pars, x_interp[i])\n",
    "        y_interp[i] = pred\n",
    "    \n",
    "    \n",
    "    return y_interp"
   ]
  },
  {
   "cell_type": "code",
   "execution_count": 402,
   "id": "a0ff02ab",
   "metadata": {},
   "outputs": [
    {
     "name": "stderr",
     "output_type": "stream",
     "text": [
      "<ipython-input-402-ca54830991e7>:2: RankWarning: Polyfit may be poorly conditioned\n",
      "  y_try = cubic_spline_interp(x_try, x_true, y_true)\n",
      "<ipython-input-402-ca54830991e7>:2: RankWarning: Polyfit may be poorly conditioned\n",
      "  y_try = cubic_spline_interp(x_try, x_true, y_true)\n",
      "<ipython-input-402-ca54830991e7>:2: RankWarning: Polyfit may be poorly conditioned\n",
      "  y_try = cubic_spline_interp(x_try, x_true, y_true)\n"
     ]
    }
   ],
   "source": [
    "x_try = x_true\n",
    "y_try = cubic_spline_interp(x_try, x_true, y_true)"
   ]
  },
  {
   "cell_type": "code",
   "execution_count": 403,
   "id": "9d8629cb",
   "metadata": {},
   "outputs": [
    {
     "data": {
      "text/plain": [
       "[<matplotlib.lines.Line2D at 0x11bba1dc0>]"
      ]
     },
     "execution_count": 403,
     "metadata": {},
     "output_type": "execute_result"
    },
    {
     "data": {
      "image/png": "[encoded data removed]",
      "text/plain": [
       "<Figure size 432x288 with 1 Axes>"
      ]
     },
     "metadata": {
      "needs_background": "light"
     },
     "output_type": "display_data"
    }
   ],
   "source": [
    "plt.plot(x_try, y_try - np.cos(x_try))"
   ]
  },
  {
   "cell_type": "code",
   "execution_count": 404,
   "id": "d455b732",
   "metadata": {},
   "outputs": [
    {
     "data": {
      "text/plain": [
       "[<matplotlib.lines.Line2D at 0x11bc31910>]"
      ]
     },
     "execution_count": 404,
     "metadata": {},
     "output_type": "execute_result"
    },
    {
     "data": {
      "image/png": "[encoded data removed]",
      "text/plain": [
       "<Figure size 432x288 with 1 Axes>"
      ]
     },
     "metadata": {
      "needs_background": "light"
     },
     "output_type": "display_data"
    }
   ],
   "source": [
    "plt.plot(x_try, y_try, '.k')\n",
    "plt.plot(x_true, y_true, '.r')"
   ]
  },
  {
   "cell_type": "code",
   "execution_count": 405,
   "id": "2d184294",
   "metadata": {},
   "outputs": [
    {
     "data": {
      "text/plain": [
       "array([-6.12323400e-17, -1.66533454e-16,  1.11022302e-16, -1.11022302e-15,\n",
       "        3.33066907e-16, -4.44089210e-16, -5.55111512e-16,  2.22044605e-16,\n",
       "       -1.66533454e-16, -1.72254642e-16])"
      ]
     },
     "execution_count": 405,
     "metadata": {},
     "output_type": "execute_result"
    }
   ],
   "source": [
    "y_try - np.cos(x_try)"
   ]
  },
  {
   "cell_type": "code",
   "execution_count": null,
   "id": "5e176b5d",
   "metadata": {},
   "outputs": [],
   "source": []
  }
 ],
 "metadata": {
  "kernelspec": {
   "display_name": "Python 3",
   "language": "python",
   "name": "python3"
  },
  "language_info": {
   "codemirror_mode": {
    "name": "ipython",
    "version": 3
   },
   "file_extension": ".py",
   "mimetype": "text/x-python",
   "name": "python",
   "nbconvert_exporter": "python",
   "pygments_lexer": "ipython3",
   "version": "3.8.8"
  }
 },
 "nbformat": 4,
 "nbformat_minor": 5
}
