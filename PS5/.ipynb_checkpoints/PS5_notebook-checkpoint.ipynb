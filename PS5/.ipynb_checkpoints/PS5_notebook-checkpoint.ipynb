{
 "cells": [
  {
   "cell_type": "markdown",
   "id": "55a06ee1",
   "metadata": {},
   "source": [
    "### Patrick Horlaville (260931235) - Problem Set 5 - PHYS 512 : Computational Physics with Applications"
   ]
  },
  {
   "cell_type": "markdown",
   "id": "4606640a",
   "metadata": {},
   "source": [
    "Prof: Jon Sievers. TAs: Marcus Merryfield, Rigel Zifkin, Daniel Coelho"
   ]
  },
  {
   "cell_type": "code",
   "execution_count": null,
   "id": "5eb557d2",
   "metadata": {},
   "outputs": [],
   "source": []
  }
 ],
 "metadata": {
  "kernelspec": {
   "display_name": "Python 3",
   "language": "python",
   "name": "python3"
  },
  "language_info": {
   "codemirror_mode": {
    "name": "ipython",
    "version": 3
   },
   "file_extension": ".py",
   "mimetype": "text/x-python",
   "name": "python",
   "nbconvert_exporter": "python",
   "pygments_lexer": "ipython3",
   "version": "3.8.8"
  }
 },
 "nbformat": 4,
 "nbformat_minor": 5
}
